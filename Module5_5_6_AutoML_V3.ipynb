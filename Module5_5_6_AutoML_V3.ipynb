{
  "nbformat": 4,
  "nbformat_minor": 0,
  "metadata": {
    "kernelspec": {
      "display_name": "Python 3",
      "language": "python",
      "name": "python3"
    },
    "language_info": {
      "codemirror_mode": {
        "name": "ipython",
        "version": 3
      },
      "file_extension": ".py",
      "mimetype": "text/x-python",
      "name": "python",
      "nbconvert_exporter": "python",
      "pygments_lexer": "ipython3",
      "version": "3.7.3"
    },
    "colab": {
      "name": "5.6 AutoML_V3.ipynb",
      "provenance": [],
      "collapsed_sections": [],
      "toc_visible": true,
      "include_colab_link": true
    }
  },
  "cells": [
    {
      "cell_type": "markdown",
      "metadata": {
        "id": "view-in-github",
        "colab_type": "text"
      },
      "source": [
        "<a href=\"https://colab.research.google.com/github/yuanfeiwo/test-firstrepository/blob/master/Module5_5_6_AutoML_V3.ipynb\" target=\"_parent\"><img src=\"https://colab.research.google.com/assets/colab-badge.svg\" alt=\"Open In Colab\"/></a>"
      ]
    },
    {
      "cell_type": "code",
      "metadata": {
        "id": "vz1Ynr-jP6Nn"
      },
      "source": [
        "# Module: Data Science in Finance, AutoML \n",
        "# Version 1.0\n",
        "# Topic : AutoML - auto-sklearn\n",
        "# Example source: https://www.kaggle.com/wendykan/lending-club-loan-data\n",
        "#####################################################################\n",
        "# For support or questions, contact QuantUniversity at\n",
        "# info@qusandbox.com\n",
        "# Copyright 2020 QuantUniversity LLC.\n",
        "#####################################################################"
      ],
      "execution_count": 1,
      "outputs": []
    },
    {
      "cell_type": "markdown",
      "metadata": {
        "id": "G1LN4UsMP6Nr"
      },
      "source": [
        "# AutoML with auto-sklearn\n",
        "\n",
        "AutoML is the process of automating an end-to-end Machine Learning pipeline. [auto-sklearn](https://automl.github.io/auto-sklearn/stable/index.html) specifically uses Bayesian optimization, meta-learning and ensemble construction to optimise these pipelines by selecting the best model and its hyperparamters."
      ]
    },
    {
      "cell_type": "markdown",
      "metadata": {
        "id": "sRA-MorAP6Ns"
      },
      "source": [
        "This notebook explains the basic workflow involved in an AutoML pipeline with auto-sklearn"
      ]
    },
    {
      "cell_type": "markdown",
      "metadata": {
        "id": "2SdMnSykP6Ns"
      },
      "source": [
        "### Imports"
      ]
    },
    {
      "cell_type": "code",
      "metadata": {
        "id": "6Fhe9BpIP_x7",
        "colab": {
          "base_uri": "https://localhost:8080/"
        },
        "outputId": "381fb7dc-6ba7-4444-ba20-6ed722e5665e"
      },
      "source": [
        "!sudo apt-get install build-essential swig\n",
        "!curl https://raw.githubusercontent.com/automl/auto-sklearn/master/requirements.txt | xargs -n 1 -L 1 pip install\n",
        "!pip install auto-sklearn\n",
        "!pip install scikit-learn==0.23.0"
      ],
      "execution_count": 2,
      "outputs": [
        {
          "output_type": "stream",
          "text": [
            "Reading package lists... Done\n",
            "Building dependency tree       \n",
            "Reading state information... Done\n",
            "build-essential is already the newest version (12.4ubuntu1).\n",
            "swig is already the newest version (3.0.12-1).\n",
            "0 upgraded, 0 newly installed, 0 to remove and 14 not upgraded.\n",
            "  % Total    % Received % Xferd  Average Speed   Time    Time     Time  Current\n",
            "                                 Dload  Upload   Total   Spent    Left  Speed\n",
            "100   205  100   205    0     0    791      0 --:--:-- --:--:-- --:--:--   794\n",
            "Requirement already satisfied: setuptools in /usr/local/lib/python3.6/dist-packages (50.3.2)\n",
            "Requirement already satisfied: numpy>=1.9.0 in /usr/local/lib/python3.6/dist-packages (1.18.5)\n",
            "Requirement already satisfied: scipy>=0.14.1 in /usr/local/lib/python3.6/dist-packages (1.4.1)\n",
            "Requirement already satisfied: numpy>=1.13.3 in /usr/local/lib/python3.6/dist-packages (from scipy>=0.14.1) (1.18.5)\n",
            "Requirement already satisfied: joblib in /usr/local/lib/python3.6/dist-packages (0.17.0)\n",
            "Requirement already satisfied: scikit-learn<0.24,>=0.23.0 in /usr/local/lib/python3.6/dist-packages (0.23.0)\n",
            "Requirement already satisfied: numpy>=1.13.3 in /usr/local/lib/python3.6/dist-packages (from scikit-learn<0.24,>=0.23.0) (1.18.5)\n",
            "Requirement already satisfied: joblib>=0.11 in /usr/local/lib/python3.6/dist-packages (from scikit-learn<0.24,>=0.23.0) (0.17.0)\n",
            "Requirement already satisfied: scipy>=0.19.1 in /usr/local/lib/python3.6/dist-packages (from scikit-learn<0.24,>=0.23.0) (1.4.1)\n",
            "Requirement already satisfied: threadpoolctl>=2.0.0 in /usr/local/lib/python3.6/dist-packages (from scikit-learn<0.24,>=0.23.0) (2.1.0)\n",
            "Requirement already satisfied: dask in /usr/local/lib/python3.6/dist-packages (2020.12.0)\n",
            "Requirement already satisfied: pyyaml in /usr/local/lib/python3.6/dist-packages (from dask) (3.13)\n",
            "Requirement already satisfied: distributed>=2.2.0 in /usr/local/lib/python3.6/dist-packages (2020.12.0)\n",
            "Requirement already satisfied: pyyaml in /usr/local/lib/python3.6/dist-packages (from distributed>=2.2.0) (3.13)\n",
            "Requirement already satisfied: dask>=2020.12.0 in /usr/local/lib/python3.6/dist-packages (from distributed>=2.2.0) (2020.12.0)\n",
            "Requirement already satisfied: toolz>=0.8.2 in /usr/local/lib/python3.6/dist-packages (from distributed>=2.2.0) (0.11.1)\n",
            "Requirement already satisfied: psutil>=5.0 in /usr/local/lib/python3.6/dist-packages (from distributed>=2.2.0) (5.4.8)\n",
            "Requirement already satisfied: contextvars; python_version < \"3.7\" in /usr/local/lib/python3.6/dist-packages (from distributed>=2.2.0) (2.4)\n",
            "Requirement already satisfied: setuptools in /usr/local/lib/python3.6/dist-packages (from distributed>=2.2.0) (50.3.2)\n",
            "Requirement already satisfied: msgpack>=0.6.0 in /usr/local/lib/python3.6/dist-packages (from distributed>=2.2.0) (1.0.0)\n",
            "Requirement already satisfied: zict>=0.1.3 in /usr/local/lib/python3.6/dist-packages (from distributed>=2.2.0) (2.0.0)\n",
            "Requirement already satisfied: click>=6.6 in /usr/local/lib/python3.6/dist-packages (from distributed>=2.2.0) (7.1.2)\n",
            "Requirement already satisfied: tblib>=1.6.0 in /usr/local/lib/python3.6/dist-packages (from distributed>=2.2.0) (1.7.0)\n",
            "Requirement already satisfied: cloudpickle>=1.5.0 in /usr/local/lib/python3.6/dist-packages (from distributed>=2.2.0) (1.6.0)\n",
            "Requirement already satisfied: sortedcontainers!=2.0.0,!=2.0.1 in /usr/local/lib/python3.6/dist-packages (from distributed>=2.2.0) (2.3.0)\n",
            "Requirement already satisfied: tornado>=5; python_version < \"3.8\" in /usr/local/lib/python3.6/dist-packages (from distributed>=2.2.0) (5.1.1)\n",
            "Requirement already satisfied: immutables>=0.9 in /usr/local/lib/python3.6/dist-packages (from contextvars; python_version < \"3.7\"->distributed>=2.2.0) (0.14)\n",
            "Requirement already satisfied: heapdict in /usr/local/lib/python3.6/dist-packages (from zict>=0.1.3->distributed>=2.2.0) (1.0.1)\n",
            "Requirement already satisfied: pyyaml in /usr/local/lib/python3.6/dist-packages (3.13)\n",
            "Requirement already satisfied: pandas>=1.0 in /usr/local/lib/python3.6/dist-packages (1.1.5)\n",
            "Requirement already satisfied: pytz>=2017.2 in /usr/local/lib/python3.6/dist-packages (from pandas>=1.0) (2018.9)\n",
            "Requirement already satisfied: numpy>=1.15.4 in /usr/local/lib/python3.6/dist-packages (from pandas>=1.0) (1.18.5)\n",
            "Requirement already satisfied: python-dateutil>=2.7.3 in /usr/local/lib/python3.6/dist-packages (from pandas>=1.0) (2.8.1)\n",
            "Requirement already satisfied: six>=1.5 in /usr/local/lib/python3.6/dist-packages (from python-dateutil>=2.7.3->pandas>=1.0) (1.15.0)\n",
            "Requirement already satisfied: liac-arff in /usr/local/lib/python3.6/dist-packages (2.5.0)\n",
            "Requirement already satisfied: ConfigSpace<0.5,>=0.4.14 in /usr/local/lib/python3.6/dist-packages (0.4.16)\n",
            "Requirement already satisfied: pyparsing in /usr/local/lib/python3.6/dist-packages (from ConfigSpace<0.5,>=0.4.14) (2.4.7)\n",
            "Requirement already satisfied: numpy in /usr/local/lib/python3.6/dist-packages (from ConfigSpace<0.5,>=0.4.14) (1.18.5)\n",
            "Requirement already satisfied: cython in /usr/local/lib/python3.6/dist-packages (from ConfigSpace<0.5,>=0.4.14) (0.29.21)\n",
            "Requirement already satisfied: pynisher>=0.6.3 in /usr/local/lib/python3.6/dist-packages (0.6.3)\n",
            "Requirement already satisfied: docutils>=0.3 in /usr/local/lib/python3.6/dist-packages (from pynisher>=0.6.3) (0.16)\n",
            "Requirement already satisfied: setuptools in /usr/local/lib/python3.6/dist-packages (from pynisher>=0.6.3) (50.3.2)\n",
            "Requirement already satisfied: psutil in /usr/local/lib/python3.6/dist-packages (from pynisher>=0.6.3) (5.4.8)\n",
            "Requirement already satisfied: pyrfr<0.9,>=0.7 in /usr/local/lib/python3.6/dist-packages (0.8.0)\n",
            "Requirement already satisfied: smac<0.14,>=0.13.1 in /usr/local/lib/python3.6/dist-packages (0.13.1)\n",
            "Requirement already satisfied: psutil in /usr/local/lib/python3.6/dist-packages (from smac<0.14,>=0.13.1) (5.4.8)\n",
            "Requirement already satisfied: lazy-import in /usr/local/lib/python3.6/dist-packages (from smac<0.14,>=0.13.1) (0.2.2)\n",
            "Requirement already satisfied: dask in /usr/local/lib/python3.6/dist-packages (from smac<0.14,>=0.13.1) (2020.12.0)\n",
            "Requirement already satisfied: ConfigSpace<0.5,>=0.4.14 in /usr/local/lib/python3.6/dist-packages (from smac<0.14,>=0.13.1) (0.4.16)\n",
            "Requirement already satisfied: scikit-learn>=0.22.0 in /usr/local/lib/python3.6/dist-packages (from smac<0.14,>=0.13.1) (0.23.0)\n",
            "Requirement already satisfied: pynisher>=0.4.1 in /usr/local/lib/python3.6/dist-packages (from smac<0.14,>=0.13.1) (0.6.3)\n",
            "Requirement already satisfied: numpy>=1.7.1 in /usr/local/lib/python3.6/dist-packages (from smac<0.14,>=0.13.1) (1.18.5)\n",
            "Requirement already satisfied: joblib in /usr/local/lib/python3.6/dist-packages (from smac<0.14,>=0.13.1) (0.17.0)\n",
            "Requirement already satisfied: pyrfr>=0.8.0 in /usr/local/lib/python3.6/dist-packages (from smac<0.14,>=0.13.1) (0.8.0)\n",
            "Requirement already satisfied: distributed in /usr/local/lib/python3.6/dist-packages (from smac<0.14,>=0.13.1) (2020.12.0)\n",
            "Requirement already satisfied: scipy>=0.18.1 in /usr/local/lib/python3.6/dist-packages (from smac<0.14,>=0.13.1) (1.4.1)\n",
            "Requirement already satisfied: six in /usr/local/lib/python3.6/dist-packages (from lazy-import->smac<0.14,>=0.13.1) (1.15.0)\n",
            "Requirement already satisfied: pyyaml in /usr/local/lib/python3.6/dist-packages (from dask->smac<0.14,>=0.13.1) (3.13)\n",
            "Requirement already satisfied: pyparsing in /usr/local/lib/python3.6/dist-packages (from ConfigSpace<0.5,>=0.4.14->smac<0.14,>=0.13.1) (2.4.7)\n",
            "Requirement already satisfied: cython in /usr/local/lib/python3.6/dist-packages (from ConfigSpace<0.5,>=0.4.14->smac<0.14,>=0.13.1) (0.29.21)\n",
            "Requirement already satisfied: threadpoolctl>=2.0.0 in /usr/local/lib/python3.6/dist-packages (from scikit-learn>=0.22.0->smac<0.14,>=0.13.1) (2.1.0)\n",
            "Requirement already satisfied: setuptools in /usr/local/lib/python3.6/dist-packages (from pynisher>=0.4.1->smac<0.14,>=0.13.1) (50.3.2)\n",
            "Requirement already satisfied: docutils>=0.3 in /usr/local/lib/python3.6/dist-packages (from pynisher>=0.4.1->smac<0.14,>=0.13.1) (0.16)\n",
            "Requirement already satisfied: zict>=0.1.3 in /usr/local/lib/python3.6/dist-packages (from distributed->smac<0.14,>=0.13.1) (2.0.0)\n",
            "Requirement already satisfied: click>=6.6 in /usr/local/lib/python3.6/dist-packages (from distributed->smac<0.14,>=0.13.1) (7.1.2)\n",
            "Requirement already satisfied: sortedcontainers!=2.0.0,!=2.0.1 in /usr/local/lib/python3.6/dist-packages (from distributed->smac<0.14,>=0.13.1) (2.3.0)\n",
            "Requirement already satisfied: contextvars; python_version < \"3.7\" in /usr/local/lib/python3.6/dist-packages (from distributed->smac<0.14,>=0.13.1) (2.4)\n",
            "Requirement already satisfied: msgpack>=0.6.0 in /usr/local/lib/python3.6/dist-packages (from distributed->smac<0.14,>=0.13.1) (1.0.0)\n",
            "Requirement already satisfied: tornado>=5; python_version < \"3.8\" in /usr/local/lib/python3.6/dist-packages (from distributed->smac<0.14,>=0.13.1) (5.1.1)\n",
            "Requirement already satisfied: tblib>=1.6.0 in /usr/local/lib/python3.6/dist-packages (from distributed->smac<0.14,>=0.13.1) (1.7.0)\n",
            "Requirement already satisfied: toolz>=0.8.2 in /usr/local/lib/python3.6/dist-packages (from distributed->smac<0.14,>=0.13.1) (0.11.1)\n",
            "Requirement already satisfied: cloudpickle>=1.5.0 in /usr/local/lib/python3.6/dist-packages (from distributed->smac<0.14,>=0.13.1) (1.6.0)\n",
            "Requirement already satisfied: heapdict in /usr/local/lib/python3.6/dist-packages (from zict>=0.1.3->distributed->smac<0.14,>=0.13.1) (1.0.1)\n",
            "Requirement already satisfied: immutables>=0.9 in /usr/local/lib/python3.6/dist-packages (from contextvars; python_version < \"3.7\"->distributed->smac<0.14,>=0.13.1) (0.14)\n",
            "Requirement already satisfied: auto-sklearn in /usr/local/lib/python3.6/dist-packages (0.12.0)\n",
            "Requirement already satisfied: pandas>=1.0 in /usr/local/lib/python3.6/dist-packages (from auto-sklearn) (1.1.5)\n",
            "Requirement already satisfied: dask in /usr/local/lib/python3.6/dist-packages (from auto-sklearn) (2020.12.0)\n",
            "Requirement already satisfied: pyrfr<0.9,>=0.7 in /usr/local/lib/python3.6/dist-packages (from auto-sklearn) (0.8.0)\n",
            "Requirement already satisfied: joblib in /usr/local/lib/python3.6/dist-packages (from auto-sklearn) (0.17.0)\n",
            "Requirement already satisfied: numpy>=1.9.0 in /usr/local/lib/python3.6/dist-packages (from auto-sklearn) (1.18.5)\n",
            "Requirement already satisfied: liac-arff in /usr/local/lib/python3.6/dist-packages (from auto-sklearn) (2.5.0)\n",
            "Requirement already satisfied: smac<0.14,>=0.13.1 in /usr/local/lib/python3.6/dist-packages (from auto-sklearn) (0.13.1)\n",
            "Requirement already satisfied: pyyaml in /usr/local/lib/python3.6/dist-packages (from auto-sklearn) (3.13)\n",
            "Requirement already satisfied: ConfigSpace<0.5,>=0.4.14 in /usr/local/lib/python3.6/dist-packages (from auto-sklearn) (0.4.16)\n",
            "Requirement already satisfied: setuptools in /usr/local/lib/python3.6/dist-packages (from auto-sklearn) (50.3.2)\n",
            "Requirement already satisfied: distributed>=2.2.0 in /usr/local/lib/python3.6/dist-packages (from auto-sklearn) (2020.12.0)\n",
            "Requirement already satisfied: pynisher>=0.6.3 in /usr/local/lib/python3.6/dist-packages (from auto-sklearn) (0.6.3)\n",
            "Requirement already satisfied: scipy>=0.14.1 in /usr/local/lib/python3.6/dist-packages (from auto-sklearn) (1.4.1)\n",
            "Requirement already satisfied: scikit-learn<0.24,>=0.23.0 in /usr/local/lib/python3.6/dist-packages (from auto-sklearn) (0.23.0)\n",
            "Requirement already satisfied: python-dateutil>=2.7.3 in /usr/local/lib/python3.6/dist-packages (from pandas>=1.0->auto-sklearn) (2.8.1)\n",
            "Requirement already satisfied: pytz>=2017.2 in /usr/local/lib/python3.6/dist-packages (from pandas>=1.0->auto-sklearn) (2018.9)\n",
            "Requirement already satisfied: psutil in /usr/local/lib/python3.6/dist-packages (from smac<0.14,>=0.13.1->auto-sklearn) (5.4.8)\n",
            "Requirement already satisfied: lazy-import in /usr/local/lib/python3.6/dist-packages (from smac<0.14,>=0.13.1->auto-sklearn) (0.2.2)\n",
            "Requirement already satisfied: pyparsing in /usr/local/lib/python3.6/dist-packages (from ConfigSpace<0.5,>=0.4.14->auto-sklearn) (2.4.7)\n",
            "Requirement already satisfied: cython in /usr/local/lib/python3.6/dist-packages (from ConfigSpace<0.5,>=0.4.14->auto-sklearn) (0.29.21)\n",
            "Requirement already satisfied: sortedcontainers!=2.0.0,!=2.0.1 in /usr/local/lib/python3.6/dist-packages (from distributed>=2.2.0->auto-sklearn) (2.3.0)\n",
            "Requirement already satisfied: cloudpickle>=1.5.0 in /usr/local/lib/python3.6/dist-packages (from distributed>=2.2.0->auto-sklearn) (1.6.0)\n",
            "Requirement already satisfied: contextvars; python_version < \"3.7\" in /usr/local/lib/python3.6/dist-packages (from distributed>=2.2.0->auto-sklearn) (2.4)\n",
            "Requirement already satisfied: toolz>=0.8.2 in /usr/local/lib/python3.6/dist-packages (from distributed>=2.2.0->auto-sklearn) (0.11.1)\n",
            "Requirement already satisfied: zict>=0.1.3 in /usr/local/lib/python3.6/dist-packages (from distributed>=2.2.0->auto-sklearn) (2.0.0)\n",
            "Requirement already satisfied: msgpack>=0.6.0 in /usr/local/lib/python3.6/dist-packages (from distributed>=2.2.0->auto-sklearn) (1.0.0)\n",
            "Requirement already satisfied: tblib>=1.6.0 in /usr/local/lib/python3.6/dist-packages (from distributed>=2.2.0->auto-sklearn) (1.7.0)\n",
            "Requirement already satisfied: tornado>=5; python_version < \"3.8\" in /usr/local/lib/python3.6/dist-packages (from distributed>=2.2.0->auto-sklearn) (5.1.1)\n",
            "Requirement already satisfied: click>=6.6 in /usr/local/lib/python3.6/dist-packages (from distributed>=2.2.0->auto-sklearn) (7.1.2)\n",
            "Requirement already satisfied: docutils>=0.3 in /usr/local/lib/python3.6/dist-packages (from pynisher>=0.6.3->auto-sklearn) (0.16)\n",
            "Requirement already satisfied: threadpoolctl>=2.0.0 in /usr/local/lib/python3.6/dist-packages (from scikit-learn<0.24,>=0.23.0->auto-sklearn) (2.1.0)\n",
            "Requirement already satisfied: six>=1.5 in /usr/local/lib/python3.6/dist-packages (from python-dateutil>=2.7.3->pandas>=1.0->auto-sklearn) (1.15.0)\n",
            "Requirement already satisfied: immutables>=0.9 in /usr/local/lib/python3.6/dist-packages (from contextvars; python_version < \"3.7\"->distributed>=2.2.0->auto-sklearn) (0.14)\n",
            "Requirement already satisfied: heapdict in /usr/local/lib/python3.6/dist-packages (from zict>=0.1.3->distributed>=2.2.0->auto-sklearn) (1.0.1)\n",
            "Requirement already satisfied: scikit-learn==0.23.0 in /usr/local/lib/python3.6/dist-packages (0.23.0)\n",
            "Requirement already satisfied: numpy>=1.13.3 in /usr/local/lib/python3.6/dist-packages (from scikit-learn==0.23.0) (1.18.5)\n",
            "Requirement already satisfied: threadpoolctl>=2.0.0 in /usr/local/lib/python3.6/dist-packages (from scikit-learn==0.23.0) (2.1.0)\n",
            "Requirement already satisfied: joblib>=0.11 in /usr/local/lib/python3.6/dist-packages (from scikit-learn==0.23.0) (0.17.0)\n",
            "Requirement already satisfied: scipy>=0.19.1 in /usr/local/lib/python3.6/dist-packages (from scikit-learn==0.23.0) (1.4.1)\n"
          ],
          "name": "stdout"
        }
      ]
    },
    {
      "cell_type": "code",
      "metadata": {
        "id": "0qwxBjaeP6Nt"
      },
      "source": [
        "# for numerical analysis and data processing\n",
        "import numpy as np\n",
        "import pandas as pd\n",
        "\n",
        "#AutoML\n",
        "import sklearn.metrics\n",
        "import autosklearn.regression\n",
        "\n",
        "import requests\n",
        "from io import StringIO\n",
        "\n",
        "import warnings\n",
        "warnings.filterwarnings('ignore')"
      ],
      "execution_count": 3,
      "outputs": []
    },
    {
      "cell_type": "markdown",
      "metadata": {
        "id": "GwNK-JLDP6Nx"
      },
      "source": [
        "### Dataset"
      ]
    },
    {
      "cell_type": "markdown",
      "metadata": {
        "id": "Ef6cUyhwP6Nx"
      },
      "source": [
        "The data set is the lending data for lendingclub from August 2011 to December 2011 for some borrowers. The feature descriptions for the data are also provided. Not all the features are required for making predictions, some features are redundant in the original data file. The provided data file is already cleaned and only relevant features are provided. There are two types of features, numerical and categorical."
      ]
    },
    {
      "cell_type": "markdown",
      "metadata": {
        "id": "jGA8FPZrP6Ny"
      },
      "source": [
        "Reading the input data from csv file."
      ]
    },
    {
      "cell_type": "code",
      "metadata": {
        "id": "zoyAjy2XP6Ny",
        "colab": {
          "base_uri": "https://localhost:8080/"
        },
        "outputId": "efa0c4c0-bfe6-4aa0-e262-42c1e237a4b5"
      },
      "source": [
        "orig_url_data='https://drive.google.com//file//d//1yG-JxC1Br3c8u3cfmKQWC9pgz6Pqggw5//view?usp=sharing'\n",
        "file_id = orig_url_data.split('//')[-2]\n",
        "dwn_url='https://drive.google.com//uc?export=download&id=' + file_id\n",
        "url = requests.get(dwn_url).text\n",
        "csv_raw = StringIO(url)\n",
        "df = pd.read_csv(csv_raw)\n",
        "\n",
        "orig_url_description='https://drive.google.com//file//d//1HFd4gKbknC28rHTWysec48NqfB6g3ZHx//view?usp=sharing'\n",
        "file_id = orig_url_description.split('//')[-2]\n",
        "dwn_url='https://drive.google.com//uc?export=download&id=' + file_id\n",
        "url = requests.get(dwn_url).text\n",
        "csv_raw = StringIO(url)\n",
        "df_description = pd.read_excel(dwn_url)\n",
        "\n",
        "\n",
        "del df['issue_d'] # removing issue date as it wont affect the prediction (redundant feature)\n",
        "\n",
        "print (df_description.head())"
      ],
      "execution_count": 4,
      "outputs": [
        {
          "output_type": "stream",
          "text": [
            "               LoanStatNew                                        Description\n",
            "0               addr_state  The state provided by the borrower in the loan...\n",
            "1               annual_inc  The self-reported annual income provided by th...\n",
            "2         annual_inc_joint  The combined self-reported annual income provi...\n",
            "3         application_type  Indicates whether the loan is an individual ap...\n",
            "4  collection_recovery_fee                     post charge off collection fee\n"
          ],
          "name": "stdout"
        }
      ]
    },
    {
      "cell_type": "code",
      "metadata": {
        "id": "BLV7lgAkP6N4",
        "colab": {
          "base_uri": "https://localhost:8080/"
        },
        "outputId": "1a56fa4d-6c4a-4fde-bf5d-e6f12a5c3c24"
      },
      "source": [
        "df.info()\n",
        "feature_types = ['numerical']+['categorical']+(['numerical']*1)+(['categorical']*4)+['categorical']+(['categorical']*3)+(['numerical']*4)"
      ],
      "execution_count": 5,
      "outputs": [
        {
          "output_type": "stream",
          "text": [
            "<class 'pandas.core.frame.DataFrame'>\n",
            "RangeIndex: 9999 entries, 0 to 9998\n",
            "Data columns (total 16 columns):\n",
            " #   Column               Non-Null Count  Dtype  \n",
            "---  ------               --------------  -----  \n",
            " 0   loan_amnt            9999 non-null   int64  \n",
            " 1   term                 9999 non-null   object \n",
            " 2   int_rate             9999 non-null   float64\n",
            " 3   installment          9999 non-null   float64\n",
            " 4   grade                9999 non-null   object \n",
            " 5   sub_grade            9999 non-null   object \n",
            " 6   emp_length           9644 non-null   object \n",
            " 7   home_ownership       9999 non-null   object \n",
            " 8   annual_inc           9999 non-null   float64\n",
            " 9   verification_status  9999 non-null   object \n",
            " 10  purpose              9999 non-null   object \n",
            " 11  addr_state           9999 non-null   object \n",
            " 12  dti                  9999 non-null   float64\n",
            " 13  delinq_2yrs          9999 non-null   int64  \n",
            " 14  inq_last_6mths       9999 non-null   int64  \n",
            " 15  loan_status_Binary   9999 non-null   int64  \n",
            "dtypes: float64(4), int64(4), object(8)\n",
            "memory usage: 1.2+ MB\n"
          ],
          "name": "stdout"
        }
      ]
    },
    {
      "cell_type": "code",
      "metadata": {
        "id": "Ej6Q42wOP6N6"
      },
      "source": [
        "numeric_columns = df.select_dtypes(include=['float64','int64']).columns\n",
        "categorical_columns = df.select_dtypes(include=['object']).columns"
      ],
      "execution_count": 6,
      "outputs": []
    },
    {
      "cell_type": "code",
      "metadata": {
        "id": "cJUMo6tKP6N9"
      },
      "source": [
        "for col in categorical_columns:\n",
        "    df[col] = df[col].astype('category')"
      ],
      "execution_count": 7,
      "outputs": []
    },
    {
      "cell_type": "markdown",
      "metadata": {
        "id": "vpCLvbkgP6OA"
      },
      "source": [
        "#### Dictionary for categorical features."
      ]
    },
    {
      "cell_type": "code",
      "metadata": {
        "id": "ZCxp0Dx_P6OB"
      },
      "source": [
        "categories={}\n",
        "for cat in categorical_columns:\n",
        "    categories[cat] = df[cat].cat.categories.tolist()"
      ],
      "execution_count": 8,
      "outputs": []
    },
    {
      "cell_type": "code",
      "metadata": {
        "id": "vpkKKs4GP6OD"
      },
      "source": [
        "p_categories = df['purpose'].cat.categories.tolist()\n",
        "s_categories = df['addr_state'].cat.categories.tolist()\n",
        "df[categorical_columns] = df[categorical_columns].apply(lambda x: x.cat.codes)"
      ],
      "execution_count": 9,
      "outputs": []
    },
    {
      "cell_type": "code",
      "metadata": {
        "id": "CgzJ16lqP6OF",
        "colab": {
          "base_uri": "https://localhost:8080/"
        },
        "outputId": "614aeeec-b6ed-4d77-994f-6bcecd9b9797"
      },
      "source": [
        "df.columns"
      ],
      "execution_count": 10,
      "outputs": [
        {
          "output_type": "execute_result",
          "data": {
            "text/plain": [
              "Index(['loan_amnt', 'term', 'int_rate', 'installment', 'grade', 'sub_grade',\n",
              "       'emp_length', 'home_ownership', 'annual_inc', 'verification_status',\n",
              "       'purpose', 'addr_state', 'dti', 'delinq_2yrs', 'inq_last_6mths',\n",
              "       'loan_status_Binary'],\n",
              "      dtype='object')"
            ]
          },
          "metadata": {
            "tags": []
          },
          "execution_count": 10
        }
      ]
    },
    {
      "cell_type": "markdown",
      "metadata": {
        "id": "ynagTGuQP6OI"
      },
      "source": [
        "Storing interest rate statistics"
      ]
    },
    {
      "cell_type": "code",
      "metadata": {
        "id": "iMQrmUeWP6OJ",
        "colab": {
          "base_uri": "https://localhost:8080/"
        },
        "outputId": "815c5f86-5a03-435e-8def-7dc92fbab5ba"
      },
      "source": [
        "df.info()"
      ],
      "execution_count": 11,
      "outputs": [
        {
          "output_type": "stream",
          "text": [
            "<class 'pandas.core.frame.DataFrame'>\n",
            "RangeIndex: 9999 entries, 0 to 9998\n",
            "Data columns (total 16 columns):\n",
            " #   Column               Non-Null Count  Dtype  \n",
            "---  ------               --------------  -----  \n",
            " 0   loan_amnt            9999 non-null   int64  \n",
            " 1   term                 9999 non-null   int8   \n",
            " 2   int_rate             9999 non-null   float64\n",
            " 3   installment          9999 non-null   float64\n",
            " 4   grade                9999 non-null   int8   \n",
            " 5   sub_grade            9999 non-null   int8   \n",
            " 6   emp_length           9999 non-null   int8   \n",
            " 7   home_ownership       9999 non-null   int8   \n",
            " 8   annual_inc           9999 non-null   float64\n",
            " 9   verification_status  9999 non-null   int8   \n",
            " 10  purpose              9999 non-null   int8   \n",
            " 11  addr_state           9999 non-null   int8   \n",
            " 12  dti                  9999 non-null   float64\n",
            " 13  delinq_2yrs          9999 non-null   int64  \n",
            " 14  inq_last_6mths       9999 non-null   int64  \n",
            " 15  loan_status_Binary   9999 non-null   int64  \n",
            "dtypes: float64(4), int64(4), int8(8)\n",
            "memory usage: 703.2 KB\n"
          ],
          "name": "stdout"
        }
      ]
    },
    {
      "cell_type": "code",
      "metadata": {
        "id": "XOJaVwzWP6OL",
        "colab": {
          "base_uri": "https://localhost:8080/"
        },
        "outputId": "f0d6be37-4765-465b-d1e6-1d39c5dc43ec"
      },
      "source": [
        "min_rate= df['int_rate'].min()\n",
        "max_rate= df['int_rate'].max()\n",
        "print(min_rate, max_rate, max_rate- min_rate)"
      ],
      "execution_count": 12,
      "outputs": [
        {
          "output_type": "stream",
          "text": [
            "5.42 24.11 18.689999999999998\n"
          ],
          "name": "stdout"
        }
      ]
    },
    {
      "cell_type": "code",
      "metadata": {
        "id": "S0B9gtRJP6OO"
      },
      "source": [
        "df_max = df.max()\n",
        "df_min = df.min()"
      ],
      "execution_count": 13,
      "outputs": []
    },
    {
      "cell_type": "markdown",
      "metadata": {
        "id": "xH9lALdlP6OQ"
      },
      "source": [
        "## Preparing the dataset "
      ]
    },
    {
      "cell_type": "markdown",
      "metadata": {
        "id": "Vxp78hqEP6OQ"
      },
      "source": [
        "The data is split into training and testing data. x represents the input features whereas y represents the output i.e. the interest rate.As a rule of thumb, we split the data into 80% training data and 20% testing or validation data."
      ]
    },
    {
      "cell_type": "code",
      "metadata": {
        "id": "PHTmUHPdP6OR"
      },
      "source": [
        "y = df.iloc[:,df.columns.isin([\"int_rate\"])]\n",
        "x = df.loc[:, ~df.columns.isin([\"int_rate\"])]\n",
        "\n",
        "total_samples=len(df)\n",
        "split = 0.8\n",
        "\n",
        "x_train = x[0:int(total_samples*split)]\n",
        "x_test = x[int(total_samples*split):total_samples]\n",
        "y_train = y[0:int(total_samples*split)]\n",
        "y_test = y[int(total_samples*split):total_samples]"
      ],
      "execution_count": 14,
      "outputs": []
    },
    {
      "cell_type": "markdown",
      "metadata": {
        "id": "k93DViC_P6OT"
      },
      "source": [
        "## AutoML"
      ]
    },
    {
      "cell_type": "markdown",
      "metadata": {
        "id": "MOvufImuP6OU"
      },
      "source": [
        "### The following is all the code needed to find the best model:"
      ]
    },
    {
      "cell_type": "code",
      "metadata": {
        "scrolled": true,
        "id": "eKlhBbCjP6OU",
        "colab": {
          "base_uri": "https://localhost:8080/"
        },
        "outputId": "8540fde5-accc-4ad1-9355-d1795d4086f0"
      },
      "source": [
        "automl = autosklearn.regression.AutoSklearnRegressor(\n",
        "    time_left_for_this_task=600, # in seconds\n",
        "    per_run_time_limit=60, # in seconds\n",
        ")\n",
        "automl.fit(x_train, y_train, dataset_name='finance')#,\n",
        "          #  feat_type=feature_types)"
      ],
      "execution_count": 16,
      "outputs": [
        {
          "output_type": "execute_result",
          "data": {
            "text/plain": [
              "AutoSklearnRegressor(load_models=None, per_run_time_limit=60,\n",
              "                     time_left_for_this_task=600)"
            ]
          },
          "metadata": {
            "tags": []
          },
          "execution_count": 16
        }
      ]
    },
    {
      "cell_type": "markdown",
      "metadata": {
        "id": "1LeUraaHP6OX"
      },
      "source": [
        "### AutoML training details"
      ]
    },
    {
      "cell_type": "markdown",
      "metadata": {
        "id": "ssulWxIaP6OX"
      },
      "source": [
        "#### A list of all the algorithm runs"
      ]
    },
    {
      "cell_type": "code",
      "metadata": {
        "id": "PK7UENV-P6OY",
        "colab": {
          "base_uri": "https://localhost:8080/",
          "height": 171
        },
        "outputId": "1ff88555-594c-4e1b-d934-38f2ebb28dea"
      },
      "source": [
        "automl.show_models()"
      ],
      "execution_count": 17,
      "outputs": [
        {
          "output_type": "execute_result",
          "data": {
            "application/vnd.google.colaboratory.intrinsic+json": {
              "type": "string"
            },
            "text/plain": [
              "\"[(0.460000, SimpleRegressionPipeline({'data_preprocessing:categorical_transformer:categorical_encoding:__choice__': 'one_hot_encoding', 'data_preprocessing:categorical_transformer:category_coalescence:__choice__': 'minority_coalescer', 'data_preprocessing:numerical_transformer:imputation:strategy': 'most_frequent', 'data_preprocessing:numerical_transformer:rescaling:__choice__': 'quantile_transformer', 'feature_preprocessor:__choice__': 'no_preprocessing', 'regressor:__choice__': 'random_forest', 'data_preprocessing:categorical_transformer:category_coalescence:minority_coalescer:minimum_fraction': 0.010000000000000004, 'data_preprocessing:numerical_transformer:rescaling:quantile_transformer:n_quantiles': 1818, 'data_preprocessing:numerical_transformer:rescaling:quantile_transformer:output_distribution': 'normal', 'regressor:random_forest:bootstrap': 'True', 'regressor:random_forest:criterion': 'mse', 'regressor:random_forest:max_depth': 'None', 'regressor:random_forest:max_features': 0.9744859278597818, 'regressor:random_forest:max_leaf_nodes': 'None', 'regressor:random_forest:min_impurity_decrease': 0.0, 'regressor:random_forest:min_samples_leaf': 11, 'regressor:random_forest:min_samples_split': 2, 'regressor:random_forest:min_weight_fraction_leaf': 0.0},\\ndataset_properties={\\n  'task': 4,\\n  'sparse': False,\\n  'multioutput': False,\\n  'target_type': 'regression',\\n  'signed': False})),\\n(0.160000, SimpleRegressionPipeline({'data_preprocessing:categorical_transformer:categorical_encoding:__choice__': 'no_encoding', 'data_preprocessing:categorical_transformer:category_coalescence:__choice__': 'no_coalescense', 'data_preprocessing:numerical_transformer:imputation:strategy': 'most_frequent', 'data_preprocessing:numerical_transformer:rescaling:__choice__': 'quantile_transformer', 'feature_preprocessor:__choice__': 'feature_agglomeration', 'regressor:__choice__': 'gradient_boosting', 'data_preprocessing:numerical_transformer:rescaling:quantile_transformer:n_quantiles': 1425, 'data_preprocessing:numerical_transformer:rescaling:quantile_transformer:output_distribution': 'uniform', 'feature_preprocessor:feature_agglomeration:affinity': 'cosine', 'feature_preprocessor:feature_agglomeration:linkage': 'complete', 'feature_preprocessor:feature_agglomeration:n_clusters': 276, 'feature_preprocessor:feature_agglomeration:pooling_func': 'max', 'regressor:gradient_boosting:early_stop': 'off', 'regressor:gradient_boosting:l2_regularization': 0.00018459550741867383, 'regressor:gradient_boosting:learning_rate': 0.04757728173371449, 'regressor:gradient_boosting:loss': 'least_squares', 'regressor:gradient_boosting:max_bins': 255, 'regressor:gradient_boosting:max_depth': 'None', 'regressor:gradient_boosting:max_leaf_nodes': 16, 'regressor:gradient_boosting:min_samples_leaf': 6, 'regressor:gradient_boosting:scoring': 'loss', 'regressor:gradient_boosting:tol': 1e-07},\\ndataset_properties={\\n  'task': 4,\\n  'sparse': False,\\n  'multioutput': False,\\n  'target_type': 'regression',\\n  'signed': False})),\\n(0.120000, SimpleRegressionPipeline({'data_preprocessing:categorical_transformer:categorical_encoding:__choice__': 'no_encoding', 'data_preprocessing:categorical_transformer:category_coalescence:__choice__': 'minority_coalescer', 'data_preprocessing:numerical_transformer:imputation:strategy': 'most_frequent', 'data_preprocessing:numerical_transformer:rescaling:__choice__': 'robust_scaler', 'feature_preprocessor:__choice__': 'extra_trees_preproc_for_regression', 'regressor:__choice__': 'extra_trees', 'data_preprocessing:categorical_transformer:category_coalescence:minority_coalescer:minimum_fraction': 0.010000000000000004, 'data_preprocessing:numerical_transformer:rescaling:robust_scaler:q_max': 0.7414290235319753, 'data_preprocessing:numerical_transformer:rescaling:robust_scaler:q_min': 0.2631696868735969, 'feature_preprocessor:extra_trees_preproc_for_regression:bootstrap': 'True', 'feature_preprocessor:extra_trees_preproc_for_regression:criterion': 'mse', 'feature_preprocessor:extra_trees_preproc_for_regression:max_depth': 'None', 'feature_preprocessor:extra_trees_preproc_for_regression:max_features': 0.8529069417035176, 'feature_preprocessor:extra_trees_preproc_for_regression:max_leaf_nodes': 'None', 'feature_preprocessor:extra_trees_preproc_for_regression:min_samples_leaf': 1, 'feature_preprocessor:extra_trees_preproc_for_regression:min_samples_split': 2, 'feature_preprocessor:extra_trees_preproc_for_regression:min_weight_fraction_leaf': 0.0, 'feature_preprocessor:extra_trees_preproc_for_regression:n_estimators': 100, 'regressor:extra_trees:bootstrap': 'True', 'regressor:extra_trees:criterion': 'mse', 'regressor:extra_trees:max_depth': 'None', 'regressor:extra_trees:max_features': 0.9698708516736436, 'regressor:extra_trees:max_leaf_nodes': 'None', 'regressor:extra_trees:min_impurity_decrease': 0.0, 'regressor:extra_trees:min_samples_leaf': 4, 'regressor:extra_trees:min_samples_split': 2, 'regressor:extra_trees:min_weight_fraction_leaf': 0.0},\\ndataset_properties={\\n  'task': 4,\\n  'sparse': False,\\n  'multioutput': False,\\n  'target_type': 'regression',\\n  'signed': False})),\\n(0.080000, SimpleRegressionPipeline({'data_preprocessing:categorical_transformer:categorical_encoding:__choice__': 'no_encoding', 'data_preprocessing:categorical_transformer:category_coalescence:__choice__': 'no_coalescense', 'data_preprocessing:numerical_transformer:imputation:strategy': 'median', 'data_preprocessing:numerical_transformer:rescaling:__choice__': 'none', 'feature_preprocessor:__choice__': 'select_rates_regression', 'regressor:__choice__': 'adaboost', 'feature_preprocessor:select_rates_regression:alpha': 0.13294870400704156, 'feature_preprocessor:select_rates_regression:mode': 'fwe', 'feature_preprocessor:select_rates_regression:score_func': 'f_regression', 'regressor:adaboost:learning_rate': 0.47982456668237294, 'regressor:adaboost:loss': 'square', 'regressor:adaboost:max_depth': 10, 'regressor:adaboost:n_estimators': 143},\\ndataset_properties={\\n  'task': 4,\\n  'sparse': False,\\n  'multioutput': False,\\n  'target_type': 'regression',\\n  'signed': False})),\\n(0.060000, SimpleRegressionPipeline({'data_preprocessing:categorical_transformer:categorical_encoding:__choice__': 'one_hot_encoding', 'data_preprocessing:categorical_transformer:category_coalescence:__choice__': 'no_coalescense', 'data_preprocessing:numerical_transformer:imputation:strategy': 'median', 'data_preprocessing:numerical_transformer:rescaling:__choice__': 'minmax', 'feature_preprocessor:__choice__': 'select_rates_regression', 'regressor:__choice__': 'gradient_boosting', 'feature_preprocessor:select_rates_regression:alpha': 0.32764403627543237, 'feature_preprocessor:select_rates_regression:mode': 'fdr', 'feature_preprocessor:select_rates_regression:score_func': 'f_regression', 'regressor:gradient_boosting:early_stop': 'off', 'regressor:gradient_boosting:l2_regularization': 0.000153437102327148, 'regressor:gradient_boosting:learning_rate': 0.01698754273672824, 'regressor:gradient_boosting:loss': 'least_squares', 'regressor:gradient_boosting:max_bins': 255, 'regressor:gradient_boosting:max_depth': 'None', 'regressor:gradient_boosting:max_leaf_nodes': 47, 'regressor:gradient_boosting:min_samples_leaf': 76, 'regressor:gradient_boosting:scoring': 'loss', 'regressor:gradient_boosting:tol': 1e-07},\\ndataset_properties={\\n  'task': 4,\\n  'sparse': False,\\n  'multioutput': False,\\n  'target_type': 'regression',\\n  'signed': False})),\\n(0.040000, SimpleRegressionPipeline({'data_preprocessing:categorical_transformer:categorical_encoding:__choice__': 'one_hot_encoding', 'data_preprocessing:categorical_transformer:category_coalescence:__choice__': 'no_coalescense', 'data_preprocessing:numerical_transformer:imputation:strategy': 'mean', 'data_preprocessing:numerical_transformer:rescaling:__choice__': 'quantile_transformer', 'feature_preprocessor:__choice__': 'select_rates_regression', 'regressor:__choice__': 'gradient_boosting', 'data_preprocessing:numerical_transformer:rescaling:quantile_transformer:n_quantiles': 148, 'data_preprocessing:numerical_transformer:rescaling:quantile_transformer:output_distribution': 'uniform', 'feature_preprocessor:select_rates_regression:alpha': 0.10789818795901182, 'feature_preprocessor:select_rates_regression:mode': 'fwe', 'feature_preprocessor:select_rates_regression:score_func': 'f_regression', 'regressor:gradient_boosting:early_stop': 'off', 'regressor:gradient_boosting:l2_regularization': 0.0002841741346637058, 'regressor:gradient_boosting:learning_rate': 0.024253735132716756, 'regressor:gradient_boosting:loss': 'least_squares', 'regressor:gradient_boosting:max_bins': 255, 'regressor:gradient_boosting:max_depth': 'None', 'regressor:gradient_boosting:max_leaf_nodes': 36, 'regressor:gradient_boosting:min_samples_leaf': 1, 'regressor:gradient_boosting:scoring': 'loss', 'regressor:gradient_boosting:tol': 1e-07},\\ndataset_properties={\\n  'task': 4,\\n  'sparse': False,\\n  'multioutput': False,\\n  'target_type': 'regression',\\n  'signed': False})),\\n(0.040000, SimpleRegressionPipeline({'data_preprocessing:categorical_transformer:categorical_encoding:__choice__': 'one_hot_encoding', 'data_preprocessing:categorical_transformer:category_coalescence:__choice__': 'no_coalescense', 'data_preprocessing:numerical_transformer:imputation:strategy': 'mean', 'data_preprocessing:numerical_transformer:rescaling:__choice__': 'standardize', 'feature_preprocessor:__choice__': 'select_rates_regression', 'regressor:__choice__': 'gradient_boosting', 'feature_preprocessor:select_rates_regression:alpha': 0.40612979303062824, 'feature_preprocessor:select_rates_regression:mode': 'fdr', 'feature_preprocessor:select_rates_regression:score_func': 'f_regression', 'regressor:gradient_boosting:early_stop': 'off', 'regressor:gradient_boosting:l2_regularization': 2.2742572602302616e-08, 'regressor:gradient_boosting:learning_rate': 0.02539518548794612, 'regressor:gradient_boosting:loss': 'least_squares', 'regressor:gradient_boosting:max_bins': 255, 'regressor:gradient_boosting:max_depth': 'None', 'regressor:gradient_boosting:max_leaf_nodes': 57, 'regressor:gradient_boosting:min_samples_leaf': 10, 'regressor:gradient_boosting:scoring': 'loss', 'regressor:gradient_boosting:tol': 1e-07},\\ndataset_properties={\\n  'task': 4,\\n  'sparse': False,\\n  'multioutput': False,\\n  'target_type': 'regression',\\n  'signed': False})),\\n(0.040000, SimpleRegressionPipeline({'data_preprocessing:categorical_transformer:categorical_encoding:__choice__': 'no_encoding', 'data_preprocessing:categorical_transformer:category_coalescence:__choice__': 'no_coalescense', 'data_preprocessing:numerical_transformer:imputation:strategy': 'most_frequent', 'data_preprocessing:numerical_transformer:rescaling:__choice__': 'robust_scaler', 'feature_preprocessor:__choice__': 'fast_ica', 'regressor:__choice__': 'gradient_boosting', 'data_preprocessing:numerical_transformer:rescaling:robust_scaler:q_max': 0.7049491520337817, 'data_preprocessing:numerical_transformer:rescaling:robust_scaler:q_min': 0.23602880130851764, 'feature_preprocessor:fast_ica:algorithm': 'deflation', 'feature_preprocessor:fast_ica:fun': 'cube', 'feature_preprocessor:fast_ica:whiten': 'False', 'regressor:gradient_boosting:early_stop': 'off', 'regressor:gradient_boosting:l2_regularization': 4.696295762197504e-10, 'regressor:gradient_boosting:learning_rate': 0.03269357604116943, 'regressor:gradient_boosting:loss': 'least_squares', 'regressor:gradient_boosting:max_bins': 255, 'regressor:gradient_boosting:max_depth': 'None', 'regressor:gradient_boosting:max_leaf_nodes': 32, 'regressor:gradient_boosting:min_samples_leaf': 14, 'regressor:gradient_boosting:scoring': 'loss', 'regressor:gradient_boosting:tol': 1e-07},\\ndataset_properties={\\n  'task': 4,\\n  'sparse': False,\\n  'multioutput': False,\\n  'target_type': 'regression',\\n  'signed': False})),\\n]\""
            ]
          },
          "metadata": {
            "tags": []
          },
          "execution_count": 17
        }
      ]
    },
    {
      "cell_type": "markdown",
      "metadata": {
        "id": "yzd0IJvNP6Oa"
      },
      "source": [
        "#### A summary of all the algorithm runs"
      ]
    },
    {
      "cell_type": "code",
      "metadata": {
        "id": "XW8RmXnoP6Oa",
        "colab": {
          "base_uri": "https://localhost:8080/"
        },
        "outputId": "3c85820c-1186-41da-88f1-5334a713864b"
      },
      "source": [
        "print(automl.sprint_statistics())"
      ],
      "execution_count": 18,
      "outputs": [
        {
          "output_type": "stream",
          "text": [
            "auto-sklearn results:\n",
            "  Dataset name: finance\n",
            "  Metric: r2\n",
            "  Best validation score: 0.999018\n",
            "  Number of target algorithm runs: 31\n",
            "  Number of successful target algorithm runs: 26\n",
            "  Number of crashed target algorithm runs: 0\n",
            "  Number of target algorithms that exceeded the time limit: 5\n",
            "  Number of target algorithms that exceeded the memory limit: 0\n",
            "\n"
          ],
          "name": "stdout"
        }
      ]
    },
    {
      "cell_type": "markdown",
      "metadata": {
        "id": "0c4Lq0AkP6Od"
      },
      "source": [
        "### Using the best pipeline to make predictions"
      ]
    },
    {
      "cell_type": "code",
      "metadata": {
        "id": "dr1T8NCDP6Od"
      },
      "source": [
        "predictions = automl.predict(x_test)\n",
        "predictions_train = automl.predict(x_train)"
      ],
      "execution_count": 19,
      "outputs": []
    },
    {
      "cell_type": "markdown",
      "metadata": {
        "id": "2ohR0it4P6Of"
      },
      "source": [
        "#### Best model performance"
      ]
    },
    {
      "cell_type": "code",
      "metadata": {
        "id": "3XeeFkOdP6Og",
        "colab": {
          "base_uri": "https://localhost:8080/"
        },
        "outputId": "3a8a05f1-9e2f-4ff2-9836-98e89ac8bd4c"
      },
      "source": [
        "print(\"MAE score:\", sklearn.metrics.mean_absolute_error(y_test, predictions))\n",
        "print(\"R2 score:\", sklearn.metrics.r2_score(y_test, predictions))"
      ],
      "execution_count": 20,
      "outputs": [
        {
          "output_type": "stream",
          "text": [
            "MAE score: 0.5524993579149245\n",
            "R2 score: 0.9793720543216555\n"
          ],
          "name": "stdout"
        }
      ]
    },
    {
      "cell_type": "markdown",
      "metadata": {
        "id": "UDWOnUXeP6Oi"
      },
      "source": [
        "### Export the best model"
      ]
    },
    {
      "cell_type": "code",
      "metadata": {
        "id": "COw1HYe1P6Oj"
      },
      "source": [
        "import pickle\n",
        "pickle.dump(automl, open('automl.model','wb'))"
      ],
      "execution_count": 21,
      "outputs": []
    },
    {
      "cell_type": "markdown",
      "metadata": {
        "id": "x6jm38eBP6Om"
      },
      "source": [
        "### MAPE (Mean Absolute Percentage Error)"
      ]
    },
    {
      "cell_type": "code",
      "metadata": {
        "id": "rjc8dItxP6Om"
      },
      "source": [
        "# from sklearn.utils import check_arrays\n",
        "def mean_absolute_percentage_error(y_true, y_pred): \n",
        "    return np.mean(np.abs((y_true - y_pred) / y_true)) * 100"
      ],
      "execution_count": 22,
      "outputs": []
    },
    {
      "cell_type": "code",
      "metadata": {
        "id": "qCc8RCabP6Op"
      },
      "source": [
        "mape_test = mean_absolute_percentage_error(y_test.values.ravel(), predictions)\n",
        "mape_train = mean_absolute_percentage_error(y_train.values.ravel(), predictions_train)"
      ],
      "execution_count": 23,
      "outputs": []
    },
    {
      "cell_type": "code",
      "metadata": {
        "id": "DEA2lch4P6Or",
        "colab": {
          "base_uri": "https://localhost:8080/"
        },
        "outputId": "5c963626-3fa7-4446-e65b-a92c70d65f35"
      },
      "source": [
        "print(\"Training-set MAPE: \"+str(mape_train))\n",
        "print(\"Test-set MAPE: \"+str(mape_test))"
      ],
      "execution_count": 24,
      "outputs": [
        {
          "output_type": "stream",
          "text": [
            "Training-set MAPE: 0.4204883227702125\n",
            "Test-set MAPE: 5.02911371792291\n"
          ],
          "name": "stdout"
        }
      ]
    },
    {
      "cell_type": "code",
      "metadata": {
        "id": "pEEs1fVlP6Ou",
        "colab": {
          "base_uri": "https://localhost:8080/"
        },
        "outputId": "bf0ffee1-67b7-4b79-9ccc-6d7b7078cedd"
      },
      "source": [
        "y_test.values[0:5].ravel()"
      ],
      "execution_count": 25,
      "outputs": [
        {
          "output_type": "execute_result",
          "data": {
            "text/plain": [
              "array([13.49, 11.49, 13.99, 10.59,  7.49])"
            ]
          },
          "metadata": {
            "tags": []
          },
          "execution_count": 25
        }
      ]
    },
    {
      "cell_type": "code",
      "metadata": {
        "id": "NNsO2_oYP6Ow",
        "colab": {
          "base_uri": "https://localhost:8080/"
        },
        "outputId": "cf955647-20e6-4393-ca6d-fb51fb5728aa"
      },
      "source": [
        "predictions[0:5]"
      ],
      "execution_count": 26,
      "outputs": [
        {
          "output_type": "execute_result",
          "data": {
            "text/plain": [
              "array([14.22410762, 12.3641277 , 14.62936765, 10.63200432,  7.85569295])"
            ]
          },
          "metadata": {
            "tags": []
          },
          "execution_count": 26
        }
      ]
    }
  ]
}