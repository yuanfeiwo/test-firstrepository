{
  "nbformat": 4,
  "nbformat_minor": 0,
  "metadata": {
    "kernelspec": {
      "display_name": "Python 3",
      "language": "python",
      "name": "python3"
    },
    "language_info": {
      "codemirror_mode": {
        "name": "ipython",
        "version": 3
      },
      "file_extension": ".py",
      "mimetype": "text/x-python",
      "name": "python",
      "nbconvert_exporter": "python",
      "pygments_lexer": "ipython3",
      "version": "3.7.3"
    },
    "colab": {
      "name": "5.5 AutoML_V2.ipynb",
      "provenance": [],
      "collapsed_sections": [],
      "toc_visible": true,
      "include_colab_link": true
    }
  },
  "cells": [
    {
      "cell_type": "markdown",
      "metadata": {
        "id": "view-in-github",
        "colab_type": "text"
      },
      "source": [
        "<a href=\"https://colab.research.google.com/github/yuanfeiwo/test-firstrepository/blob/master/Module5_5_5_AutoML_V2.ipynb\" target=\"_parent\"><img src=\"https://colab.research.google.com/assets/colab-badge.svg\" alt=\"Open In Colab\"/></a>"
      ]
    },
    {
      "cell_type": "code",
      "metadata": {
        "id": "59h8386DOtDn"
      },
      "source": [
        "# Module: Data Science in Finance, AutoML\n",
        "# Version 1.0\n",
        "# Topic :  AutoML - H2O\n",
        "# Example source: https://www.kaggle.com/wendykan/lending-club-loan-data\n",
        "#####################################################################\n",
        "# For support or questions, contact QuantUniversity at\n",
        "# info@qusandbox.com\n",
        "# Copyright 2020 QuantUniversity LLC.\n",
        "#####################################################################"
      ],
      "execution_count": 1,
      "outputs": []
    },
    {
      "cell_type": "markdown",
      "metadata": {
        "id": "7cFiBkkTOtDr"
      },
      "source": [
        "# AutoML with H2O"
      ]
    },
    {
      "cell_type": "markdown",
      "metadata": {
        "id": "2Jxg7u2vOtDr"
      },
      "source": [
        "AutoML is the process of automating an end-to-end Machine Learning pipeline. The [H2O AutoML](http://docs.h2o.ai/h2o/latest-stable/h2o-docs/automl.html) interface is designed to have as few parameters as possible so that all the user needs to do is point to their dataset, identify the response column and optionally specify a time constraint or limit on the number of total models trained. It also provides a UI called H2O Flow for monitoring model metrics."
      ]
    },
    {
      "cell_type": "markdown",
      "metadata": {
        "id": "FAVJv1hpOtDr"
      },
      "source": [
        "### Imports"
      ]
    },
    {
      "cell_type": "code",
      "metadata": {
        "id": "FIGUCQF-OtDs",
        "colab": {
          "base_uri": "https://localhost:8080/",
          "height": 919
        },
        "outputId": "11afc55c-5994-4232-8790-0c44ca1e2d98"
      },
      "source": [
        "!pip install -f http://h2o-release.s3.amazonaws.com/h2o/latest_stable_Py.html h2o\n",
        "import h2o\n",
        "from h2o.automl import H2OAutoML\n",
        "h2o.init(max_mem_size='3G')"
      ],
      "execution_count": 2,
      "outputs": [
        {
          "output_type": "stream",
          "text": [
            "Looking in links: http://h2o-release.s3.amazonaws.com/h2o/latest_stable_Py.html\n",
            "\u001b[33mWARNING: The repository located at h2o-release.s3.amazonaws.com is not a trusted or secure host and is being ignored. If this repository is available via HTTPS we recommend you use HTTPS instead, otherwise you may silence this warning and allow it anyway with '--trusted-host h2o-release.s3.amazonaws.com'.\u001b[0m\n",
            "Collecting h2o\n",
            "\u001b[?25l  Downloading https://files.pythonhosted.org/packages/26/c5/d63a8bfdbeb4ebfb709c010af3e061d89a363204c437cb5527431f6de3d2/h2o-3.32.0.2.tar.gz (164.6MB)\n",
            "\u001b[K     |████████████████████████████████| 164.6MB 55kB/s \n",
            "\u001b[?25hRequirement already satisfied: requests in /usr/local/lib/python3.6/dist-packages (from h2o) (2.23.0)\n",
            "Requirement already satisfied: tabulate in /usr/local/lib/python3.6/dist-packages (from h2o) (0.8.7)\n",
            "Requirement already satisfied: future in /usr/local/lib/python3.6/dist-packages (from h2o) (0.16.0)\n",
            "\u001b[33mWARNING: The repository located at h2o-release.s3.amazonaws.com is not a trusted or secure host and is being ignored. If this repository is available via HTTPS we recommend you use HTTPS instead, otherwise you may silence this warning and allow it anyway with '--trusted-host h2o-release.s3.amazonaws.com'.\u001b[0m\n",
            "Collecting colorama>=0.3.8\n",
            "  Downloading https://files.pythonhosted.org/packages/44/98/5b86278fbbf250d239ae0ecb724f8572af1c91f4a11edf4d36a206189440/colorama-0.4.4-py2.py3-none-any.whl\n",
            "Requirement already satisfied: certifi>=2017.4.17 in /usr/local/lib/python3.6/dist-packages (from requests->h2o) (2020.12.5)\n",
            "Requirement already satisfied: idna<3,>=2.5 in /usr/local/lib/python3.6/dist-packages (from requests->h2o) (2.10)\n",
            "Requirement already satisfied: chardet<4,>=3.0.2 in /usr/local/lib/python3.6/dist-packages (from requests->h2o) (3.0.4)\n",
            "Requirement already satisfied: urllib3!=1.25.0,!=1.25.1,<1.26,>=1.21.1 in /usr/local/lib/python3.6/dist-packages (from requests->h2o) (1.24.3)\n",
            "Building wheels for collected packages: h2o\n",
            "  Building wheel for h2o (setup.py) ... \u001b[?25l\u001b[?25hdone\n",
            "  Created wheel for h2o: filename=h2o-3.32.0.2-py2.py3-none-any.whl size=164620456 sha256=e5c3516be9d0dea42718bb75c8d4f50b458a989f7ee9b8e8d2927793ed973f3c\n",
            "  Stored in directory: /root/.cache/pip/wheels/42/bd/ea/218fd15724eddf6fa7fc8fab802b6fa592e623d87199679721\n",
            "Successfully built h2o\n",
            "Installing collected packages: colorama, h2o\n",
            "Successfully installed colorama-0.4.4 h2o-3.32.0.2\n",
            "Checking whether there is an H2O instance running at http://localhost:54321 ..... not found.\n",
            "Attempting to start a local H2O server...\n",
            "  Java Version: openjdk version \"11.0.9.1\" 2020-11-04; OpenJDK Runtime Environment (build 11.0.9.1+1-Ubuntu-0ubuntu1.18.04); OpenJDK 64-Bit Server VM (build 11.0.9.1+1-Ubuntu-0ubuntu1.18.04, mixed mode, sharing)\n",
            "  Starting server from /usr/local/lib/python3.6/dist-packages/h2o/backend/bin/h2o.jar\n",
            "  Ice root: /tmp/tmpyuxdskz_\n",
            "  JVM stdout: /tmp/tmpyuxdskz_/h2o_unknownUser_started_from_python.out\n",
            "  JVM stderr: /tmp/tmpyuxdskz_/h2o_unknownUser_started_from_python.err\n",
            "  Server is running at http://127.0.0.1:54321\n",
            "Connecting to H2O server at http://127.0.0.1:54321 ... successful.\n"
          ],
          "name": "stdout"
        },
        {
          "output_type": "display_data",
          "data": {
            "text/html": [
              "<div style=\"overflow:auto\"><table style=\"width:50%\"><tr><td>H2O_cluster_uptime:</td>\n",
              "<td>02 secs</td></tr>\n",
              "<tr><td>H2O_cluster_timezone:</td>\n",
              "<td>Etc/UTC</td></tr>\n",
              "<tr><td>H2O_data_parsing_timezone:</td>\n",
              "<td>UTC</td></tr>\n",
              "<tr><td>H2O_cluster_version:</td>\n",
              "<td>3.32.0.2</td></tr>\n",
              "<tr><td>H2O_cluster_version_age:</td>\n",
              "<td>28 days, 7 hours and 55 minutes </td></tr>\n",
              "<tr><td>H2O_cluster_name:</td>\n",
              "<td>H2O_from_python_unknownUser_jsddr0</td></tr>\n",
              "<tr><td>H2O_cluster_total_nodes:</td>\n",
              "<td>1</td></tr>\n",
              "<tr><td>H2O_cluster_free_memory:</td>\n",
              "<td>3 Gb</td></tr>\n",
              "<tr><td>H2O_cluster_total_cores:</td>\n",
              "<td>2</td></tr>\n",
              "<tr><td>H2O_cluster_allowed_cores:</td>\n",
              "<td>2</td></tr>\n",
              "<tr><td>H2O_cluster_status:</td>\n",
              "<td>accepting new members, healthy</td></tr>\n",
              "<tr><td>H2O_connection_url:</td>\n",
              "<td>http://127.0.0.1:54321</td></tr>\n",
              "<tr><td>H2O_connection_proxy:</td>\n",
              "<td>{\"http\": null, \"https\": null}</td></tr>\n",
              "<tr><td>H2O_internal_security:</td>\n",
              "<td>False</td></tr>\n",
              "<tr><td>H2O_API_Extensions:</td>\n",
              "<td>Amazon S3, XGBoost, Algos, AutoML, Core V3, TargetEncoder, Core V4</td></tr>\n",
              "<tr><td>Python_version:</td>\n",
              "<td>3.6.9 final</td></tr></table></div>"
            ],
            "text/plain": [
              "--------------------------  ------------------------------------------------------------------\n",
              "H2O_cluster_uptime:         02 secs\n",
              "H2O_cluster_timezone:       Etc/UTC\n",
              "H2O_data_parsing_timezone:  UTC\n",
              "H2O_cluster_version:        3.32.0.2\n",
              "H2O_cluster_version_age:    28 days, 7 hours and 55 minutes\n",
              "H2O_cluster_name:           H2O_from_python_unknownUser_jsddr0\n",
              "H2O_cluster_total_nodes:    1\n",
              "H2O_cluster_free_memory:    3 Gb\n",
              "H2O_cluster_total_cores:    2\n",
              "H2O_cluster_allowed_cores:  2\n",
              "H2O_cluster_status:         accepting new members, healthy\n",
              "H2O_connection_url:         http://127.0.0.1:54321\n",
              "H2O_connection_proxy:       {\"http\": null, \"https\": null}\n",
              "H2O_internal_security:      False\n",
              "H2O_API_Extensions:         Amazon S3, XGBoost, Algos, AutoML, Core V3, TargetEncoder, Core V4\n",
              "Python_version:             3.6.9 final\n",
              "--------------------------  ------------------------------------------------------------------"
            ]
          },
          "metadata": {
            "tags": []
          }
        }
      ]
    },
    {
      "cell_type": "code",
      "metadata": {
        "id": "C9oTrOA5OtDv"
      },
      "source": [
        "# for numerical analysis and data processing\n",
        "import numpy as np\n",
        "import pandas as pd\n",
        "\n",
        "from sklearn.metrics import mean_squared_error, mean_absolute_error\n",
        "from scipy.spatial.distance import cdist\n",
        "\n",
        "import requests\n",
        "from io import StringIO"
      ],
      "execution_count": 3,
      "outputs": []
    },
    {
      "cell_type": "markdown",
      "metadata": {
        "id": "pDZcRj4vOtDy"
      },
      "source": [
        "### Dataset"
      ]
    },
    {
      "cell_type": "markdown",
      "metadata": {
        "id": "Flm9XF57OtDz"
      },
      "source": [
        "The data set is the lending data for lendingclub from August 2011 to December 2011 for some borrowers. The feature descriptions for the data are also provided. Not all the features are required for making predictions, some features are redundant in the original data file. The provided data file is already cleaned and only relevant features are provided. There are two types of features, numerical and categorical."
      ]
    },
    {
      "cell_type": "markdown",
      "metadata": {
        "id": "-Yoibu4xOtDz"
      },
      "source": [
        "Reading the input data from csv file."
      ]
    },
    {
      "cell_type": "code",
      "metadata": {
        "id": "N0-_U68GOtD0",
        "colab": {
          "base_uri": "https://localhost:8080/"
        },
        "outputId": "96b67c88-82c5-4eaf-ff00-06e64465646b"
      },
      "source": [
        "orig_url_data='https://drive.google.com//file//d//1yG-JxC1Br3c8u3cfmKQWC9pgz6Pqggw5//view?usp=sharing'\n",
        "file_id = orig_url_data.split('//')[-2]\n",
        "dwn_url='https://drive.google.com//uc?export=download&id=' + file_id\n",
        "url = requests.get(dwn_url).text\n",
        "csv_raw = StringIO(url)\n",
        "df = pd.read_csv(csv_raw)\n",
        "\n",
        "orig_url_description='https://drive.google.com//file//d//1HFd4gKbknC28rHTWysec48NqfB6g3ZHx//view?usp=sharing'\n",
        "file_id = orig_url_description.split('//')[-2]\n",
        "dwn_url='https://drive.google.com//uc?export=download&id=' + file_id\n",
        "url = requests.get(dwn_url).text\n",
        "csv_raw = StringIO(url)\n",
        "df_description = pd.read_excel(dwn_url)\n",
        "\n",
        "\n",
        "del df['issue_d'] # removing issue date as it wont affect the prediction (redundant feature)\n",
        "\n",
        "print (df_description.head())"
      ],
      "execution_count": 4,
      "outputs": [
        {
          "output_type": "stream",
          "text": [
            "               LoanStatNew                                        Description\n",
            "0               addr_state  The state provided by the borrower in the loan...\n",
            "1               annual_inc  The self-reported annual income provided by th...\n",
            "2         annual_inc_joint  The combined self-reported annual income provi...\n",
            "3         application_type  Indicates whether the loan is an individual ap...\n",
            "4  collection_recovery_fee                     post charge off collection fee\n"
          ],
          "name": "stdout"
        }
      ]
    },
    {
      "cell_type": "code",
      "metadata": {
        "id": "UbUBlZpuOtD3",
        "colab": {
          "base_uri": "https://localhost:8080/",
          "height": 309
        },
        "outputId": "3f944a65-95c5-4556-afd2-76257a21dcc7"
      },
      "source": [
        "df.head()"
      ],
      "execution_count": 5,
      "outputs": [
        {
          "output_type": "execute_result",
          "data": {
            "text/html": [
              "<div>\n",
              "<style scoped>\n",
              "    .dataframe tbody tr th:only-of-type {\n",
              "        vertical-align: middle;\n",
              "    }\n",
              "\n",
              "    .dataframe tbody tr th {\n",
              "        vertical-align: top;\n",
              "    }\n",
              "\n",
              "    .dataframe thead th {\n",
              "        text-align: right;\n",
              "    }\n",
              "</style>\n",
              "<table border=\"1\" class=\"dataframe\">\n",
              "  <thead>\n",
              "    <tr style=\"text-align: right;\">\n",
              "      <th></th>\n",
              "      <th>loan_amnt</th>\n",
              "      <th>term</th>\n",
              "      <th>int_rate</th>\n",
              "      <th>installment</th>\n",
              "      <th>grade</th>\n",
              "      <th>sub_grade</th>\n",
              "      <th>emp_length</th>\n",
              "      <th>home_ownership</th>\n",
              "      <th>annual_inc</th>\n",
              "      <th>verification_status</th>\n",
              "      <th>purpose</th>\n",
              "      <th>addr_state</th>\n",
              "      <th>dti</th>\n",
              "      <th>delinq_2yrs</th>\n",
              "      <th>inq_last_6mths</th>\n",
              "      <th>loan_status_Binary</th>\n",
              "    </tr>\n",
              "  </thead>\n",
              "  <tbody>\n",
              "    <tr>\n",
              "      <th>0</th>\n",
              "      <td>5000</td>\n",
              "      <td>36 months</td>\n",
              "      <td>10.65</td>\n",
              "      <td>162.87</td>\n",
              "      <td>B</td>\n",
              "      <td>B2</td>\n",
              "      <td>10+ years</td>\n",
              "      <td>RENT</td>\n",
              "      <td>24000.0</td>\n",
              "      <td>Verified</td>\n",
              "      <td>credit_card</td>\n",
              "      <td>AZ</td>\n",
              "      <td>27.65</td>\n",
              "      <td>0</td>\n",
              "      <td>1</td>\n",
              "      <td>0</td>\n",
              "    </tr>\n",
              "    <tr>\n",
              "      <th>1</th>\n",
              "      <td>2500</td>\n",
              "      <td>60 months</td>\n",
              "      <td>15.27</td>\n",
              "      <td>59.83</td>\n",
              "      <td>C</td>\n",
              "      <td>C4</td>\n",
              "      <td>&lt; 1 year</td>\n",
              "      <td>RENT</td>\n",
              "      <td>30000.0</td>\n",
              "      <td>Source Verified</td>\n",
              "      <td>car</td>\n",
              "      <td>GA</td>\n",
              "      <td>1.00</td>\n",
              "      <td>0</td>\n",
              "      <td>5</td>\n",
              "      <td>1</td>\n",
              "    </tr>\n",
              "    <tr>\n",
              "      <th>2</th>\n",
              "      <td>2400</td>\n",
              "      <td>36 months</td>\n",
              "      <td>15.96</td>\n",
              "      <td>84.33</td>\n",
              "      <td>C</td>\n",
              "      <td>C5</td>\n",
              "      <td>10+ years</td>\n",
              "      <td>RENT</td>\n",
              "      <td>12252.0</td>\n",
              "      <td>Not Verified</td>\n",
              "      <td>small_business</td>\n",
              "      <td>IL</td>\n",
              "      <td>8.72</td>\n",
              "      <td>0</td>\n",
              "      <td>2</td>\n",
              "      <td>0</td>\n",
              "    </tr>\n",
              "    <tr>\n",
              "      <th>3</th>\n",
              "      <td>10000</td>\n",
              "      <td>36 months</td>\n",
              "      <td>13.49</td>\n",
              "      <td>339.31</td>\n",
              "      <td>C</td>\n",
              "      <td>C1</td>\n",
              "      <td>10+ years</td>\n",
              "      <td>RENT</td>\n",
              "      <td>49200.0</td>\n",
              "      <td>Source Verified</td>\n",
              "      <td>other</td>\n",
              "      <td>CA</td>\n",
              "      <td>20.00</td>\n",
              "      <td>0</td>\n",
              "      <td>1</td>\n",
              "      <td>0</td>\n",
              "    </tr>\n",
              "    <tr>\n",
              "      <th>4</th>\n",
              "      <td>3000</td>\n",
              "      <td>60 months</td>\n",
              "      <td>12.69</td>\n",
              "      <td>67.79</td>\n",
              "      <td>B</td>\n",
              "      <td>B5</td>\n",
              "      <td>1 year</td>\n",
              "      <td>RENT</td>\n",
              "      <td>80000.0</td>\n",
              "      <td>Source Verified</td>\n",
              "      <td>other</td>\n",
              "      <td>OR</td>\n",
              "      <td>17.94</td>\n",
              "      <td>0</td>\n",
              "      <td>0</td>\n",
              "      <td>0</td>\n",
              "    </tr>\n",
              "  </tbody>\n",
              "</table>\n",
              "</div>"
            ],
            "text/plain": [
              "   loan_amnt        term  ...  inq_last_6mths  loan_status_Binary\n",
              "0       5000   36 months  ...               1                   0\n",
              "1       2500   60 months  ...               5                   1\n",
              "2       2400   36 months  ...               2                   0\n",
              "3      10000   36 months  ...               1                   0\n",
              "4       3000   60 months  ...               0                   0\n",
              "\n",
              "[5 rows x 16 columns]"
            ]
          },
          "metadata": {
            "tags": []
          },
          "execution_count": 5
        }
      ]
    },
    {
      "cell_type": "code",
      "metadata": {
        "id": "O7MPQJe9OtD5"
      },
      "source": [
        "y ='int_rate'"
      ],
      "execution_count": 6,
      "outputs": []
    },
    {
      "cell_type": "markdown",
      "metadata": {
        "id": "J0qH4w5yOtD8"
      },
      "source": [
        "### Data preprocessing\n",
        "H2O library is good at handling missing data by use of H2OFrames. It also provides certain preprocessing tools."
      ]
    },
    {
      "cell_type": "code",
      "metadata": {
        "id": "9JZbyKF4OtD8",
        "colab": {
          "base_uri": "https://localhost:8080/"
        },
        "outputId": "b0d25bae-28ef-45b6-ecb3-0cbb246d9aac"
      },
      "source": [
        "hf = h2o.H2OFrame(df)"
      ],
      "execution_count": 7,
      "outputs": [
        {
          "output_type": "stream",
          "text": [
            "Parse progress: |█████████████████████████████████████████████████████████| 100%\n"
          ],
          "name": "stdout"
        }
      ]
    },
    {
      "cell_type": "markdown",
      "metadata": {
        "id": "-7Q9M0GaOtD-"
      },
      "source": [
        "Test-Train split of the dataframe"
      ]
    },
    {
      "cell_type": "code",
      "metadata": {
        "id": "GK53AceCOtD_"
      },
      "source": [
        "splits = hf.split_frame(ratios = [0.8], seed = 1)\n",
        "train = splits[0]\n",
        "test = splits[1]"
      ],
      "execution_count": 8,
      "outputs": []
    },
    {
      "cell_type": "markdown",
      "metadata": {
        "id": "foDlNpoeOtEB"
      },
      "source": [
        "### The following is all the code needed to find the best model:"
      ]
    },
    {
      "cell_type": "markdown",
      "metadata": {
        "id": "48B8rq02OtEC"
      },
      "source": [
        "**H2OAutoML's performance is as good as the amount of time it is allowed to optimize.**"
      ]
    },
    {
      "cell_type": "code",
      "metadata": {
        "id": "FSDPlpumOtED",
        "colab": {
          "base_uri": "https://localhost:8080/"
        },
        "outputId": "8cc56331-21c4-44ae-a3dd-eeffed222db1"
      },
      "source": [
        "aml = H2OAutoML(max_runtime_secs =600, seed = 1, project_name = \"H2O_finance\")\n",
        "aml.train(y = y, training_frame = train, leaderboard_frame = test)"
      ],
      "execution_count": 9,
      "outputs": [
        {
          "output_type": "stream",
          "text": [
            "AutoML progress: |████████████████████████████████████████████████████████| 100%\n"
          ],
          "name": "stdout"
        }
      ]
    },
    {
      "cell_type": "markdown",
      "metadata": {
        "id": "mZLCbSTeOtEF"
      },
      "source": [
        "#### H2O leaderboards\n",
        "H2O also provides leaderboard that gives the list of all model and hyperparameter combinations it has tried, sorted based on 'mean_residual_deviance' metric by default."
      ]
    },
    {
      "cell_type": "code",
      "metadata": {
        "id": "z5ZdchbMOtEG",
        "colab": {
          "base_uri": "https://localhost:8080/",
          "height": 250
        },
        "outputId": "433e6f14-5b24-4822-c88a-f8015f3f3e38"
      },
      "source": [
        "aml.leaderboard.head()"
      ],
      "execution_count": 10,
      "outputs": [
        {
          "output_type": "display_data",
          "data": {
            "text/html": [
              "<table>\n",
              "<thead>\n",
              "<tr><th>model_id                                           </th><th style=\"text-align: right;\">  mean_residual_deviance</th><th style=\"text-align: right;\">    rmse</th><th style=\"text-align: right;\">      mse</th><th style=\"text-align: right;\">     mae</th><th style=\"text-align: right;\">    rmsle</th></tr>\n",
              "</thead>\n",
              "<tbody>\n",
              "<tr><td>StackedEnsemble_AllModels_AutoML_20201215_233431   </td><td style=\"text-align: right;\">               0.0681843</td><td style=\"text-align: right;\">0.261121</td><td style=\"text-align: right;\">0.0681843</td><td style=\"text-align: right;\">0.192558</td><td style=\"text-align: right;\">0.020832 </td></tr>\n",
              "<tr><td>StackedEnsemble_BestOfFamily_AutoML_20201215_233431</td><td style=\"text-align: right;\">               0.0682217</td><td style=\"text-align: right;\">0.261193</td><td style=\"text-align: right;\">0.0682217</td><td style=\"text-align: right;\">0.193088</td><td style=\"text-align: right;\">0.0208399</td></tr>\n",
              "<tr><td>XGBoost_grid__1_AutoML_20201215_233431_model_10    </td><td style=\"text-align: right;\">               0.0691716</td><td style=\"text-align: right;\">0.263005</td><td style=\"text-align: right;\">0.0691716</td><td style=\"text-align: right;\">0.193754</td><td style=\"text-align: right;\">0.0209764</td></tr>\n",
              "<tr><td>GLM_1_AutoML_20201215_233431                       </td><td style=\"text-align: right;\">               0.0708695</td><td style=\"text-align: right;\">0.266213</td><td style=\"text-align: right;\">0.0708695</td><td style=\"text-align: right;\">0.211654</td><td style=\"text-align: right;\">0.0215047</td></tr>\n",
              "<tr><td>GBM_grid__1_AutoML_20201215_233431_model_8         </td><td style=\"text-align: right;\">               0.0712286</td><td style=\"text-align: right;\">0.266887</td><td style=\"text-align: right;\">0.0712286</td><td style=\"text-align: right;\">0.210957</td><td style=\"text-align: right;\">0.0215014</td></tr>\n",
              "<tr><td>GBM_grid__1_AutoML_20201215_233431_model_10        </td><td style=\"text-align: right;\">               0.0725182</td><td style=\"text-align: right;\">0.269292</td><td style=\"text-align: right;\">0.0725182</td><td style=\"text-align: right;\">0.211208</td><td style=\"text-align: right;\">0.0217611</td></tr>\n",
              "<tr><td>GBM_grid__1_AutoML_20201215_233431_model_1         </td><td style=\"text-align: right;\">               0.0729342</td><td style=\"text-align: right;\">0.270063</td><td style=\"text-align: right;\">0.0729342</td><td style=\"text-align: right;\">0.213446</td><td style=\"text-align: right;\">0.0217789</td></tr>\n",
              "<tr><td>XGBoost_grid__1_AutoML_20201215_233431_model_11    </td><td style=\"text-align: right;\">               0.0733434</td><td style=\"text-align: right;\">0.27082 </td><td style=\"text-align: right;\">0.0733434</td><td style=\"text-align: right;\">0.20191 </td><td style=\"text-align: right;\">0.0218869</td></tr>\n",
              "<tr><td>XGBoost_3_AutoML_20201215_233431                   </td><td style=\"text-align: right;\">               0.0738917</td><td style=\"text-align: right;\">0.27183 </td><td style=\"text-align: right;\">0.0738917</td><td style=\"text-align: right;\">0.20928 </td><td style=\"text-align: right;\">0.0217003</td></tr>\n",
              "<tr><td>XGBoost_grid__1_AutoML_20201215_233431_model_5     </td><td style=\"text-align: right;\">               0.0739634</td><td style=\"text-align: right;\">0.271962</td><td style=\"text-align: right;\">0.0739634</td><td style=\"text-align: right;\">0.210699</td><td style=\"text-align: right;\">0.021624 </td></tr>\n",
              "</tbody>\n",
              "</table>"
            ]
          },
          "metadata": {
            "tags": []
          }
        },
        {
          "output_type": "execute_result",
          "data": {
            "text/plain": [
              ""
            ]
          },
          "metadata": {
            "tags": []
          },
          "execution_count": 10
        }
      ]
    },
    {
      "cell_type": "markdown",
      "metadata": {
        "id": "0MYcBGfTOtEJ"
      },
      "source": [
        "**'leader' gives us the best model out of all the models the pipeline tries.    \n",
        "'model_performance()' provides all important metrics for a given model.**"
      ]
    },
    {
      "cell_type": "code",
      "metadata": {
        "id": "ZU5TaDa2OtEJ",
        "colab": {
          "base_uri": "https://localhost:8080/"
        },
        "outputId": "1bc22606-1379-4d32-b36f-deb33bb51d3c"
      },
      "source": [
        "perf = aml.leader.model_performance(test)\n",
        "perf"
      ],
      "execution_count": 11,
      "outputs": [
        {
          "output_type": "stream",
          "text": [
            "\n",
            "ModelMetricsRegressionGLM: stackedensemble\n",
            "** Reported on test data. **\n",
            "\n",
            "MSE: 0.06818429186731996\n",
            "RMSE: 0.26112122063769533\n",
            "MAE: 0.19255751807496377\n",
            "RMSLE: 0.02083198943390966\n",
            "R^2: 0.99631715869537\n",
            "Mean Residual Deviance: 0.06818429186731996\n",
            "Null degrees of freedom: 1978\n",
            "Residual degrees of freedom: 1966\n",
            "Null deviance: 36693.46803231744\n",
            "Residual deviance: 134.9367136054262\n",
            "AIC: 329.4729464178579\n"
          ],
          "name": "stdout"
        },
        {
          "output_type": "execute_result",
          "data": {
            "text/plain": [
              ""
            ]
          },
          "metadata": {
            "tags": []
          },
          "execution_count": 11
        }
      ]
    },
    {
      "cell_type": "markdown",
      "metadata": {
        "id": "hY1DFK0JOtEL"
      },
      "source": [
        "We can predict using H2OFrames as input to the leader"
      ]
    },
    {
      "cell_type": "code",
      "metadata": {
        "id": "VFGZyW8gOtEM",
        "colab": {
          "base_uri": "https://localhost:8080/",
          "height": 78
        },
        "outputId": "fb6d3899-d1c7-484d-cc44-3e2836d1f3ad"
      },
      "source": [
        "pred = aml.leader.predict(test[0,:])\n",
        "pred"
      ],
      "execution_count": 12,
      "outputs": [
        {
          "output_type": "stream",
          "text": [
            "stackedensemble prediction progress: |████████████████████████████████████| 100%\n"
          ],
          "name": "stdout"
        },
        {
          "output_type": "display_data",
          "data": {
            "text/html": [
              "<table>\n",
              "<thead>\n",
              "<tr><th style=\"text-align: right;\">  predict</th></tr>\n",
              "</thead>\n",
              "<tbody>\n",
              "<tr><td style=\"text-align: right;\">  15.7205</td></tr>\n",
              "</tbody>\n",
              "</table>"
            ]
          },
          "metadata": {
            "tags": []
          }
        },
        {
          "output_type": "execute_result",
          "data": {
            "text/plain": [
              ""
            ]
          },
          "metadata": {
            "tags": []
          },
          "execution_count": 12
        }
      ]
    },
    {
      "cell_type": "code",
      "metadata": {
        "id": "w6RQJ3YuOtEP"
      },
      "source": [
        "import pickle\n",
        "pickle.dump(aml.leader, open('h2o_pipeline.model','wb'))"
      ],
      "execution_count": 13,
      "outputs": []
    },
    {
      "cell_type": "markdown",
      "metadata": {
        "id": "o-iJkoPDOtER"
      },
      "source": [
        "### MAPE (Mean Absolute Percentage Error)"
      ]
    },
    {
      "cell_type": "code",
      "metadata": {
        "id": "ntf6D9UsOtES"
      },
      "source": [
        "def mean_absolute_percentage_error(y_true, y_pred): \n",
        "    return np.mean(np.abs((y_true - y_pred) / y_true)) * 100"
      ],
      "execution_count": 14,
      "outputs": []
    },
    {
      "cell_type": "code",
      "metadata": {
        "id": "njDD4hAMOtET"
      },
      "source": [
        "y_test = test[y]\n",
        "y_train = train[y]"
      ],
      "execution_count": 15,
      "outputs": []
    },
    {
      "cell_type": "code",
      "metadata": {
        "id": "lwQn4pgLOtEW",
        "colab": {
          "base_uri": "https://localhost:8080/"
        },
        "outputId": "8f95b560-dab3-4c98-9620-4e89d5204ecf"
      },
      "source": [
        "y_test_vals = y_test.as_data_frame().values.ravel()\n",
        "y_test_pred_vals = aml.leader.predict(test).as_data_frame().values.ravel()"
      ],
      "execution_count": 16,
      "outputs": [
        {
          "output_type": "stream",
          "text": [
            "stackedensemble prediction progress: |████████████████████████████████████| 100%\n"
          ],
          "name": "stdout"
        }
      ]
    },
    {
      "cell_type": "code",
      "metadata": {
        "id": "9gzPFVEfOtEY",
        "colab": {
          "base_uri": "https://localhost:8080/"
        },
        "outputId": "2932771d-1f49-4cba-f33a-6187e618304f"
      },
      "source": [
        "y_train_vals = y_train.as_data_frame().values.ravel()\n",
        "y_train_pred_vals = aml.leader.predict(train).as_data_frame().values.ravel()"
      ],
      "execution_count": 17,
      "outputs": [
        {
          "output_type": "stream",
          "text": [
            "stackedensemble prediction progress: |████████████████████████████████████| 100%\n"
          ],
          "name": "stdout"
        }
      ]
    },
    {
      "cell_type": "code",
      "metadata": {
        "id": "gXQd-XZLOtEZ"
      },
      "source": [
        "mape_test = mean_absolute_percentage_error(y_test_vals,y_test_pred_vals )\n",
        "mape_train = mean_absolute_percentage_error(y_train_vals,y_train_pred_vals )"
      ],
      "execution_count": 18,
      "outputs": []
    },
    {
      "cell_type": "code",
      "metadata": {
        "id": "6ZoqhUoMOtEb",
        "colab": {
          "base_uri": "https://localhost:8080/"
        },
        "outputId": "2017e508-9a95-4299-b6c4-f82a3a22a3f5"
      },
      "source": [
        "print(\"Training-set MAPE: \"+str(mape_train))\n",
        "print(\"Test-set MAPE: \"+str(mape_test))"
      ],
      "execution_count": 19,
      "outputs": [
        {
          "output_type": "stream",
          "text": [
            "Training-set MAPE: 0.8457119597240534\n",
            "Test-set MAPE: 1.6558838799077962\n"
          ],
          "name": "stdout"
        }
      ]
    },
    {
      "cell_type": "markdown",
      "metadata": {
        "id": "tp_2joe9OtEd"
      },
      "source": [
        "### Actual values"
      ]
    },
    {
      "cell_type": "code",
      "metadata": {
        "id": "TKpzt3EKOtEe",
        "colab": {
          "base_uri": "https://localhost:8080/"
        },
        "outputId": "6200a677-29ac-4bfe-ab3e-bcb8ca862e86"
      },
      "source": [
        "y_test_vals[0:5]"
      ],
      "execution_count": 20,
      "outputs": [
        {
          "output_type": "execute_result",
          "data": {
            "text/plain": [
              "array([15.96, 12.69, 15.27,  7.9 , 12.69])"
            ]
          },
          "metadata": {
            "tags": []
          },
          "execution_count": 20
        }
      ]
    },
    {
      "cell_type": "markdown",
      "metadata": {
        "id": "tT0S_0fjOtEf"
      },
      "source": [
        "### Predicted Values"
      ]
    },
    {
      "cell_type": "code",
      "metadata": {
        "id": "QYUvkYTrOtEg",
        "colab": {
          "base_uri": "https://localhost:8080/"
        },
        "outputId": "c49d07d8-a006-47e8-fabc-a58827dfa99b"
      },
      "source": [
        "y_test_pred_vals[0:5]"
      ],
      "execution_count": 21,
      "outputs": [
        {
          "output_type": "execute_result",
          "data": {
            "text/plain": [
              "array([15.72052164, 12.3919578 , 15.07716178,  7.86833589, 12.70272403])"
            ]
          },
          "metadata": {
            "tags": []
          },
          "execution_count": 21
        }
      ]
    }
  ]
}