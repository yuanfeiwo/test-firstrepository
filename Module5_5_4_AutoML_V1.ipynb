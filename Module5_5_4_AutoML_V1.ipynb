{
  "nbformat": 4,
  "nbformat_minor": 0,
  "metadata": {
    "kernelspec": {
      "display_name": "Python 3",
      "language": "python",
      "name": "python3"
    },
    "language_info": {
      "codemirror_mode": {
        "name": "ipython",
        "version": 3
      },
      "file_extension": ".py",
      "mimetype": "text/x-python",
      "name": "python",
      "nbconvert_exporter": "python",
      "pygments_lexer": "ipython3",
      "version": "3.7.3"
    },
    "colab": {
      "name": "5.4 AutoML_V1.ipynb",
      "provenance": [],
      "collapsed_sections": [],
      "toc_visible": true,
      "include_colab_link": true
    },
    "widgets": {
      "application/vnd.jupyter.widget-state+json": {
        "18982db5c78b40bb863b2f6f3d51e1fa": {
          "model_module": "@jupyter-widgets/controls",
          "model_name": "HBoxModel",
          "state": {
            "_view_name": "HBoxView",
            "_dom_classes": [],
            "_model_name": "HBoxModel",
            "_view_module": "@jupyter-widgets/controls",
            "_model_module_version": "1.5.0",
            "_view_count": null,
            "_view_module_version": "1.5.0",
            "box_style": "",
            "layout": "IPY_MODEL_50f39f2e87a049a8a4e6e082d1f973f4",
            "_model_module": "@jupyter-widgets/controls",
            "children": [
              "IPY_MODEL_bfe065c7b8d14e17882608565877c93e",
              "IPY_MODEL_00771dd5fe464c828ebb27e964cb1595"
            ]
          }
        },
        "50f39f2e87a049a8a4e6e082d1f973f4": {
          "model_module": "@jupyter-widgets/base",
          "model_name": "LayoutModel",
          "state": {
            "_view_name": "LayoutView",
            "grid_template_rows": null,
            "right": null,
            "justify_content": null,
            "_view_module": "@jupyter-widgets/base",
            "overflow": null,
            "_model_module_version": "1.2.0",
            "_view_count": null,
            "flex_flow": null,
            "width": null,
            "min_width": null,
            "border": null,
            "align_items": null,
            "bottom": null,
            "_model_module": "@jupyter-widgets/base",
            "top": null,
            "grid_column": null,
            "overflow_y": null,
            "overflow_x": null,
            "grid_auto_flow": null,
            "grid_area": null,
            "grid_template_columns": null,
            "flex": null,
            "_model_name": "LayoutModel",
            "justify_items": null,
            "grid_row": null,
            "max_height": null,
            "align_content": null,
            "visibility": null,
            "align_self": null,
            "height": null,
            "min_height": null,
            "padding": null,
            "grid_auto_rows": null,
            "grid_gap": null,
            "max_width": null,
            "order": null,
            "_view_module_version": "1.2.0",
            "grid_template_areas": null,
            "object_position": null,
            "object_fit": null,
            "grid_auto_columns": null,
            "margin": null,
            "display": null,
            "left": null
          }
        },
        "bfe065c7b8d14e17882608565877c93e": {
          "model_module": "@jupyter-widgets/controls",
          "model_name": "FloatProgressModel",
          "state": {
            "_view_name": "ProgressView",
            "style": "IPY_MODEL_000f1b6ce6f84db5af9a8b64ac6fd9b0",
            "_dom_classes": [],
            "description": "Optimization Progress:  90%",
            "_model_name": "FloatProgressModel",
            "bar_style": "danger",
            "max": 10,
            "_view_module": "@jupyter-widgets/controls",
            "_model_module_version": "1.5.0",
            "value": 10,
            "_view_count": null,
            "_view_module_version": "1.5.0",
            "orientation": "horizontal",
            "min": 0,
            "description_tooltip": null,
            "_model_module": "@jupyter-widgets/controls",
            "layout": "IPY_MODEL_258e45677d6c4f69889687f4741157b8"
          }
        },
        "00771dd5fe464c828ebb27e964cb1595": {
          "model_module": "@jupyter-widgets/controls",
          "model_name": "HTMLModel",
          "state": {
            "_view_name": "HTMLView",
            "style": "IPY_MODEL_f218280c6e2a42a6ab7788fa3b63446a",
            "_dom_classes": [],
            "description": "",
            "_model_name": "HTMLModel",
            "placeholder": "​",
            "_view_module": "@jupyter-widgets/controls",
            "_model_module_version": "1.5.0",
            "value": " 72/80 [05:00&lt;01:02,  7.83s/pipeline]",
            "_view_count": null,
            "_view_module_version": "1.5.0",
            "description_tooltip": null,
            "_model_module": "@jupyter-widgets/controls",
            "layout": "IPY_MODEL_7e51bc097ba3438b9820a2b923579ea6"
          }
        },
        "000f1b6ce6f84db5af9a8b64ac6fd9b0": {
          "model_module": "@jupyter-widgets/controls",
          "model_name": "ProgressStyleModel",
          "state": {
            "_view_name": "StyleView",
            "_model_name": "ProgressStyleModel",
            "description_width": "initial",
            "_view_module": "@jupyter-widgets/base",
            "_model_module_version": "1.5.0",
            "_view_count": null,
            "_view_module_version": "1.2.0",
            "bar_color": null,
            "_model_module": "@jupyter-widgets/controls"
          }
        },
        "258e45677d6c4f69889687f4741157b8": {
          "model_module": "@jupyter-widgets/base",
          "model_name": "LayoutModel",
          "state": {
            "_view_name": "LayoutView",
            "grid_template_rows": null,
            "right": null,
            "justify_content": null,
            "_view_module": "@jupyter-widgets/base",
            "overflow": null,
            "_model_module_version": "1.2.0",
            "_view_count": null,
            "flex_flow": null,
            "width": null,
            "min_width": null,
            "border": null,
            "align_items": null,
            "bottom": null,
            "_model_module": "@jupyter-widgets/base",
            "top": null,
            "grid_column": null,
            "overflow_y": null,
            "overflow_x": null,
            "grid_auto_flow": null,
            "grid_area": null,
            "grid_template_columns": null,
            "flex": null,
            "_model_name": "LayoutModel",
            "justify_items": null,
            "grid_row": null,
            "max_height": null,
            "align_content": null,
            "visibility": null,
            "align_self": null,
            "height": null,
            "min_height": null,
            "padding": null,
            "grid_auto_rows": null,
            "grid_gap": null,
            "max_width": null,
            "order": null,
            "_view_module_version": "1.2.0",
            "grid_template_areas": null,
            "object_position": null,
            "object_fit": null,
            "grid_auto_columns": null,
            "margin": null,
            "display": null,
            "left": null
          }
        },
        "f218280c6e2a42a6ab7788fa3b63446a": {
          "model_module": "@jupyter-widgets/controls",
          "model_name": "DescriptionStyleModel",
          "state": {
            "_view_name": "StyleView",
            "_model_name": "DescriptionStyleModel",
            "description_width": "",
            "_view_module": "@jupyter-widgets/base",
            "_model_module_version": "1.5.0",
            "_view_count": null,
            "_view_module_version": "1.2.0",
            "_model_module": "@jupyter-widgets/controls"
          }
        },
        "7e51bc097ba3438b9820a2b923579ea6": {
          "model_module": "@jupyter-widgets/base",
          "model_name": "LayoutModel",
          "state": {
            "_view_name": "LayoutView",
            "grid_template_rows": null,
            "right": null,
            "justify_content": null,
            "_view_module": "@jupyter-widgets/base",
            "overflow": null,
            "_model_module_version": "1.2.0",
            "_view_count": null,
            "flex_flow": null,
            "width": null,
            "min_width": null,
            "border": null,
            "align_items": null,
            "bottom": null,
            "_model_module": "@jupyter-widgets/base",
            "top": null,
            "grid_column": null,
            "overflow_y": null,
            "overflow_x": null,
            "grid_auto_flow": null,
            "grid_area": null,
            "grid_template_columns": null,
            "flex": null,
            "_model_name": "LayoutModel",
            "justify_items": null,
            "grid_row": null,
            "max_height": null,
            "align_content": null,
            "visibility": null,
            "align_self": null,
            "height": null,
            "min_height": null,
            "padding": null,
            "grid_auto_rows": null,
            "grid_gap": null,
            "max_width": null,
            "order": null,
            "_view_module_version": "1.2.0",
            "grid_template_areas": null,
            "object_position": null,
            "object_fit": null,
            "grid_auto_columns": null,
            "margin": null,
            "display": null,
            "left": null
          }
        }
      }
    }
  },
  "cells": [
    {
      "cell_type": "markdown",
      "metadata": {
        "id": "view-in-github",
        "colab_type": "text"
      },
      "source": [
        "<a href=\"https://colab.research.google.com/github/yuanfeiwo/test-firstrepository/blob/master/Module5_5_4_AutoML_V1.ipynb\" target=\"_parent\"><img src=\"https://colab.research.google.com/assets/colab-badge.svg\" alt=\"Open In Colab\"/></a>"
      ]
    },
    {
      "cell_type": "code",
      "metadata": {
        "id": "koaSrSHBNLvl"
      },
      "source": [
        "# Module: Data Science in Finance, AutoML \n",
        "# Version 1.0\n",
        "# Topic : AutoML - TPOT\n",
        "# Example source: https://www.kaggle.com/wendykan/lending-club-loan-data\n",
        "#####################################################################\n",
        "# For support or questions, contact QuantUniversity at\n",
        "# sri@quantuniversity.com\n",
        "# Copyright 2020 QuantUniversity LLC.\n",
        "#####################################################################"
      ],
      "execution_count": 1,
      "outputs": []
    },
    {
      "cell_type": "markdown",
      "metadata": {
        "id": "WZhK_bBYNLvp"
      },
      "source": [
        "# AutoML with TPOT\n",
        "\n",
        "AutoML is the process of automating an end-to-end Machine Learning pipeline. [TPOT](https://epistasislab.github.io/tpot/) specifically uses genetic programming to optimise these piplines by selecting the best model and its hyperparamters."
      ]
    },
    {
      "cell_type": "markdown",
      "metadata": {
        "id": "SUUuL-CsNLvq"
      },
      "source": [
        "![TPOT](https://raw.githubusercontent.com/EpistasisLab/tpot/master/images/tpot-ml-pipeline.png)\n",
        "<center>Image source: https://epistasislab.github.io/tpot/</center>"
      ]
    },
    {
      "cell_type": "markdown",
      "metadata": {
        "id": "MxikrJpANLvq"
      },
      "source": [
        "This notebook explains the basic workflow involved in an AutoML pipeline with TPOT"
      ]
    },
    {
      "cell_type": "markdown",
      "metadata": {
        "id": "dEkPJwBQNLvr"
      },
      "source": [
        "### Imports"
      ]
    },
    {
      "cell_type": "code",
      "metadata": {
        "id": "1otxlLyRNLvr",
        "colab": {
          "base_uri": "https://localhost:8080/"
        },
        "outputId": "ae76ec90-37e7-4aa0-cfae-4d5e3cb22d73"
      },
      "source": [
        "# for numerical analysis and data processing\n",
        "import numpy as np\n",
        "import pandas as pd\n",
        "\n",
        "#AutoML\n",
        "from sklearn.metrics.scorer import make_scorer\n",
        "\n",
        "!pip install TPOT\n",
        "from tpot import TPOTRegressor"
      ],
      "execution_count": 2,
      "outputs": [
        {
          "output_type": "stream",
          "text": [
            "/usr/local/lib/python3.6/dist-packages/sklearn/utils/deprecation.py:144: FutureWarning: The sklearn.metrics.scorer module is  deprecated in version 0.22 and will be removed in version 0.24. The corresponding classes / functions should instead be imported from sklearn.metrics. Anything that cannot be imported from sklearn.metrics is now part of the private API.\n",
            "  warnings.warn(message, FutureWarning)\n"
          ],
          "name": "stderr"
        },
        {
          "output_type": "stream",
          "text": [
            "Collecting TPOT\n",
            "\u001b[?25l  Downloading https://files.pythonhosted.org/packages/21/55/08a98dbd10e6bd764c7a572d05d9d9eb80e3cc77d292541d097981abf35b/TPOT-0.11.6.post3-py3-none-any.whl (86kB)\n",
            "\r\u001b[K     |███▉                            | 10kB 18.7MB/s eta 0:00:01\r\u001b[K     |███████▋                        | 20kB 24.6MB/s eta 0:00:01\r\u001b[K     |███████████▍                    | 30kB 17.3MB/s eta 0:00:01\r\u001b[K     |███████████████▏                | 40kB 11.7MB/s eta 0:00:01\r\u001b[K     |███████████████████             | 51kB 8.0MB/s eta 0:00:01\r\u001b[K     |██████████████████████▉         | 61kB 8.1MB/s eta 0:00:01\r\u001b[K     |██████████████████████████▋     | 71kB 9.2MB/s eta 0:00:01\r\u001b[K     |██████████████████████████████▍ | 81kB 9.2MB/s eta 0:00:01\r\u001b[K     |████████████████████████████████| 92kB 5.7MB/s \n",
            "\u001b[?25hRequirement already satisfied: joblib>=0.13.2 in /usr/local/lib/python3.6/dist-packages (from TPOT) (0.17.0)\n",
            "Collecting deap>=1.2\n",
            "\u001b[?25l  Downloading https://files.pythonhosted.org/packages/0a/eb/2bd0a32e3ce757fb26264765abbaedd6d4d3640d90219a513aeabd08ee2b/deap-1.3.1-cp36-cp36m-manylinux2010_x86_64.whl (157kB)\n",
            "\u001b[K     |████████████████████████████████| 163kB 10.5MB/s \n",
            "\u001b[?25hCollecting update-checker>=0.16\n",
            "  Downloading https://files.pythonhosted.org/packages/0c/ba/8dd7fa5f0b1c6a8ac62f8f57f7e794160c1f86f31c6d0fb00f582372a3e4/update_checker-0.18.0-py3-none-any.whl\n",
            "Collecting xgboost>=1.1.0\n",
            "\u001b[?25l  Downloading https://files.pythonhosted.org/packages/2e/ce/e89ebd5f3a1982e7785f6dd16c923cf038abeda3f054914126c679385623/xgboost-1.3.0.post0-py3-none-manylinux2010_x86_64.whl (157.5MB)\n",
            "\u001b[K     |████████████████████████████████| 157.5MB 77kB/s \n",
            "\u001b[?25hRequirement already satisfied: numpy>=1.16.3 in /usr/local/lib/python3.6/dist-packages (from TPOT) (1.18.5)\n",
            "Requirement already satisfied: scikit-learn>=0.22.0 in /usr/local/lib/python3.6/dist-packages (from TPOT) (0.22.2.post1)\n",
            "Requirement already satisfied: tqdm>=4.36.1 in /usr/local/lib/python3.6/dist-packages (from TPOT) (4.41.1)\n",
            "Requirement already satisfied: scipy>=1.3.1 in /usr/local/lib/python3.6/dist-packages (from TPOT) (1.4.1)\n",
            "Collecting stopit>=1.1.1\n",
            "  Downloading https://files.pythonhosted.org/packages/35/58/e8bb0b0fb05baf07bbac1450c447d753da65f9701f551dca79823ce15d50/stopit-1.1.2.tar.gz\n",
            "Requirement already satisfied: pandas>=0.24.2 in /usr/local/lib/python3.6/dist-packages (from TPOT) (1.1.5)\n",
            "Requirement already satisfied: requests>=2.3.0 in /usr/local/lib/python3.6/dist-packages (from update-checker>=0.16->TPOT) (2.23.0)\n",
            "Requirement already satisfied: pytz>=2017.2 in /usr/local/lib/python3.6/dist-packages (from pandas>=0.24.2->TPOT) (2018.9)\n",
            "Requirement already satisfied: python-dateutil>=2.7.3 in /usr/local/lib/python3.6/dist-packages (from pandas>=0.24.2->TPOT) (2.8.1)\n",
            "Requirement already satisfied: chardet<4,>=3.0.2 in /usr/local/lib/python3.6/dist-packages (from requests>=2.3.0->update-checker>=0.16->TPOT) (3.0.4)\n",
            "Requirement already satisfied: urllib3!=1.25.0,!=1.25.1,<1.26,>=1.21.1 in /usr/local/lib/python3.6/dist-packages (from requests>=2.3.0->update-checker>=0.16->TPOT) (1.24.3)\n",
            "Requirement already satisfied: idna<3,>=2.5 in /usr/local/lib/python3.6/dist-packages (from requests>=2.3.0->update-checker>=0.16->TPOT) (2.10)\n",
            "Requirement already satisfied: certifi>=2017.4.17 in /usr/local/lib/python3.6/dist-packages (from requests>=2.3.0->update-checker>=0.16->TPOT) (2020.12.5)\n",
            "Requirement already satisfied: six>=1.5 in /usr/local/lib/python3.6/dist-packages (from python-dateutil>=2.7.3->pandas>=0.24.2->TPOT) (1.15.0)\n",
            "Building wheels for collected packages: stopit\n",
            "  Building wheel for stopit (setup.py) ... \u001b[?25l\u001b[?25hdone\n",
            "  Created wheel for stopit: filename=stopit-1.1.2-cp36-none-any.whl size=11954 sha256=8cab612fff7e4655704d4bf9dd09f60c5b30fb81d9bc083eeb08feda43165c68\n",
            "  Stored in directory: /root/.cache/pip/wheels/3c/85/2b/2580190404636bfc63e8de3dff629c03bb795021e1983a6cc7\n",
            "Successfully built stopit\n",
            "Installing collected packages: deap, update-checker, xgboost, stopit, TPOT\n",
            "  Found existing installation: xgboost 0.90\n",
            "    Uninstalling xgboost-0.90:\n",
            "      Successfully uninstalled xgboost-0.90\n",
            "Successfully installed TPOT-0.11.6.post3 deap-1.3.1 stopit-1.1.2 update-checker-0.18.0 xgboost-1.3.0.post0\n"
          ],
          "name": "stdout"
        }
      ]
    },
    {
      "cell_type": "code",
      "metadata": {
        "id": "cOl50vZZXC89"
      },
      "source": [
        "import requests\n",
        "from io import StringIO"
      ],
      "execution_count": 3,
      "outputs": []
    },
    {
      "cell_type": "markdown",
      "metadata": {
        "id": "vjne4tjfNLvu"
      },
      "source": [
        "### Dataset"
      ]
    },
    {
      "cell_type": "markdown",
      "metadata": {
        "id": "E6Co_ymTNLvu"
      },
      "source": [
        "The data set is the lending data for lendingclub from August 2011 to December 2011 for some borrowers. The feature descriptions for the data are also provided. Not all the features are required for making predictions, some features are redundant in the original data file. The provided data file is already cleaned and only relevant features are provided. There are two types of features, numerical and categorical."
      ]
    },
    {
      "cell_type": "markdown",
      "metadata": {
        "id": "ka6l-rLxNLvv"
      },
      "source": [
        "Reading the input data from csv file."
      ]
    },
    {
      "cell_type": "code",
      "metadata": {
        "id": "VwMuoZHvNLvv"
      },
      "source": [
        "orig_url_data='https://drive.google.com//file//d//1yG-JxC1Br3c8u3cfmKQWC9pgz6Pqggw5//view?usp=sharing'\n",
        "file_id = orig_url_data.split('//')[-2]\n",
        "dwn_url='https://drive.google.com//uc?export=download&id=' + file_id\n",
        "url = requests.get(dwn_url).text\n",
        "csv_raw = StringIO(url)\n",
        "df = pd.read_csv(csv_raw)\n",
        "\n",
        "orig_url_description='https://drive.google.com//file//d//1HFd4gKbknC28rHTWysec48NqfB6g3ZHx//view?usp=sharing'\n",
        "file_id = orig_url_description.split('//')[-2]\n",
        "dwn_url='https://drive.google.com//uc?export=download&id=' + file_id\n",
        "url = requests.get(dwn_url).text\n",
        "csv_raw = StringIO(url)\n",
        "df_description = pd.read_excel(dwn_url)\n",
        "\n",
        "\n",
        "del df['issue_d'] # removing issue date as it wont affect the prediction (redundant feature)"
      ],
      "execution_count": 4,
      "outputs": []
    },
    {
      "cell_type": "code",
      "metadata": {
        "id": "HvLwWySyNLvy",
        "colab": {
          "base_uri": "https://localhost:8080/",
          "height": 309
        },
        "outputId": "c0fc5930-06d0-443c-e62a-e4845e03cd6c"
      },
      "source": [
        "df.head()"
      ],
      "execution_count": 5,
      "outputs": [
        {
          "output_type": "execute_result",
          "data": {
            "text/html": [
              "<div>\n",
              "<style scoped>\n",
              "    .dataframe tbody tr th:only-of-type {\n",
              "        vertical-align: middle;\n",
              "    }\n",
              "\n",
              "    .dataframe tbody tr th {\n",
              "        vertical-align: top;\n",
              "    }\n",
              "\n",
              "    .dataframe thead th {\n",
              "        text-align: right;\n",
              "    }\n",
              "</style>\n",
              "<table border=\"1\" class=\"dataframe\">\n",
              "  <thead>\n",
              "    <tr style=\"text-align: right;\">\n",
              "      <th></th>\n",
              "      <th>loan_amnt</th>\n",
              "      <th>term</th>\n",
              "      <th>int_rate</th>\n",
              "      <th>installment</th>\n",
              "      <th>grade</th>\n",
              "      <th>sub_grade</th>\n",
              "      <th>emp_length</th>\n",
              "      <th>home_ownership</th>\n",
              "      <th>annual_inc</th>\n",
              "      <th>verification_status</th>\n",
              "      <th>purpose</th>\n",
              "      <th>addr_state</th>\n",
              "      <th>dti</th>\n",
              "      <th>delinq_2yrs</th>\n",
              "      <th>inq_last_6mths</th>\n",
              "      <th>loan_status_Binary</th>\n",
              "    </tr>\n",
              "  </thead>\n",
              "  <tbody>\n",
              "    <tr>\n",
              "      <th>0</th>\n",
              "      <td>5000</td>\n",
              "      <td>36 months</td>\n",
              "      <td>10.65</td>\n",
              "      <td>162.87</td>\n",
              "      <td>B</td>\n",
              "      <td>B2</td>\n",
              "      <td>10+ years</td>\n",
              "      <td>RENT</td>\n",
              "      <td>24000.0</td>\n",
              "      <td>Verified</td>\n",
              "      <td>credit_card</td>\n",
              "      <td>AZ</td>\n",
              "      <td>27.65</td>\n",
              "      <td>0</td>\n",
              "      <td>1</td>\n",
              "      <td>0</td>\n",
              "    </tr>\n",
              "    <tr>\n",
              "      <th>1</th>\n",
              "      <td>2500</td>\n",
              "      <td>60 months</td>\n",
              "      <td>15.27</td>\n",
              "      <td>59.83</td>\n",
              "      <td>C</td>\n",
              "      <td>C4</td>\n",
              "      <td>&lt; 1 year</td>\n",
              "      <td>RENT</td>\n",
              "      <td>30000.0</td>\n",
              "      <td>Source Verified</td>\n",
              "      <td>car</td>\n",
              "      <td>GA</td>\n",
              "      <td>1.00</td>\n",
              "      <td>0</td>\n",
              "      <td>5</td>\n",
              "      <td>1</td>\n",
              "    </tr>\n",
              "    <tr>\n",
              "      <th>2</th>\n",
              "      <td>2400</td>\n",
              "      <td>36 months</td>\n",
              "      <td>15.96</td>\n",
              "      <td>84.33</td>\n",
              "      <td>C</td>\n",
              "      <td>C5</td>\n",
              "      <td>10+ years</td>\n",
              "      <td>RENT</td>\n",
              "      <td>12252.0</td>\n",
              "      <td>Not Verified</td>\n",
              "      <td>small_business</td>\n",
              "      <td>IL</td>\n",
              "      <td>8.72</td>\n",
              "      <td>0</td>\n",
              "      <td>2</td>\n",
              "      <td>0</td>\n",
              "    </tr>\n",
              "    <tr>\n",
              "      <th>3</th>\n",
              "      <td>10000</td>\n",
              "      <td>36 months</td>\n",
              "      <td>13.49</td>\n",
              "      <td>339.31</td>\n",
              "      <td>C</td>\n",
              "      <td>C1</td>\n",
              "      <td>10+ years</td>\n",
              "      <td>RENT</td>\n",
              "      <td>49200.0</td>\n",
              "      <td>Source Verified</td>\n",
              "      <td>other</td>\n",
              "      <td>CA</td>\n",
              "      <td>20.00</td>\n",
              "      <td>0</td>\n",
              "      <td>1</td>\n",
              "      <td>0</td>\n",
              "    </tr>\n",
              "    <tr>\n",
              "      <th>4</th>\n",
              "      <td>3000</td>\n",
              "      <td>60 months</td>\n",
              "      <td>12.69</td>\n",
              "      <td>67.79</td>\n",
              "      <td>B</td>\n",
              "      <td>B5</td>\n",
              "      <td>1 year</td>\n",
              "      <td>RENT</td>\n",
              "      <td>80000.0</td>\n",
              "      <td>Source Verified</td>\n",
              "      <td>other</td>\n",
              "      <td>OR</td>\n",
              "      <td>17.94</td>\n",
              "      <td>0</td>\n",
              "      <td>0</td>\n",
              "      <td>0</td>\n",
              "    </tr>\n",
              "  </tbody>\n",
              "</table>\n",
              "</div>"
            ],
            "text/plain": [
              "   loan_amnt        term  ...  inq_last_6mths  loan_status_Binary\n",
              "0       5000   36 months  ...               1                   0\n",
              "1       2500   60 months  ...               5                   1\n",
              "2       2400   36 months  ...               2                   0\n",
              "3      10000   36 months  ...               1                   0\n",
              "4       3000   60 months  ...               0                   0\n",
              "\n",
              "[5 rows x 16 columns]"
            ]
          },
          "metadata": {
            "tags": []
          },
          "execution_count": 5
        }
      ]
    },
    {
      "cell_type": "markdown",
      "metadata": {
        "id": "XuDTfOzoNLv1"
      },
      "source": [
        "### Preparing categorical features - One Hot Encoding"
      ]
    },
    {
      "cell_type": "markdown",
      "metadata": {
        "id": "Ql5eimDmNLv2"
      },
      "source": [
        "**Current version of TPOT does not support sparse matrix [link](https://github.com/EpistasisLab/tpot/issues/526), hence we need to do a bit of data preprocessing like converting categorical features.**"
      ]
    },
    {
      "cell_type": "markdown",
      "metadata": {
        "id": "ZN7QCgRyNLv2"
      },
      "source": [
        "One way of representing categrical features is called one-hot encoding. Assume a categorical feature X with possible values as \\[a, b, c, d\\]. If in some sample the value of X=c, in one hot encoding ths particular feature is represented as X=\\[0, 0, 1, 0\\]. Its a binary array representation of length equal to the number of possible feature value, with 1 for the actual value."
      ]
    },
    {
      "cell_type": "markdown",
      "metadata": {
        "id": "TIgiyVGiNLv2"
      },
      "source": [
        "If X can have values a b c d, then"
      ]
    },
    {
      "cell_type": "markdown",
      "metadata": {
        "id": "hH5-Qju4NLv3"
      },
      "source": [
        "X=c  \n",
        "X=\\[0, 0, 1, 0\\]"
      ]
    },
    {
      "cell_type": "markdown",
      "metadata": {
        "id": "1Ooc4i2kNLv3"
      },
      "source": [
        "X=a  \n",
        "X=\\[1, 0, 0, 0\\]"
      ]
    },
    {
      "cell_type": "code",
      "metadata": {
        "id": "RtkjWnUANLv4"
      },
      "source": [
        "numeric_columns = df.select_dtypes(include=['float64','int64']).columns\n",
        "categorical_columns = df.select_dtypes(include=['object']).columns"
      ],
      "execution_count": 6,
      "outputs": []
    },
    {
      "cell_type": "code",
      "metadata": {
        "id": "6KdE2vdbNLv7"
      },
      "source": [
        "for col in categorical_columns:\n",
        "    df[col] = df[col].astype('category')"
      ],
      "execution_count": 7,
      "outputs": []
    },
    {
      "cell_type": "markdown",
      "metadata": {
        "id": "V5Q9w1P1NLv9"
      },
      "source": [
        "#### Dictionary for categorical features."
      ]
    },
    {
      "cell_type": "code",
      "metadata": {
        "id": "tj12_OoaNLv-"
      },
      "source": [
        "categories={}\n",
        "for cat in categorical_columns:\n",
        "    categories[cat] = df[cat].cat.categories.tolist()"
      ],
      "execution_count": 8,
      "outputs": []
    },
    {
      "cell_type": "code",
      "metadata": {
        "id": "U8Bdq2iSNLwA"
      },
      "source": [
        "p_categories = df['purpose'].cat.categories.tolist()\n",
        "s_categories = df['addr_state'].cat.categories.tolist()\n",
        "df[categorical_columns] = df[categorical_columns].apply(lambda x: x.cat.codes)"
      ],
      "execution_count": 9,
      "outputs": []
    },
    {
      "cell_type": "code",
      "metadata": {
        "id": "erebxauDNLwC",
        "colab": {
          "base_uri": "https://localhost:8080/",
          "height": 224
        },
        "outputId": "c2bea847-6312-48af-ae43-e3b43723fdfb"
      },
      "source": [
        "df.head()"
      ],
      "execution_count": 10,
      "outputs": [
        {
          "output_type": "execute_result",
          "data": {
            "text/html": [
              "<div>\n",
              "<style scoped>\n",
              "    .dataframe tbody tr th:only-of-type {\n",
              "        vertical-align: middle;\n",
              "    }\n",
              "\n",
              "    .dataframe tbody tr th {\n",
              "        vertical-align: top;\n",
              "    }\n",
              "\n",
              "    .dataframe thead th {\n",
              "        text-align: right;\n",
              "    }\n",
              "</style>\n",
              "<table border=\"1\" class=\"dataframe\">\n",
              "  <thead>\n",
              "    <tr style=\"text-align: right;\">\n",
              "      <th></th>\n",
              "      <th>loan_amnt</th>\n",
              "      <th>term</th>\n",
              "      <th>int_rate</th>\n",
              "      <th>installment</th>\n",
              "      <th>grade</th>\n",
              "      <th>sub_grade</th>\n",
              "      <th>emp_length</th>\n",
              "      <th>home_ownership</th>\n",
              "      <th>annual_inc</th>\n",
              "      <th>verification_status</th>\n",
              "      <th>purpose</th>\n",
              "      <th>addr_state</th>\n",
              "      <th>dti</th>\n",
              "      <th>delinq_2yrs</th>\n",
              "      <th>inq_last_6mths</th>\n",
              "      <th>loan_status_Binary</th>\n",
              "    </tr>\n",
              "  </thead>\n",
              "  <tbody>\n",
              "    <tr>\n",
              "      <th>0</th>\n",
              "      <td>5000</td>\n",
              "      <td>0</td>\n",
              "      <td>10.65</td>\n",
              "      <td>162.87</td>\n",
              "      <td>1</td>\n",
              "      <td>6</td>\n",
              "      <td>1</td>\n",
              "      <td>2</td>\n",
              "      <td>24000.0</td>\n",
              "      <td>2</td>\n",
              "      <td>1</td>\n",
              "      <td>3</td>\n",
              "      <td>27.65</td>\n",
              "      <td>0</td>\n",
              "      <td>1</td>\n",
              "      <td>0</td>\n",
              "    </tr>\n",
              "    <tr>\n",
              "      <th>1</th>\n",
              "      <td>2500</td>\n",
              "      <td>1</td>\n",
              "      <td>15.27</td>\n",
              "      <td>59.83</td>\n",
              "      <td>2</td>\n",
              "      <td>13</td>\n",
              "      <td>10</td>\n",
              "      <td>2</td>\n",
              "      <td>30000.0</td>\n",
              "      <td>1</td>\n",
              "      <td>0</td>\n",
              "      <td>10</td>\n",
              "      <td>1.00</td>\n",
              "      <td>0</td>\n",
              "      <td>5</td>\n",
              "      <td>1</td>\n",
              "    </tr>\n",
              "    <tr>\n",
              "      <th>2</th>\n",
              "      <td>2400</td>\n",
              "      <td>0</td>\n",
              "      <td>15.96</td>\n",
              "      <td>84.33</td>\n",
              "      <td>2</td>\n",
              "      <td>14</td>\n",
              "      <td>1</td>\n",
              "      <td>2</td>\n",
              "      <td>12252.0</td>\n",
              "      <td>0</td>\n",
              "      <td>10</td>\n",
              "      <td>12</td>\n",
              "      <td>8.72</td>\n",
              "      <td>0</td>\n",
              "      <td>2</td>\n",
              "      <td>0</td>\n",
              "    </tr>\n",
              "    <tr>\n",
              "      <th>3</th>\n",
              "      <td>10000</td>\n",
              "      <td>0</td>\n",
              "      <td>13.49</td>\n",
              "      <td>339.31</td>\n",
              "      <td>2</td>\n",
              "      <td>10</td>\n",
              "      <td>1</td>\n",
              "      <td>2</td>\n",
              "      <td>49200.0</td>\n",
              "      <td>1</td>\n",
              "      <td>8</td>\n",
              "      <td>4</td>\n",
              "      <td>20.00</td>\n",
              "      <td>0</td>\n",
              "      <td>1</td>\n",
              "      <td>0</td>\n",
              "    </tr>\n",
              "    <tr>\n",
              "      <th>4</th>\n",
              "      <td>3000</td>\n",
              "      <td>1</td>\n",
              "      <td>12.69</td>\n",
              "      <td>67.79</td>\n",
              "      <td>1</td>\n",
              "      <td>9</td>\n",
              "      <td>0</td>\n",
              "      <td>2</td>\n",
              "      <td>80000.0</td>\n",
              "      <td>1</td>\n",
              "      <td>8</td>\n",
              "      <td>31</td>\n",
              "      <td>17.94</td>\n",
              "      <td>0</td>\n",
              "      <td>0</td>\n",
              "      <td>0</td>\n",
              "    </tr>\n",
              "  </tbody>\n",
              "</table>\n",
              "</div>"
            ],
            "text/plain": [
              "   loan_amnt  term  int_rate  ...  delinq_2yrs  inq_last_6mths  loan_status_Binary\n",
              "0       5000     0     10.65  ...            0               1                   0\n",
              "1       2500     1     15.27  ...            0               5                   1\n",
              "2       2400     0     15.96  ...            0               2                   0\n",
              "3      10000     0     13.49  ...            0               1                   0\n",
              "4       3000     1     12.69  ...            0               0                   0\n",
              "\n",
              "[5 rows x 16 columns]"
            ]
          },
          "metadata": {
            "tags": []
          },
          "execution_count": 10
        }
      ]
    },
    {
      "cell_type": "markdown",
      "metadata": {
        "id": "R9bspw3XNLwF"
      },
      "source": [
        "Storing interest rate statistics"
      ]
    },
    {
      "cell_type": "code",
      "metadata": {
        "id": "SEC1qfAVNLwF",
        "colab": {
          "base_uri": "https://localhost:8080/"
        },
        "outputId": "ebd162bc-5ae3-41f4-8266-d7b1cbec2761"
      },
      "source": [
        "min_rate= df['int_rate'].min()\n",
        "max_rate= df['int_rate'].max()\n",
        "print(min_rate, max_rate, max_rate- min_rate)"
      ],
      "execution_count": 11,
      "outputs": [
        {
          "output_type": "stream",
          "text": [
            "5.42 24.11 18.689999999999998\n"
          ],
          "name": "stdout"
        }
      ]
    },
    {
      "cell_type": "code",
      "metadata": {
        "id": "712izGKuNLwI"
      },
      "source": [
        "df_max = df.max()\n",
        "df_min = df.min()"
      ],
      "execution_count": 12,
      "outputs": []
    },
    {
      "cell_type": "markdown",
      "metadata": {
        "id": "AqyHg1HsNLwK"
      },
      "source": [
        "## Preparing the dataset "
      ]
    },
    {
      "cell_type": "markdown",
      "metadata": {
        "id": "Fmipx8ZVNLwK"
      },
      "source": [
        "The data is split into training and testing data. x represents the input features whereas y represents the output i.e. the interest rate.As a rule of thumb, we split the data into 80% training data and 20% testing or validation data."
      ]
    },
    {
      "cell_type": "code",
      "metadata": {
        "id": "ZJRbFoavNLwK"
      },
      "source": [
        "y = df.iloc[:,df.columns.isin([\"int_rate\"])]\n",
        "x = df.loc[:, ~df.columns.isin([\"int_rate\"])]\n",
        "\n",
        "total_samples=len(df)\n",
        "split = 0.8\n",
        "\n",
        "x_train = x[0:int(total_samples*split)]\n",
        "x_test = x[int(total_samples*split):total_samples]\n",
        "y_train = y[0:int(total_samples*split)]\n",
        "y_test = y[int(total_samples*split):total_samples]"
      ],
      "execution_count": 13,
      "outputs": []
    },
    {
      "cell_type": "markdown",
      "metadata": {
        "id": "fkMNlrHKNLwN"
      },
      "source": [
        "## AutoML"
      ]
    },
    {
      "cell_type": "markdown",
      "metadata": {
        "id": "iBvuKjLzNLwO"
      },
      "source": [
        "#### TPOT Regressor [link](https://epistasislab.github.io/tpot/api/#regression)\n",
        "The TPOTRegressor performs an intelligent search over machine learning pipelines that can contain supervised regression models, preprocessors, feature selection techniques, and any other estimator or transformer that follows the scikit-learn API. The TPOTRegressor will also search over the hyperparameters of all objects in the pipeline."
      ]
    },
    {
      "cell_type": "markdown",
      "metadata": {
        "id": "B-NuUZi4NLwO"
      },
      "source": [
        "These piplines are various combinations of different preprocessors and sklearn models. Some preprocessors include:\n",
        "* Binarizer\n",
        "* FastICA\n",
        "* FeatureAgglomeration\n",
        "* MaxAbsScaler\n",
        "* Normalizer\n",
        "* PCA\n",
        "* StandardScaler\n",
        "* RBFSampler\n",
        "* OneHotEncoder"
      ]
    },
    {
      "cell_type": "markdown",
      "metadata": {
        "id": "egrNIh3LNLwO"
      },
      "source": [
        "TPOT will evaluate POPULATION_SIZE + GENERATIONS x OFFSPRING_SIZE pipelines in total "
      ]
    },
    {
      "cell_type": "markdown",
      "metadata": {
        "id": "uTu8aQvhNLwP"
      },
      "source": [
        "**TPOTRegressor 's performance is as good as the amount of time it is allowed to optimize.**\n",
        "\n",
        "Here is an excerpt from TPOT's official documentation: \n",
        "\n",
        "*\"TPOT will take a while to run on larger datasets, but it’s important to realize why. With the default TPOT settings (100 generations with 100 population size), TPOT will evaluate 10,000 pipeline configurations before finishing. To put this number into context, think about a grid search of 10,000 hyperparameter combinations for a machine learning algorithm and how long that grid search will take. That is 10,000 model configurations to evaluate with 10-fold cross-validation, which means that roughly 100,000 models are fit and evaluated on the training data in one grid search.\"*"
      ]
    },
    {
      "cell_type": "markdown",
      "metadata": {
        "id": "ZlTtM-PNNLwP"
      },
      "source": [
        "### The following is all the code needed to find the best model:"
      ]
    },
    {
      "cell_type": "code",
      "metadata": {
        "scrolled": false,
        "id": "Zh8IJvnZNLwQ",
        "colab": {
          "base_uri": "https://localhost:8080/",
          "height": 596,
          "referenced_widgets": [
            "18982db5c78b40bb863b2f6f3d51e1fa",
            "50f39f2e87a049a8a4e6e082d1f973f4",
            "bfe065c7b8d14e17882608565877c93e",
            "00771dd5fe464c828ebb27e964cb1595",
            "000f1b6ce6f84db5af9a8b64ac6fd9b0",
            "258e45677d6c4f69889687f4741157b8",
            "f218280c6e2a42a6ab7788fa3b63446a",
            "7e51bc097ba3438b9820a2b923579ea6"
          ]
        },
        "outputId": "41bb9f27-a41d-4c24-c5a2-ce2785b761bf"
      },
      "source": [
        "tpot = TPOTRegressor(generations=10, \n",
        "                     population_size=10, \n",
        "                     verbosity=2, \n",
        "                     max_time_mins=5, #total time\n",
        "                     max_eval_time_mins=1, # time per pipeline\n",
        "                     scoring='neg_mean_absolute_error')\n",
        "tpot.fit(x_train, y_train)"
      ],
      "execution_count": 14,
      "outputs": [
        {
          "output_type": "stream",
          "text": [
            "/usr/local/lib/python3.6/dist-packages/sklearn/utils/validation.py:760: DataConversionWarning: A column-vector y was passed when a 1d array was expected. Please change the shape of y to (n_samples, ), for example using ravel().\n",
            "  y = column_or_1d(y, warn=True)\n"
          ],
          "name": "stderr"
        },
        {
          "output_type": "display_data",
          "data": {
            "application/vnd.jupyter.widget-view+json": {
              "model_id": "18982db5c78b40bb863b2f6f3d51e1fa",
              "version_minor": 0,
              "version_major": 2
            },
            "text/plain": [
              "HBox(children=(FloatProgress(value=0.0, description='Optimization Progress', max=10.0, style=ProgressStyle(des…"
            ]
          },
          "metadata": {
            "tags": []
          }
        },
        {
          "output_type": "stream",
          "text": [
            "\r\n",
            "Generation 1 - Current best internal CV score: -0.031091863950776715\n",
            "\n",
            "Generation 2 - Current best internal CV score: -0.031091863950776715\n",
            "\n",
            "Generation 3 - Current best internal CV score: -0.031091863950776715\n",
            "\n",
            "Generation 4 - Current best internal CV score: -0.031091863950776715\n",
            "\n",
            "Generation 5 - Current best internal CV score: -0.031091863950776715\n",
            "\n",
            "Generation 6 - Current best internal CV score: -0.031091863950776715\n",
            "\n",
            "5.02 minutes have elapsed. TPOT will close down.\n",
            "TPOT closed during evaluation in one generation.\n",
            "WARNING: TPOT may not provide a good pipeline if TPOT is stopped/interrupted in a early generation.\n",
            "\n",
            "\n",
            "TPOT closed prematurely. Will use the current best pipeline.\n",
            "\n",
            "Best pipeline: GradientBoostingRegressor(SelectPercentile(input_matrix, percentile=4), alpha=0.9, learning_rate=0.1, loss=lad, max_depth=8, max_features=0.45, min_samples_leaf=8, min_samples_split=5, n_estimators=100, subsample=0.8)\n"
          ],
          "name": "stdout"
        },
        {
          "output_type": "execute_result",
          "data": {
            "text/plain": [
              "TPOTRegressor(config_dict=None, crossover_rate=0.1, cv=5,\n",
              "              disable_update_check=False, early_stop=None, generations=10,\n",
              "              log_file=None, max_eval_time_mins=1, max_time_mins=5, memory=None,\n",
              "              mutation_rate=0.9, n_jobs=1, offspring_size=None,\n",
              "              periodic_checkpoint_folder=None, population_size=10,\n",
              "              random_state=None, scoring='neg_mean_absolute_error',\n",
              "              subsample=1.0, template=None, use_dask=False, verbosity=2,\n",
              "              warm_start=False)"
            ]
          },
          "metadata": {
            "tags": []
          },
          "execution_count": 14
        }
      ]
    },
    {
      "cell_type": "code",
      "metadata": {
        "id": "yE82JEN2NLwS",
        "colab": {
          "base_uri": "https://localhost:8080/"
        },
        "outputId": "6349a95f-0433-4f34-c66d-51dd46df86de"
      },
      "source": [
        "print(tpot.scoring_function + \": \"+ str(tpot.score(x_test,y_test)))"
      ],
      "execution_count": 15,
      "outputs": [
        {
          "output_type": "stream",
          "text": [
            "neg_mean_absolute_error: -0.588191405615076\n"
          ],
          "name": "stdout"
        },
        {
          "output_type": "stream",
          "text": [
            "/usr/local/lib/python3.6/dist-packages/sklearn/utils/validation.py:760: DataConversionWarning: A column-vector y was passed when a 1d array was expected. Please change the shape of y to (n_samples, ), for example using ravel().\n",
            "  y = column_or_1d(y, warn=True)\n"
          ],
          "name": "stderr"
        }
      ]
    },
    {
      "cell_type": "markdown",
      "metadata": {
        "id": "27dHjacQNLwU"
      },
      "source": [
        "### Using the best pipeline to make predictions"
      ]
    },
    {
      "cell_type": "code",
      "metadata": {
        "id": "CZkLPBfpNLwV"
      },
      "source": [
        "prediction = tpot.fitted_pipeline_.predict(x_test)\n",
        "prediction_train = tpot.fitted_pipeline_.predict(x_train)"
      ],
      "execution_count": 16,
      "outputs": []
    },
    {
      "cell_type": "code",
      "metadata": {
        "id": "6XfyMhZvNLwX",
        "colab": {
          "base_uri": "https://localhost:8080/"
        },
        "outputId": "2bec70c1-6a51-4be0-9718-c148bb3373f1"
      },
      "source": [
        "prediction[0:10]"
      ],
      "execution_count": 17,
      "outputs": [
        {
          "output_type": "execute_result",
          "data": {
            "text/plain": [
              "array([14.26987162, 12.41997923, 14.65001398, 10.649993  ,  7.89998513,\n",
              "       11.70999111,  6.03088102,  9.90999181, 10.649993  , 11.70999111])"
            ]
          },
          "metadata": {
            "tags": []
          },
          "execution_count": 17
        }
      ]
    },
    {
      "cell_type": "markdown",
      "metadata": {
        "id": "63ZeWyniNLwZ"
      },
      "source": [
        "#### TPOT export\n",
        "TPOT also allows you to export the best sklearn pipeline obtained from the AutoML flow as a python file using a simple method call."
      ]
    },
    {
      "cell_type": "code",
      "metadata": {
        "id": "e_X780w0NLwZ"
      },
      "source": [
        "tpot.export('tpot_sample.py')"
      ],
      "execution_count": 18,
      "outputs": []
    },
    {
      "cell_type": "markdown",
      "metadata": {
        "id": "hPDrokV4NLwb"
      },
      "source": [
        "### Export the best model"
      ]
    },
    {
      "cell_type": "code",
      "metadata": {
        "id": "TUaWMzmXNLwc"
      },
      "source": [
        "import pickle\n",
        "pickle.dump(tpot.fitted_pipeline_, open('tpot_pipeline.model','wb'))"
      ],
      "execution_count": 19,
      "outputs": []
    },
    {
      "cell_type": "markdown",
      "metadata": {
        "id": "I1YF8D_QNLwd"
      },
      "source": [
        "### MAPE (Mean Absolute Percentage Error)"
      ]
    },
    {
      "cell_type": "code",
      "metadata": {
        "id": "F8yPBvTkNLwe"
      },
      "source": [
        "def mean_absolute_percentage_error(y_true, y_pred): \n",
        "    return np.mean(np.abs((y_true - y_pred) / y_true)) * 100"
      ],
      "execution_count": 20,
      "outputs": []
    },
    {
      "cell_type": "code",
      "metadata": {
        "id": "3ULe11vaNLwg",
        "colab": {
          "base_uri": "https://localhost:8080/"
        },
        "outputId": "a53833b0-b3a3-4a8e-a63a-bf9fa4da031b"
      },
      "source": [
        "print(y_test.shape, y_train.shape)"
      ],
      "execution_count": 21,
      "outputs": [
        {
          "output_type": "stream",
          "text": [
            "(2000, 1) (7999, 1)\n"
          ],
          "name": "stdout"
        }
      ]
    },
    {
      "cell_type": "code",
      "metadata": {
        "id": "VpSf8EyXNLwi"
      },
      "source": [
        "mape_test = mean_absolute_percentage_error(y_test.values.ravel(), prediction)\n",
        "mape_train = mean_absolute_percentage_error(y_train.values.ravel(), prediction_train)"
      ],
      "execution_count": 22,
      "outputs": []
    },
    {
      "cell_type": "code",
      "metadata": {
        "id": "qc5fH5OqNLwk",
        "colab": {
          "base_uri": "https://localhost:8080/"
        },
        "outputId": "50c77e85-1415-4d64-fbdd-d41c9af66811"
      },
      "source": [
        "print(\"Training-set MAPE: \"+str(mape_train))\n",
        "print(\"Test-set MAPE: \"+str(mape_test))"
      ],
      "execution_count": 23,
      "outputs": [
        {
          "output_type": "stream",
          "text": [
            "Training-set MAPE: 0.2710055095532643\n",
            "Test-set MAPE: 5.332262909488683\n"
          ],
          "name": "stdout"
        }
      ]
    },
    {
      "cell_type": "markdown",
      "metadata": {
        "id": "jkInHaZZNLwn"
      },
      "source": [
        "### Actual values"
      ]
    },
    {
      "cell_type": "code",
      "metadata": {
        "id": "f2av1f2wNLwn",
        "colab": {
          "base_uri": "https://localhost:8080/"
        },
        "outputId": "9297b62b-0e29-44b0-a232-c1761577e13b"
      },
      "source": [
        "y_test.values[0:5].ravel()"
      ],
      "execution_count": 24,
      "outputs": [
        {
          "output_type": "execute_result",
          "data": {
            "text/plain": [
              "array([13.49, 11.49, 13.99, 10.59,  7.49])"
            ]
          },
          "metadata": {
            "tags": []
          },
          "execution_count": 24
        }
      ]
    },
    {
      "cell_type": "markdown",
      "metadata": {
        "id": "h9BWE3oLNLwp"
      },
      "source": [
        "### Predicted Values"
      ]
    },
    {
      "cell_type": "code",
      "metadata": {
        "id": "9IrMqkAjNLwp",
        "colab": {
          "base_uri": "https://localhost:8080/"
        },
        "outputId": "08c93117-b44c-4044-9afb-a15d3cb5cbfa"
      },
      "source": [
        "prediction[0:5]"
      ],
      "execution_count": 25,
      "outputs": [
        {
          "output_type": "execute_result",
          "data": {
            "text/plain": [
              "array([14.26987162, 12.41997923, 14.65001398, 10.649993  ,  7.89998513])"
            ]
          },
          "metadata": {
            "tags": []
          },
          "execution_count": 25
        }
      ]
    }
  ]
}