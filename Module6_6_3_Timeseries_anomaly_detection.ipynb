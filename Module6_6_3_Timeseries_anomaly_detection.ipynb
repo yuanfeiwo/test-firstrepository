{
  "nbformat": 4,
  "nbformat_minor": 0,
  "metadata": {
    "colab": {
      "name": "6.3 Timeseries_anomaly_detection",
      "provenance": [],
      "collapsed_sections": [],
      "toc_visible": true,
      "include_colab_link": true
    },
    "kernelspec": {
      "display_name": "Python 3",
      "language": "python",
      "name": "python3"
    },
    "language_info": {
      "codemirror_mode": {
        "name": "ipython",
        "version": 3
      },
      "file_extension": ".py",
      "mimetype": "text/x-python",
      "name": "python",
      "nbconvert_exporter": "python",
      "pygments_lexer": "ipython3",
      "version": "3.7.0"
    }
  },
  "cells": [
    {
      "cell_type": "markdown",
      "metadata": {
        "id": "view-in-github",
        "colab_type": "text"
      },
      "source": [
        "<a href=\"https://colab.research.google.com/github/yuanfeiwo/test-firstrepository/blob/master/Module6_6_3_Timeseries_anomaly_detection.ipynb\" target=\"_parent\"><img src=\"https://colab.research.google.com/assets/colab-badge.svg\" alt=\"Open In Colab\"/></a>"
      ]
    },
    {
      "cell_type": "markdown",
      "metadata": {
        "id": "fxKFTh5fwpgs"
      },
      "source": [
        "# Timeseries anomaly detection using an Autoencoder\n",
        "This example is sourced from https://keras.io/examples/\n",
        "\n",
        "**Author:** [pavithrasv](https://github.com/pavithrasv)<br>\n",
        "**Date created:** 2020/05/31<br>\n",
        "**Last modified:** 2020/05/31<br>\n",
        "**Description:** Detect anomalies in a timeseries using an Autoencoder."
      ]
    },
    {
      "cell_type": "markdown",
      "metadata": {
        "id": "lUrRzVIrwpgt"
      },
      "source": [
        "## Introduction\n",
        "\n",
        "This script demonstrates how you can use a reconstruction convolutional\n",
        "autoencoder model to detect anomalies in timeseries data.\n"
      ]
    },
    {
      "cell_type": "markdown",
      "metadata": {
        "id": "Rh6irOHrwpgu"
      },
      "source": [
        "## Setup\n"
      ]
    },
    {
      "cell_type": "code",
      "metadata": {
        "id": "nKbigA9xwpgv"
      },
      "source": [
        "import numpy as np\n",
        "import pandas as pd\n",
        "from tensorflow import keras\n",
        "from tensorflow.keras import layers\n",
        "from datetime import datetime\n",
        "from matplotlib import pyplot as plt\n",
        "from matplotlib import dates as md\n"
      ],
      "execution_count": 1,
      "outputs": []
    },
    {
      "cell_type": "markdown",
      "metadata": {
        "id": "IWScwE2Kwpgz"
      },
      "source": [
        "## Load the data\n",
        "\n",
        "We will use the [Numenta Anomaly Benchmark(NAB)](\n",
        "https://www.kaggle.com/boltzmannbrain/nab) dataset. It provides artifical\n",
        "timeseries data containing labeled anomalous periods of behavior. Data are\n",
        "ordered, timestamped, single-valued metrics.\n",
        "\n",
        "We will use the `art_daily_small_noise.csv` file for training and the\n",
        "`art_daily_jumpsup.csv` file for testing. The simplicity of this dataset\n",
        "allows us to demonstrate anomaly detection effectively.\n"
      ]
    },
    {
      "cell_type": "code",
      "metadata": {
        "id": "iMY8E1Aawpg0"
      },
      "source": [
        "master_url_root = \"https://raw.githubusercontent.com/numenta/NAB/master/data/\"\n",
        "\n",
        "df_small_noise_url_suffix = \"artificialNoAnomaly/art_daily_small_noise.csv\"\n",
        "df_small_noise_url = master_url_root + df_small_noise_url_suffix\n",
        "df_small_noise = pd.read_csv(df_small_noise_url)\n",
        "\n",
        "df_daily_jumpsup_url_suffix = \"artificialWithAnomaly/art_daily_jumpsup.csv\"\n",
        "df_daily_jumpsup_url = master_url_root + df_daily_jumpsup_url_suffix\n",
        "df_daily_jumpsup = pd.read_csv(df_daily_jumpsup_url)\n"
      ],
      "execution_count": 2,
      "outputs": []
    },
    {
      "cell_type": "markdown",
      "metadata": {
        "id": "aRM3SF3Ywpg3"
      },
      "source": [
        "## Quick look at the data\n"
      ]
    },
    {
      "cell_type": "code",
      "metadata": {
        "id": "rNYym6JBwpg4",
        "colab": {
          "base_uri": "https://localhost:8080/"
        },
        "outputId": "72b355ad-d8bf-4e0d-c41c-93ec73d60233"
      },
      "source": [
        "print(df_small_noise.head())\n",
        "\n",
        "print(df_daily_jumpsup.head())\n"
      ],
      "execution_count": 3,
      "outputs": [
        {
          "output_type": "stream",
          "text": [
            "             timestamp      value\n",
            "0  2014-04-01 00:00:00  18.324919\n",
            "1  2014-04-01 00:05:00  21.970327\n",
            "2  2014-04-01 00:10:00  18.624806\n",
            "3  2014-04-01 00:15:00  21.953684\n",
            "4  2014-04-01 00:20:00  21.909120\n",
            "             timestamp      value\n",
            "0  2014-04-01 00:00:00  19.761252\n",
            "1  2014-04-01 00:05:00  20.500833\n",
            "2  2014-04-01 00:10:00  19.961641\n",
            "3  2014-04-01 00:15:00  21.490266\n",
            "4  2014-04-01 00:20:00  20.187739\n"
          ],
          "name": "stdout"
        }
      ]
    },
    {
      "cell_type": "markdown",
      "metadata": {
        "id": "vUgf0Fspwpg7"
      },
      "source": [
        "## Visualize the data\n"
      ]
    },
    {
      "cell_type": "code",
      "metadata": {
        "id": "VZDgTU6Xwpg7"
      },
      "source": [
        "\n",
        "def plot_dates_values(data):\n",
        "    dates = data[\"timestamp\"].to_list()\n",
        "    values = data[\"value\"].to_list()\n",
        "    dates = [datetime.strptime(x, \"%Y-%m-%d %H:%M:%S\") for x in dates]\n",
        "    plt.subplots_adjust(bottom=0.2)\n",
        "    plt.xticks(rotation=25)\n",
        "    ax = plt.gca()\n",
        "    xfmt = md.DateFormatter(\"%Y-%m-%d %H:%M:%S\")\n",
        "    ax.xaxis.set_major_formatter(xfmt)\n",
        "    plt.plot(dates, values)\n",
        "    plt.show()\n",
        "\n"
      ],
      "execution_count": 4,
      "outputs": []
    },
    {
      "cell_type": "markdown",
      "metadata": {
        "id": "rLu1lGljwpg-"
      },
      "source": [
        "### Timeseries data without anomalies\n",
        "\n",
        "We will use the following data for training.\n"
      ]
    },
    {
      "cell_type": "code",
      "metadata": {
        "id": "UVuEily0wpg-",
        "colab": {
          "base_uri": "https://localhost:8080/",
          "height": 287
        },
        "outputId": "85d7f7f8-8bb5-4080-b49a-5d3370deec98"
      },
      "source": [
        "plot_dates_values(df_small_noise)\n"
      ],
      "execution_count": 5,
      "outputs": [
        {
          "output_type": "display_data",
          "data": {
            "image/png": "[encoded data removed]",
            "text/plain": [
              "<Figure size 432x288 with 1 Axes>"
            ]
          },
          "metadata": {
            "tags": [],
            "needs_background": "light"
          }
        }
      ]
    },
    {
      "cell_type": "markdown",
      "metadata": {
        "id": "bBTfyWTBwphB"
      },
      "source": [
        "### Timeseries data with anomalies\n",
        "\n",
        "We will use the following data for testing and see if the sudden jump up in the\n",
        "data is detected as an anomaly.\n"
      ]
    },
    {
      "cell_type": "code",
      "metadata": {
        "id": "ayECJNK4wphB",
        "colab": {
          "base_uri": "https://localhost:8080/",
          "height": 287
        },
        "outputId": "64d07b91-4203-409e-9158-f1794f86709b"
      },
      "source": [
        "plot_dates_values(df_daily_jumpsup)\n"
      ],
      "execution_count": 6,
      "outputs": [
        {
          "output_type": "display_data",
          "data": {
            "image/png": "[encoded data removed]",
            "text/plain": [
              "<Figure size 432x288 with 1 Axes>"
            ]
          },
          "metadata": {
            "tags": [],
            "needs_background": "light"
          }
        }
      ]
    },
    {
      "cell_type": "markdown",
      "metadata": {
        "id": "YSJJIAY_wphE"
      },
      "source": [
        "## Prepare training data\n",
        "\n",
        "Get data values from the training timeseries data file and normalize the\n",
        "`value` data. We have a `value` for every 5 mins for 14 days.\n",
        "\n",
        "-   24 * 60 / 5 = **288 timesteps per day**\n",
        "-   288 * 14 = **4032 data points** in total\n"
      ]
    },
    {
      "cell_type": "code",
      "metadata": {
        "id": "8P7NQA3mwphE",
        "colab": {
          "base_uri": "https://localhost:8080/"
        },
        "outputId": "8d58bbbf-6e9d-44c3-c4c9-6d845578bafc"
      },
      "source": [
        "\n",
        "def get_value_from_df(df):\n",
        "    return df.value.to_list()\n",
        "\n",
        "\n",
        "def normalize(values):\n",
        "    mean = np.mean(values)\n",
        "    values -= mean\n",
        "    std = np.std(values)\n",
        "    values /= std\n",
        "    return values, mean, std\n",
        "\n",
        "\n",
        "# Get the `value` column from the training dataframe.\n",
        "training_value = get_value_from_df(df_small_noise)\n",
        "\n",
        "# Normalize `value` and save the mean and std we get,\n",
        "# for normalizing test data.\n",
        "training_value, training_mean, training_std = normalize(training_value)\n",
        "len(training_value)\n"
      ],
      "execution_count": 7,
      "outputs": [
        {
          "output_type": "execute_result",
          "data": {
            "text/plain": [
              "4032"
            ]
          },
          "metadata": {
            "tags": []
          },
          "execution_count": 7
        }
      ]
    },
    {
      "cell_type": "markdown",
      "metadata": {
        "id": "dSGQZqkVwphG"
      },
      "source": [
        "### Create sequences\n",
        "Create sequences combining `TIME_STEPS` contiguous data values from the\n",
        "training data.\n"
      ]
    },
    {
      "cell_type": "code",
      "metadata": {
        "id": "k1MIpfspwphH",
        "colab": {
          "base_uri": "https://localhost:8080/"
        },
        "outputId": "f0ea263b-ffcf-4526-b172-2b1f4d67fee9"
      },
      "source": [
        "TIME_STEPS = 288\n",
        "\n",
        "\n",
        "def create_sequences(values, time_steps=TIME_STEPS):\n",
        "    output = []\n",
        "    for i in range(len(values) - time_steps):\n",
        "        output.append(values[i : (i + time_steps)])\n",
        "    # Convert 2D sequences into 3D as we will be feeding this into\n",
        "    # a convolutional layer.\n",
        "    return np.expand_dims(output, axis=2)\n",
        "\n",
        "\n",
        "x_train = create_sequences(training_value)\n",
        "print(\"Training input shape: \", x_train.shape)\n"
      ],
      "execution_count": 8,
      "outputs": [
        {
          "output_type": "stream",
          "text": [
            "Training input shape:  (3744, 288, 1)\n"
          ],
          "name": "stdout"
        }
      ]
    },
    {
      "cell_type": "markdown",
      "metadata": {
        "id": "19Edse2XwphK"
      },
      "source": [
        "## Build a model\n",
        "\n",
        "We will build a convolutional reconstruction autoencoder model. The model will\n",
        "take input of shape `(batch_size, sequence_length, num_features)` and return\n",
        "output of the same shape. In this case, `sequence_length` is 288 and\n",
        "`num_features` is 1.\n"
      ]
    },
    {
      "cell_type": "code",
      "metadata": {
        "id": "V-j7SlCFwphL",
        "colab": {
          "base_uri": "https://localhost:8080/"
        },
        "outputId": "519051ca-5ab4-42c7-816d-de38ea7ff6d8"
      },
      "source": [
        "model = keras.Sequential(\n",
        "    [\n",
        "        layers.Input(shape=(x_train.shape[1], x_train.shape[2])),\n",
        "        layers.Conv1D(\n",
        "            filters=32, kernel_size=7, padding=\"same\", strides=2, activation=\"relu\"\n",
        "        ),\n",
        "        layers.Dropout(rate=0.2),\n",
        "        layers.Conv1D(\n",
        "            filters=16, kernel_size=7, padding=\"same\", strides=2, activation=\"relu\"\n",
        "        ),\n",
        "        layers.Conv1DTranspose(\n",
        "            filters=16, kernel_size=7, padding=\"same\", strides=2, activation=\"relu\"\n",
        "        ),\n",
        "        layers.Dropout(rate=0.2),\n",
        "        layers.Conv1DTranspose(\n",
        "            filters=32, kernel_size=7, padding=\"same\", strides=2, activation=\"relu\"\n",
        "        ),\n",
        "        layers.Conv1DTranspose(filters=1, kernel_size=7, padding=\"same\"),\n",
        "    ]\n",
        ")\n",
        "model.compile(optimizer=keras.optimizers.Adam(learning_rate=0.001), loss=\"mse\")\n",
        "model.summary()\n"
      ],
      "execution_count": 9,
      "outputs": [
        {
          "output_type": "stream",
          "text": [
            "Model: \"sequential\"\n",
            "_________________________________________________________________\n",
            "Layer (type)                 Output Shape              Param #   \n",
            "=================================================================\n",
            "conv1d (Conv1D)              (None, 144, 32)           256       \n",
            "_________________________________________________________________\n",
            "dropout (Dropout)            (None, 144, 32)           0         \n",
            "_________________________________________________________________\n",
            "conv1d_1 (Conv1D)            (None, 72, 16)            3600      \n",
            "_________________________________________________________________\n",
            "conv1d_transpose (Conv1DTran (None, 144, 16)           1808      \n",
            "_________________________________________________________________\n",
            "dropout_1 (Dropout)          (None, 144, 16)           0         \n",
            "_________________________________________________________________\n",
            "conv1d_transpose_1 (Conv1DTr (None, 288, 32)           3616      \n",
            "_________________________________________________________________\n",
            "conv1d_transpose_2 (Conv1DTr (None, 288, 1)            225       \n",
            "=================================================================\n",
            "Total params: 9,505\n",
            "Trainable params: 9,505\n",
            "Non-trainable params: 0\n",
            "_________________________________________________________________\n"
          ],
          "name": "stdout"
        }
      ]
    },
    {
      "cell_type": "markdown",
      "metadata": {
        "id": "3QwtXuNqwphP"
      },
      "source": [
        "## Train the model\n",
        "\n",
        "Please note that we are using `x_train` as both the input and the target\n",
        "since this is a reconstruction model.\n"
      ]
    },
    {
      "cell_type": "code",
      "metadata": {
        "id": "qEiOTbfwwphP",
        "colab": {
          "base_uri": "https://localhost:8080/"
        },
        "outputId": "781073e8-dd33-4c98-ca60-00bf519306ed"
      },
      "source": [
        "history = model.fit(\n",
        "    x_train,\n",
        "    x_train,\n",
        "    epochs=50,\n",
        "    batch_size=128,\n",
        "    validation_split=0.1,\n",
        "    callbacks=[\n",
        "        keras.callbacks.EarlyStopping(monitor=\"val_loss\", patience=5, mode=\"min\")\n",
        "    ],\n",
        ")\n"
      ],
      "execution_count": 10,
      "outputs": [
        {
          "output_type": "stream",
          "text": [
            "Epoch 1/50\n",
            "27/27 [==============================] - 2s 86ms/step - loss: 0.5052 - val_loss: 0.0702\n",
            "Epoch 2/50\n",
            "27/27 [==============================] - 2s 79ms/step - loss: 0.0786 - val_loss: 0.0417\n",
            "Epoch 3/50\n",
            "27/27 [==============================] - 2s 78ms/step - loss: 0.0581 - val_loss: 0.0362\n",
            "Epoch 4/50\n",
            "27/27 [==============================] - 2s 78ms/step - loss: 0.0491 - val_loss: 0.0308\n",
            "Epoch 5/50\n",
            "27/27 [==============================] - 2s 78ms/step - loss: 0.0423 - val_loss: 0.0265\n",
            "Epoch 6/50\n",
            "27/27 [==============================] - 2s 79ms/step - loss: 0.0375 - val_loss: 0.0246\n",
            "Epoch 7/50\n",
            "27/27 [==============================] - 2s 79ms/step - loss: 0.0340 - val_loss: 0.0224\n",
            "Epoch 8/50\n",
            "27/27 [==============================] - 2s 78ms/step - loss: 0.0308 - val_loss: 0.0211\n",
            "Epoch 9/50\n",
            "27/27 [==============================] - 2s 80ms/step - loss: 0.0284 - val_loss: 0.0210\n",
            "Epoch 10/50\n",
            "27/27 [==============================] - 2s 80ms/step - loss: 0.0263 - val_loss: 0.0207\n",
            "Epoch 11/50\n",
            "27/27 [==============================] - 2s 79ms/step - loss: 0.0246 - val_loss: 0.0207\n",
            "Epoch 12/50\n",
            "27/27 [==============================] - 2s 79ms/step - loss: 0.0234 - val_loss: 0.0210\n",
            "Epoch 13/50\n",
            "27/27 [==============================] - 2s 79ms/step - loss: 0.0223 - val_loss: 0.0212\n",
            "Epoch 14/50\n",
            "27/27 [==============================] - 2s 79ms/step - loss: 0.0213 - val_loss: 0.0206\n",
            "Epoch 15/50\n",
            "27/27 [==============================] - 2s 79ms/step - loss: 0.0206 - val_loss: 0.0215\n",
            "Epoch 16/50\n",
            "27/27 [==============================] - 2s 79ms/step - loss: 0.0199 - val_loss: 0.0210\n",
            "Epoch 17/50\n",
            "27/27 [==============================] - 2s 79ms/step - loss: 0.0192 - val_loss: 0.0204\n",
            "Epoch 18/50\n",
            "27/27 [==============================] - 2s 79ms/step - loss: 0.0186 - val_loss: 0.0196\n",
            "Epoch 19/50\n",
            "27/27 [==============================] - 2s 79ms/step - loss: 0.0181 - val_loss: 0.0194\n",
            "Epoch 20/50\n",
            "27/27 [==============================] - 2s 79ms/step - loss: 0.0176 - val_loss: 0.0188\n",
            "Epoch 21/50\n",
            "27/27 [==============================] - 2s 79ms/step - loss: 0.0170 - val_loss: 0.0182\n",
            "Epoch 22/50\n",
            "27/27 [==============================] - 2s 79ms/step - loss: 0.0166 - val_loss: 0.0176\n",
            "Epoch 23/50\n",
            "27/27 [==============================] - 2s 79ms/step - loss: 0.0161 - val_loss: 0.0174\n",
            "Epoch 24/50\n",
            "27/27 [==============================] - 2s 79ms/step - loss: 0.0157 - val_loss: 0.0164\n",
            "Epoch 25/50\n",
            "27/27 [==============================] - 2s 81ms/step - loss: 0.0153 - val_loss: 0.0158\n",
            "Epoch 26/50\n",
            "27/27 [==============================] - 2s 80ms/step - loss: 0.0149 - val_loss: 0.0151\n",
            "Epoch 27/50\n",
            "27/27 [==============================] - 2s 79ms/step - loss: 0.0145 - val_loss: 0.0150\n",
            "Epoch 28/50\n",
            "27/27 [==============================] - 2s 79ms/step - loss: 0.0142 - val_loss: 0.0139\n",
            "Epoch 29/50\n",
            "27/27 [==============================] - 2s 80ms/step - loss: 0.0139 - val_loss: 0.0142\n",
            "Epoch 30/50\n",
            "27/27 [==============================] - 2s 80ms/step - loss: 0.0136 - val_loss: 0.0140\n",
            "Epoch 31/50\n",
            "27/27 [==============================] - 2s 79ms/step - loss: 0.0133 - val_loss: 0.0139\n",
            "Epoch 32/50\n",
            "27/27 [==============================] - 2s 80ms/step - loss: 0.0131 - val_loss: 0.0138\n",
            "Epoch 33/50\n",
            "27/27 [==============================] - 2s 80ms/step - loss: 0.0127 - val_loss: 0.0134\n",
            "Epoch 34/50\n",
            "27/27 [==============================] - 2s 80ms/step - loss: 0.0124 - val_loss: 0.0137\n",
            "Epoch 35/50\n",
            "27/27 [==============================] - 2s 81ms/step - loss: 0.0122 - val_loss: 0.0125\n",
            "Epoch 36/50\n",
            "27/27 [==============================] - 2s 81ms/step - loss: 0.0119 - val_loss: 0.0122\n",
            "Epoch 37/50\n",
            "27/27 [==============================] - 2s 81ms/step - loss: 0.0117 - val_loss: 0.0123\n",
            "Epoch 38/50\n",
            "27/27 [==============================] - 2s 81ms/step - loss: 0.0114 - val_loss: 0.0111\n",
            "Epoch 39/50\n",
            "27/27 [==============================] - 2s 80ms/step - loss: 0.0111 - val_loss: 0.0113\n",
            "Epoch 40/50\n",
            "27/27 [==============================] - 2s 80ms/step - loss: 0.0109 - val_loss: 0.0114\n",
            "Epoch 41/50\n",
            "27/27 [==============================] - 2s 81ms/step - loss: 0.0107 - val_loss: 0.0101\n",
            "Epoch 42/50\n",
            "27/27 [==============================] - 2s 79ms/step - loss: 0.0103 - val_loss: 0.0097\n",
            "Epoch 43/50\n",
            "27/27 [==============================] - 2s 80ms/step - loss: 0.0100 - val_loss: 0.0099\n",
            "Epoch 44/50\n",
            "27/27 [==============================] - 2s 81ms/step - loss: 0.0097 - val_loss: 0.0095\n",
            "Epoch 45/50\n",
            "27/27 [==============================] - 2s 81ms/step - loss: 0.0093 - val_loss: 0.0089\n",
            "Epoch 46/50\n",
            "27/27 [==============================] - 2s 81ms/step - loss: 0.0090 - val_loss: 0.0086\n",
            "Epoch 47/50\n",
            "27/27 [==============================] - 2s 81ms/step - loss: 0.0087 - val_loss: 0.0081\n",
            "Epoch 48/50\n",
            "27/27 [==============================] - 2s 81ms/step - loss: 0.0085 - val_loss: 0.0077\n",
            "Epoch 49/50\n",
            "27/27 [==============================] - 2s 81ms/step - loss: 0.0082 - val_loss: 0.0072\n",
            "Epoch 50/50\n",
            "27/27 [==============================] - 2s 81ms/step - loss: 0.0080 - val_loss: 0.0077\n"
          ],
          "name": "stdout"
        }
      ]
    },
    {
      "cell_type": "markdown",
      "metadata": {
        "id": "ISnkbuuswphR"
      },
      "source": [
        "Let's plot training and validation loss to see how the training went.\n"
      ]
    },
    {
      "cell_type": "code",
      "metadata": {
        "id": "gqdxZcUZwphS",
        "colab": {
          "base_uri": "https://localhost:8080/",
          "height": 282
        },
        "outputId": "82d84bbe-a86c-4d60-fe10-bbeaac3d6b22"
      },
      "source": [
        "plt.plot(history.history[\"loss\"], label=\"Training Loss\")\n",
        "plt.plot(history.history[\"val_loss\"], label=\"Validation Loss\")\n",
        "plt.legend()\n"
      ],
      "execution_count": 11,
      "outputs": [
        {
          "output_type": "execute_result",
          "data": {
            "text/plain": [
              "<matplotlib.legend.Legend at 0x7fe401243358>"
            ]
          },
          "metadata": {
            "tags": []
          },
          "execution_count": 11
        },
        {
          "output_type": "display_data",
          "data": {
            "image/png": "[encoded data removed]",
            "text/plain": [
              "<Figure size 432x288 with 1 Axes>"
            ]
          },
          "metadata": {
            "tags": [],
            "needs_background": "light"
          }
        }
      ]
    },
    {
      "cell_type": "markdown",
      "metadata": {
        "id": "1OU0-O9FwphU"
      },
      "source": [
        "## Detecting anomalies\n",
        "\n",
        "We will detect anomalies by determining how well our model can reconstruct\n",
        "the input data.\n",
        "\n",
        "\n",
        "1.   Find MAE loss on training samples.\n",
        "2.   Find max MAE loss value. This is the worst our model has performed trying\n",
        "to reconstruct a sample. We will make this the `threshold` for anomaly\n",
        "detection.\n",
        "3.   If the reconstruction loss for a sample is greater than this `threshold`\n",
        "value then we can infer that the model is seeing a pattern that it isn't\n",
        "familiar with. We will label this sample as an `anomaly`.\n",
        "\n"
      ]
    },
    {
      "cell_type": "code",
      "metadata": {
        "id": "BsQyr_mzwphU",
        "colab": {
          "base_uri": "https://localhost:8080/",
          "height": 296
        },
        "outputId": "e7d3d821-6db6-4ad2-eae8-03afcdfd8d26"
      },
      "source": [
        "# Get train MAE loss.\n",
        "x_train_pred = model.predict(x_train)\n",
        "train_mae_loss = np.mean(np.abs(x_train_pred - x_train), axis=1)\n",
        "\n",
        "plt.hist(train_mae_loss, bins=50)\n",
        "plt.xlabel(\"Train MAE loss\")\n",
        "plt.ylabel(\"No of samples\")\n",
        "plt.show()\n",
        "\n",
        "# Get reconstruction loss threshold.\n",
        "threshold = np.max(train_mae_loss)\n",
        "print(\"Reconstruction error threshold: \", threshold)\n"
      ],
      "execution_count": 12,
      "outputs": [
        {
          "output_type": "display_data",
          "data": {
            "image/png": "[encoded data removed]",
            "text/plain": [
              "<Figure size 432x288 with 1 Axes>"
            ]
          },
          "metadata": {
            "tags": [],
            "needs_background": "light"
          }
        },
        {
          "output_type": "stream",
          "text": [
            "Reconstruction error threshold:  0.0774008391822599\n"
          ],
          "name": "stdout"
        }
      ]
    },
    {
      "cell_type": "markdown",
      "metadata": {
        "id": "397jlZf7wphX"
      },
      "source": [
        "### Compare recontruction\n",
        "\n",
        "Just for fun, let's see how our model has recontructed the first sample.\n",
        "This is the 288 timesteps from day 1 of our training dataset.\n"
      ]
    },
    {
      "cell_type": "code",
      "metadata": {
        "id": "XtTAOIcdwphX",
        "colab": {
          "base_uri": "https://localhost:8080/",
          "height": 513
        },
        "outputId": "c87af0ff-a77b-4e94-e646-5c69ed7a6225"
      },
      "source": [
        "# Checking how the first sequence is learnt\n",
        "plt.plot(x_train[0])\n",
        "plt.show()\n",
        "plt.plot(x_train_pred[0])\n",
        "plt.show()\n"
      ],
      "execution_count": 13,
      "outputs": [
        {
          "output_type": "display_data",
          "data": {
            "image/png": "[encoded data removed]",
            "text/plain": [
              "<Figure size 432x288 with 1 Axes>"
            ]
          },
          "metadata": {
            "tags": [],
            "needs_background": "light"
          }
        },
        {
          "output_type": "display_data",
          "data": {
            "image/png": "[encoded data removed]",
            "text/plain": [
              "<Figure size 432x288 with 1 Axes>"
            ]
          },
          "metadata": {
            "tags": [],
            "needs_background": "light"
          }
        }
      ]
    },
    {
      "cell_type": "markdown",
      "metadata": {
        "id": "Bz3uVAQDwpha"
      },
      "source": [
        "### Prepare test data\n"
      ]
    },
    {
      "cell_type": "code",
      "metadata": {
        "id": "-9zAvc-xwpha",
        "colab": {
          "base_uri": "https://localhost:8080/",
          "height": 1000
        },
        "outputId": "cecc229e-f382-4e0c-b663-66e24907c3da"
      },
      "source": [
        "\n",
        "def normalize_test(values, mean, std):\n",
        "    values -= mean\n",
        "    values /= std\n",
        "    return values\n",
        "\n",
        "\n",
        "test_value = get_value_from_df(df_daily_jumpsup)\n",
        "test_value = normalize_test(test_value, training_mean, training_std)\n",
        "plt.plot(test_value.tolist())\n",
        "plt.show()\n",
        "\n",
        "# Create sequences from test values.\n",
        "x_test = create_sequences(test_value)\n",
        "print(\"Test input shape: \", x_test.shape)\n",
        "\n",
        "# Get test MAE loss.\n",
        "x_test_pred = model.predict(x_test)\n",
        "test_mae_loss = np.mean(np.abs(x_test_pred - x_test), axis=1)\n",
        "test_mae_loss = test_mae_loss.reshape((-1))\n",
        "\n",
        "plt.hist(test_mae_loss, bins=50)\n",
        "plt.xlabel(\"test MAE loss\")\n",
        "plt.ylabel(\"No of samples\")\n",
        "plt.show()\n",
        "\n",
        "# Detect all the samples which are anomalies.\n",
        "anomalies = (test_mae_loss > threshold).tolist()\n",
        "print(\"Number of anomaly samples: \", np.sum(anomalies))\n",
        "print(\"Indices of anomaly samples: \", np.where(anomalies))\n"
      ],
      "execution_count": 14,
      "outputs": [
        {
          "output_type": "display_data",
          "data": {
            "image/png": "[encoded data removed]",
            "text/plain": [
              "<Figure size 432x288 with 1 Axes>"
            ]
          },
          "metadata": {
            "tags": [],
            "needs_background": "light"
          }
        },
        {
          "output_type": "stream",
          "text": [
            "Test input shape:  (3744, 288, 1)\n"
          ],
          "name": "stdout"
        },
        {
          "output_type": "display_data",
          "data": {
            "image/png": "[encoded data removed]",
            "text/plain": [
              "<Figure size 432x288 with 1 Axes>"
            ]
          },
          "metadata": {
            "tags": [],
            "needs_background": "light"
          }
        },
        {
          "output_type": "stream",
          "text": [
            "Number of anomaly samples:  409\n",
            "Indices of anomaly samples:  (array([ 789,  790,  791,  793,  971,  973, 1942, 2518, 2521, 2522, 2697,\n",
            "       2698, 2699, 2701, 2702, 2703, 2704, 2705, 2706, 2707, 2708, 2709,\n",
            "       2710, 2711, 2712, 2713, 2714, 2715, 2716, 2717, 2718, 2719, 2720,\n",
            "       2721, 2722, 2723, 2724, 2725, 2726, 2727, 2728, 2729, 2730, 2731,\n",
            "       2732, 2733, 2734, 2735, 2736, 2737, 2738, 2739, 2740, 2741, 2742,\n",
            "       2743, 2744, 2745, 2746, 2747, 2748, 2749, 2750, 2751, 2752, 2753,\n",
            "       2754, 2755, 2756, 2757, 2758, 2759, 2760, 2761, 2762, 2763, 2764,\n",
            "       2765, 2766, 2767, 2768, 2769, 2770, 2771, 2772, 2773, 2774, 2775,\n",
            "       2776, 2777, 2778, 2779, 2780, 2781, 2782, 2783, 2784, 2785, 2786,\n",
            "       2787, 2788, 2789, 2790, 2791, 2792, 2793, 2794, 2795, 2796, 2797,\n",
            "       2798, 2799, 2800, 2801, 2802, 2803, 2804, 2805, 2806, 2807, 2808,\n",
            "       2809, 2810, 2811, 2812, 2813, 2814, 2815, 2816, 2817, 2818, 2819,\n",
            "       2820, 2821, 2822, 2823, 2824, 2825, 2826, 2827, 2828, 2829, 2830,\n",
            "       2831, 2832, 2833, 2834, 2835, 2836, 2837, 2838, 2839, 2840, 2841,\n",
            "       2842, 2843, 2844, 2845, 2846, 2847, 2848, 2849, 2850, 2851, 2852,\n",
            "       2853, 2854, 2855, 2856, 2857, 2858, 2859, 2860, 2861, 2862, 2863,\n",
            "       2864, 2865, 2866, 2867, 2868, 2869, 2870, 2871, 2872, 2873, 2874,\n",
            "       2875, 2876, 2877, 2878, 2879, 2880, 2881, 2882, 2883, 2884, 2885,\n",
            "       2886, 2887, 2888, 2889, 2890, 2891, 2892, 2893, 2894, 2895, 2896,\n",
            "       2897, 2898, 2899, 2900, 2901, 2902, 2903, 2904, 2905, 2906, 2907,\n",
            "       2908, 2909, 2910, 2911, 2912, 2913, 2914, 2915, 2916, 2917, 2918,\n",
            "       2919, 2920, 2921, 2922, 2923, 2924, 2925, 2926, 2927, 2928, 2929,\n",
            "       2930, 2931, 2932, 2933, 2934, 2935, 2936, 2937, 2938, 2939, 2940,\n",
            "       2941, 2942, 2943, 2944, 2945, 2946, 2947, 2948, 2949, 2950, 2951,\n",
            "       2952, 2953, 2954, 2955, 2956, 2957, 2958, 2959, 2960, 2961, 2962,\n",
            "       2963, 2964, 2965, 2966, 2967, 2968, 2969, 2970, 2971, 2972, 2973,\n",
            "       2974, 2975, 2976, 2977, 2978, 2979, 2980, 2981, 2982, 2983, 2984,\n",
            "       2985, 2986, 2987, 2988, 2989, 2990, 2991, 2992, 2993, 2994, 2995,\n",
            "       2996, 2997, 2998, 2999, 3000, 3001, 3002, 3003, 3004, 3005, 3006,\n",
            "       3007, 3008, 3009, 3010, 3011, 3012, 3013, 3014, 3015, 3016, 3017,\n",
            "       3018, 3019, 3020, 3021, 3022, 3023, 3024, 3025, 3026, 3027, 3028,\n",
            "       3029, 3030, 3031, 3032, 3033, 3034, 3035, 3036, 3037, 3038, 3039,\n",
            "       3040, 3041, 3042, 3043, 3044, 3045, 3046, 3047, 3048, 3049, 3050,\n",
            "       3051, 3052, 3053, 3054, 3055, 3056, 3057, 3058, 3059, 3060, 3061,\n",
            "       3062, 3063, 3064, 3065, 3066, 3067, 3068, 3069, 3070, 3071, 3072,\n",
            "       3073, 3074, 3075, 3076, 3077, 3078, 3079, 3080, 3081, 3082, 3083,\n",
            "       3084, 3085, 3086, 3087, 3088, 3089, 3090, 3091, 3092, 3093, 3094,\n",
            "       3095, 3098]),)\n"
          ],
          "name": "stdout"
        }
      ]
    },
    {
      "cell_type": "markdown",
      "metadata": {
        "id": "q_byGRv1wphd"
      },
      "source": [
        "## Plot anomalies\n",
        "\n",
        "We now know the samples of the data which are anomalies. With this, we will\n",
        "find the corresponding `timestamps` from the original test data. We will be\n",
        "using the following method to do that:\n",
        "\n",
        "Let's say time_steps = 3 and we have 10 training values. Our `x_train` will\n",
        "look like this:\n",
        "\n",
        "- 0, 1, 2\n",
        "- 1, 2, 3\n",
        "- 2, 3, 4\n",
        "- 3, 4, 5\n",
        "- 4, 5, 6\n",
        "- 5, 6, 7\n",
        "- 6, 7, 8\n",
        "- 7, 8, 9\n",
        "\n",
        "All except the initial and the final time_steps-1 data values, will appear in\n",
        "`time_steps` number of samples. So, if we know that the samples\n",
        "[(3, 4, 5), (4, 5, 6), (5, 6, 7)] are anomalies, we can say that the data point\n",
        "5 is an anomaly.\n"
      ]
    },
    {
      "cell_type": "code",
      "metadata": {
        "id": "sPoLyB1Qwphe"
      },
      "source": [
        "# data i is an anomaly if samples [(i - timesteps + 1) to (i)] are anomalies\n",
        "anomalous_data_indices = []\n",
        "for data_idx in range(TIME_STEPS - 1, len(test_value) - TIME_STEPS + 1):\n",
        "    time_series = range(data_idx - TIME_STEPS + 1, data_idx)\n",
        "    if all([anomalies[j] for j in time_series]):\n",
        "        anomalous_data_indices.append(data_idx)\n"
      ],
      "execution_count": 15,
      "outputs": []
    },
    {
      "cell_type": "markdown",
      "metadata": {
        "id": "kKffgvqLwphg"
      },
      "source": [
        "Let's overlay the anomalies on the original test data plot.\n"
      ]
    },
    {
      "cell_type": "code",
      "metadata": {
        "id": "fd_Fj0Yowphh",
        "colab": {
          "base_uri": "https://localhost:8080/",
          "height": 287
        },
        "outputId": "00e8999a-d060-432e-f541-1630e8146c7a"
      },
      "source": [
        "df_subset = df_daily_jumpsup.iloc[anomalous_data_indices, :]\n",
        "plt.subplots_adjust(bottom=0.2)\n",
        "plt.xticks(rotation=25)\n",
        "ax = plt.gca()\n",
        "xfmt = md.DateFormatter(\"%Y-%m-%d %H:%M:%S\")\n",
        "ax.xaxis.set_major_formatter(xfmt)\n",
        "\n",
        "dates = df_daily_jumpsup[\"timestamp\"].to_list()\n",
        "dates = [datetime.strptime(x, \"%Y-%m-%d %H:%M:%S\") for x in dates]\n",
        "values = df_daily_jumpsup[\"value\"].to_list()\n",
        "plt.plot(dates, values, label=\"test data\")\n",
        "\n",
        "dates = df_subset[\"timestamp\"].to_list()\n",
        "dates = [datetime.strptime(x, \"%Y-%m-%d %H:%M:%S\") for x in dates]\n",
        "values = df_subset[\"value\"].to_list()\n",
        "plt.plot(dates, values, label=\"anomalies\", color=\"r\")\n",
        "\n",
        "plt.legend()\n",
        "plt.show()\n"
      ],
      "execution_count": 16,
      "outputs": [
        {
          "output_type": "display_data",
          "data": {
            "image/png": "[encoded data removed]",
            "text/plain": [
              "<Figure size 432x288 with 1 Axes>"
            ]
          },
          "metadata": {
            "tags": [],
            "needs_background": "light"
          }
        }
      ]
    }
  ]
}