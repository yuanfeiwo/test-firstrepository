{
  "nbformat": 4,
  "nbformat_minor": 0,
  "metadata": {
    "celltoolbar": "Slideshow",
    "kernelspec": {
      "display_name": "Python 3",
      "language": "python",
      "name": "python3"
    },
    "language_info": {
      "codemirror_mode": {
        "name": "ipython",
        "version": 3
      },
      "file_extension": ".py",
      "mimetype": "text/x-python",
      "name": "python",
      "nbconvert_exporter": "python",
      "pygments_lexer": "ipython3",
      "version": "3.7.3"
    },
    "livereveal": {
      "scroll": true
    },
    "colab": {
      "name": "5.2 Building_Models.ipynb",
      "provenance": [],
      "collapsed_sections": [],
      "toc_visible": true,
      "include_colab_link": true
    }
  },
  "cells": [
    {
      "cell_type": "markdown",
      "metadata": {
        "id": "view-in-github",
        "colab_type": "text"
      },
      "source": [
        "<a href=\"https://colab.research.google.com/github/yuanfeiwo/test-firstrepository/blob/master/Module5_5_2_Building_Models.ipynb\" target=\"_parent\"><img src=\"https://colab.research.google.com/assets/colab-badge.svg\" alt=\"Open In Colab\"/></a>"
      ]
    },
    {
      "cell_type": "code",
      "metadata": {
        "id": "KLwdiEkoMQst"
      },
      "source": [
        "# Module: Data Science in Finance, Machine Learning in 30 minutes!\n",
        "# Version 2.0\n",
        "# Topic : Building models\n",
        "# Example source: https://www.kaggle.com/wendykan/lending-club-loan-data\n",
        "#####################################################################\n",
        "# For support or questions, contact QuantUniversity at\n",
        "# info@qusandbox.com\n",
        "# Copyright 2020 QuantUniversity LLC.\n",
        "#####################################################################"
      ],
      "execution_count": 1,
      "outputs": []
    },
    {
      "cell_type": "markdown",
      "metadata": {
        "id": "9kJGoIcUMQsz"
      },
      "source": [
        "# Building models"
      ]
    },
    {
      "cell_type": "markdown",
      "metadata": {
        "id": "PjnhvzGxMQsz"
      },
      "source": [
        "This notebook deals with understanding the lending data obtained from https://www.kaggle.com/wendykan/lending-club-loan-data. We will cluster the data using K-Means clustering to see patterns in the dataset."
      ]
    },
    {
      "cell_type": "markdown",
      "metadata": {
        "id": "EPxpYuhnMQs0"
      },
      "source": [
        "# Contents"
      ]
    },
    {
      "cell_type": "markdown",
      "metadata": {
        "id": "VOklGRT9MQs2"
      },
      "source": [
        "* Imports\n",
        "* Exploring the data\n",
        "    * Dataset\n",
        "    * Numerical and Categorical Features\n",
        "* Preparing the data\n",
        "    * Normalizing the data\n",
        "    * Randomizing the data\n",
        "    * Train-Test split\n",
        "* Metrics for Regression\n",
        "    * RMSE\n",
        "    * MAE\n",
        "    * MAPE\n",
        "* Machine Learning Models\n",
        "    * Linear Regression\n",
        "    * Random Forest\n",
        "    * Neural Network Regressor\n",
        "* Comparing model performance\n",
        "* Making predictions\n",
        "* Saving the model\n"
      ]
    },
    {
      "cell_type": "markdown",
      "metadata": {
        "id": "8tBB0tiwMQs2"
      },
      "source": [
        "## Imports"
      ]
    },
    {
      "cell_type": "code",
      "metadata": {
        "id": "LnAUxL66MQs3"
      },
      "source": [
        "# for numerical analysis and data processing\n",
        "import numpy as np\n",
        "import pandas as pd\n",
        "import itertools\n",
        "\n",
        "from IPython.display import Image\n",
        "import warnings\n",
        "warnings.filterwarnings('ignore')\n",
        "\n",
        "# for Machine learning algorithms\n",
        "from sklearn import preprocessing\n",
        "from sklearn.cluster import KMeans\n",
        "from sklearn.manifold import TSNE\n",
        "from sklearn.linear_model import LinearRegression\n",
        "from sklearn.ensemble import RandomForestRegressor\n",
        "from sklearn.neural_network import MLPRegressor\n",
        "from sklearn.metrics import mean_squared_error, mean_absolute_error\n",
        "from scipy.spatial.distance import cdist\n",
        "\n",
        "# for vizualizations\n",
        "%matplotlib inline \n",
        "import matplotlib.pyplot as plt\n",
        "from matplotlib import cm as cm\n",
        "from mpl_toolkits.mplot3d import Axes3D\n",
        "import seaborn as sns\n",
        "\n",
        "import requests\n",
        "from io import StringIO"
      ],
      "execution_count": 2,
      "outputs": []
    },
    {
      "cell_type": "markdown",
      "metadata": {
        "id": "d9APSBvyMQs5"
      },
      "source": [
        "# Exploring the Data"
      ]
    },
    {
      "cell_type": "markdown",
      "metadata": {
        "id": "w_Pl8IPNMQs6"
      },
      "source": [
        "## Dataset"
      ]
    },
    {
      "cell_type": "markdown",
      "metadata": {
        "id": "J0nxGlFNMQs6"
      },
      "source": [
        "The data set is the lending data for lendingclub from August 2011 to December 2011 for some borrowers. The feature descriptions for the data are also provided. Not all the features are required for making predictions, some features are redundant in the original data file. The provided data file is already cleaned and only relevant features are provided. There are two types of features, numerical and categorical."
      ]
    },
    {
      "cell_type": "markdown",
      "metadata": {
        "id": "ZolXQQScMQs6"
      },
      "source": [
        "Reading the input data from csv file."
      ]
    },
    {
      "cell_type": "code",
      "metadata": {
        "id": "eY4c8nkxMQs7"
      },
      "source": [
        "orig_url_data='https://drive.google.com//file//d//1yG-JxC1Br3c8u3cfmKQWC9pgz6Pqggw5//view?usp=sharing'\n",
        "file_id = orig_url_data.split('//')[-2]\n",
        "dwn_url='https://drive.google.com//uc?export=download&id=' + file_id\n",
        "url = requests.get(dwn_url).text\n",
        "csv_raw = StringIO(url)\n",
        "df = pd.read_csv(csv_raw)\n",
        "\n",
        "orig_url_description='https://drive.google.com//file//d//1HFd4gKbknC28rHTWysec48NqfB6g3ZHx//view?usp=sharing'\n",
        "file_id = orig_url_description.split('//')[-2]\n",
        "dwn_url='https://drive.google.com//uc?export=download&id=' + file_id\n",
        "url = requests.get(dwn_url).text\n",
        "csv_raw = StringIO(url)\n",
        "df_description = pd.read_excel(dwn_url)\n",
        "\n",
        "\n",
        "del df['issue_d'] # removing issue date as it wont affect the prediction (redundant feature)"
      ],
      "execution_count": 3,
      "outputs": []
    },
    {
      "cell_type": "markdown",
      "metadata": {
        "id": "FMBpzqerMQs9"
      },
      "source": [
        "## Numerical and Categorical features"
      ]
    },
    {
      "cell_type": "code",
      "metadata": {
        "id": "SaXAJnK9MQs9"
      },
      "source": [
        "numeric_columns = df.select_dtypes(include=['float64','int64']).columns\n",
        "categorical_columns = df.select_dtypes(include=['object']).columns\n",
        "\n",
        "for col in categorical_columns:\n",
        "    df[col] = df[col].astype('category')"
      ],
      "execution_count": 4,
      "outputs": []
    },
    {
      "cell_type": "code",
      "metadata": {
        "id": "7D-LXcKBMQtB",
        "colab": {
          "base_uri": "https://localhost:8080/"
        },
        "outputId": "d3776c02-e756-48c8-ac6c-6f45da900c14"
      },
      "source": [
        "numeric_columns"
      ],
      "execution_count": 5,
      "outputs": [
        {
          "output_type": "execute_result",
          "data": {
            "text/plain": [
              "Index(['loan_amnt', 'int_rate', 'installment', 'annual_inc', 'dti',\n",
              "       'delinq_2yrs', 'inq_last_6mths', 'loan_status_Binary'],\n",
              "      dtype='object')"
            ]
          },
          "metadata": {
            "tags": []
          },
          "execution_count": 5
        }
      ]
    },
    {
      "cell_type": "code",
      "metadata": {
        "id": "_MadfVvMMQtE",
        "colab": {
          "base_uri": "https://localhost:8080/"
        },
        "outputId": "beac9973-4d35-4fd1-d598-ec38e4d42b04"
      },
      "source": [
        "categorical_columns"
      ],
      "execution_count": 6,
      "outputs": [
        {
          "output_type": "execute_result",
          "data": {
            "text/plain": [
              "Index(['term', 'grade', 'sub_grade', 'emp_length', 'home_ownership',\n",
              "       'verification_status', 'purpose', 'addr_state'],\n",
              "      dtype='object')"
            ]
          },
          "metadata": {
            "tags": []
          },
          "execution_count": 6
        }
      ]
    },
    {
      "cell_type": "code",
      "metadata": {
        "id": "48xROImMMQtG"
      },
      "source": [
        "p_categories = df['purpose'].cat.categories.tolist()\n",
        "s_categories = df['addr_state'].cat.categories.tolist()\n",
        "df[categorical_columns] = df[categorical_columns].apply(lambda x: x.cat.codes)"
      ],
      "execution_count": 7,
      "outputs": []
    },
    {
      "cell_type": "markdown",
      "metadata": {
        "id": "25q-ipiUMQtI"
      },
      "source": [
        "Storing interest rate statistics which will be used later for inference. "
      ]
    },
    {
      "cell_type": "code",
      "metadata": {
        "id": "hensnhStMQtJ",
        "colab": {
          "base_uri": "https://localhost:8080/"
        },
        "outputId": "5386c34e-2952-4ed6-91a4-9d0ddc96bae3"
      },
      "source": [
        "min_rate= df['int_rate'].min()\n",
        "max_rate= df['int_rate'].max()\n",
        "print(min_rate, max_rate, max_rate- min_rate)"
      ],
      "execution_count": 8,
      "outputs": [
        {
          "output_type": "stream",
          "text": [
            "5.42 24.11 18.689999999999998\n"
          ],
          "name": "stdout"
        }
      ]
    },
    {
      "cell_type": "markdown",
      "metadata": {
        "id": "bqga1FzwMQtL"
      },
      "source": [
        "# Preparing the dataset "
      ]
    },
    {
      "cell_type": "markdown",
      "metadata": {
        "id": "5XLhW4p6MQtL"
      },
      "source": [
        "#### Normalizing the data\n",
        "Normalize the data set for ease of calculations so that all features have values between 0 and 1."
      ]
    },
    {
      "cell_type": "code",
      "metadata": {
        "id": "53UW_9VNMQtL"
      },
      "source": [
        "df=(df-df.min())/(df.max()-df.min())"
      ],
      "execution_count": 9,
      "outputs": []
    },
    {
      "cell_type": "markdown",
      "metadata": {
        "id": "7Q6RJnULMQtR"
      },
      "source": [
        "#### Randomizing the data\n",
        "Randomize the dataset so that any ordered patterns dont influence the prediction. (We have already skipped date as an influencing factor)"
      ]
    },
    {
      "cell_type": "code",
      "metadata": {
        "id": "u2_yn9eaMQtS"
      },
      "source": [
        "df = df.iloc[np.random.permutation(len(df))]"
      ],
      "execution_count": 10,
      "outputs": []
    },
    {
      "cell_type": "markdown",
      "metadata": {
        "id": "xgfUAirgMQtV"
      },
      "source": [
        "#### Train-test split\n",
        "The data is split into training and testing data. x represents the input features whereas y represents the output i.e. the interest rate.As a rule of thumb, we split the data into 80% training data and 20% testing or validation data."
      ]
    },
    {
      "cell_type": "code",
      "metadata": {
        "id": "yt464jFnMQtV"
      },
      "source": [
        "y = df.iloc[:,df.columns.isin([\"int_rate\"])]\n",
        "x = df.loc[:, ~df.columns.isin([\"int_rate\"])]\n",
        "\n",
        "total_samples=len(df)\n",
        "split = 0.8\n",
        "\n",
        "x_train = x[0:int(total_samples*split)]\n",
        "x_test = x[int(total_samples*split):total_samples]\n",
        "y_train = y[0:int(total_samples*split)]\n",
        "y_test = y[int(total_samples*split):total_samples]"
      ],
      "execution_count": 11,
      "outputs": []
    },
    {
      "cell_type": "code",
      "metadata": {
        "id": "BcCPz0TyMQtY"
      },
      "source": [
        "def mean_absolute_percentage_error(y_true, y_pred): \n",
        "    '''\n",
        "    Calculates mean absolute error of the true and predicted values.\n",
        "    '''\n",
        "    y_true, y_pred = np.array(y_true), np.array(y_pred)\n",
        "    count = 0\n",
        "    sum = 0\n",
        "    for a, p in zip(y_true, y_pred):\n",
        "        if(a!=0):\n",
        "            sum+=(abs(a-p)/a)\n",
        "            count+=1\n",
        "    return (sum/count) * 100"
      ],
      "execution_count": 12,
      "outputs": []
    },
    {
      "cell_type": "code",
      "metadata": {
        "id": "iIRQd5kYMQtb"
      },
      "source": [
        "def view_metrics(y_test, predictions, algorithm, samples, total_samples):\n",
        "    '''\n",
        "    Plots the true and predicted values and prints RMS, MAE and MAPE metrics.\n",
        "    '''\n",
        "    fig = plt.figure(figsize=(18,5))\n",
        "    plt.scatter(x=[i for i in range(samples)], y=[x for x in predictions[0:samples]], label='Predicted values')\n",
        "    plt.scatter(x=[i for i in range(samples)], y=[x[0] for x in y_test.values[0:samples]], label='True values')\n",
        "    plt.title('True and Predicted values for test dataset - %s' % algorithm)\n",
        "    plt.legend()\n",
        "    plt.show()\n",
        "    \n",
        "#     fig = plt.figure(figsize=(18,5))\n",
        "#     plt.scatter(x=[i for i in range(total_samples)], y=[x for x in predictions], label='Predicted values')\n",
        "#     plt.scatter(x=[i for i in range(total_samples)], y=[x[0] for x in y_test.values], label='True values')\n",
        "#     plt.title('True and Predicted values for test dataset - %s' % algorithm)\n",
        "#     plt.legend()\n",
        "#     plt.show()\n",
        "\n",
        "    RMS =  np.sqrt(mean_squared_error(y_test, predictions, multioutput='raw_values'))\n",
        "    MAE = mean_absolute_error(y_test, predictions, multioutput='raw_values')\n",
        "    MAPE = mean_absolute_percentage_error(y_test, predictions)\n",
        "    print(\"Root Mean Squared Error:\", RMS)\n",
        "    print(\"Mean Absolute Error\", MAE) \n",
        "    print(\"Mean Absolute Percentage Error\", MAPE)\n",
        "    return RMS, MAE, MAPE"
      ],
      "execution_count": 13,
      "outputs": []
    },
    {
      "cell_type": "markdown",
      "metadata": {
        "id": "6e-hSgyTMQtd"
      },
      "source": [
        "### Metrics for regression models"
      ]
    },
    {
      "cell_type": "markdown",
      "metadata": {
        "id": "1i4hYlwfMQtd"
      },
      "source": [
        "#### Root Mean Squared Error\n",
        "It represents the sample standard deviation of the differences between predicted values and observed values."
      ]
    },
    {
      "cell_type": "markdown",
      "metadata": {
        "id": "4ZY25ulgMQte"
      },
      "source": [
        "![alt text](https://docs.google.com/uc?export=download&id=1s3hjviNPw0iHzxKwwRWjOuecKPMxzWdZ)"
      ]
    },
    {
      "cell_type": "markdown",
      "metadata": {
        "id": "VJKHTKWeMQte"
      },
      "source": [
        "#### Mean Absolute Error\n",
        "MAE is the average of the absolute difference between the predicted values and observed value. The MAE is a linear score which means that all the individual differences are weighted equally in the average."
      ]
    },
    {
      "cell_type": "markdown",
      "metadata": {
        "id": "Z4U-Wy53MQte"
      },
      "source": [
        "![alt text](https://docs.google.com/uc?export=download&id=1ZS3p1gNSdYrc_-2riw2OJ8o9UxUwXkX5)"
      ]
    },
    {
      "cell_type": "markdown",
      "metadata": {
        "id": "0ejkl8v2MQtf"
      },
      "source": [
        "#### Mean Absolute Percent Error\n",
        "MAPE measures the size of the error in percentage terms. It is calculated as the average of the unsigned percentage error."
      ]
    },
    {
      "cell_type": "markdown",
      "metadata": {
        "id": "RZK1f6C-MQtf"
      },
      "source": [
        "![alt text](https://docs.google.com/uc?export=download&id=1NrGo6q4JPDcatwdgKaqTVtqH5CavoXXL)"
      ]
    },
    {
      "cell_type": "markdown",
      "metadata": {
        "id": "houcSNiBMQtg"
      },
      "source": [
        "# Machine Learning Models"
      ]
    },
    {
      "cell_type": "markdown",
      "metadata": {
        "id": "E1OKh7ovMQth"
      },
      "source": [
        "### Linear Regression"
      ]
    },
    {
      "cell_type": "code",
      "metadata": {
        "id": "2mauV_DLMQth",
        "colab": {
          "base_uri": "https://localhost:8080/"
        },
        "outputId": "c67a92fa-f377-4a9b-a259-3ce59a7774ae"
      },
      "source": [
        "lin_reg_model = LinearRegression() # build model\n",
        "lin_reg_model= lin_reg_model.fit(x_train, y_train) # train model\n",
        "R2 = lin_reg_model.score(x_train, y_train) # coefficient of determination\n",
        "print(lin_reg_model.coef_)"
      ],
      "execution_count": 14,
      "outputs": [
        {
          "output_type": "stream",
          "text": [
            "[[ 1.48449481e-02  1.41908571e-03 -2.66914032e-02 -3.90549209e-03\n",
            "   1.08534019e+00  1.21692959e-03  7.48947378e-03 -4.35147499e-02\n",
            "   2.25657692e-03 -6.50054379e-03  6.68398702e-04  8.65349197e-03\n",
            "   1.53078441e-02  2.91567549e-02 -7.76101946e-04]]\n"
          ],
          "name": "stdout"
        }
      ]
    },
    {
      "cell_type": "code",
      "metadata": {
        "id": "wPiPiyv7MQtj"
      },
      "source": [
        "lin_reg_model_predictions = lin_reg_model.predict(x_test) # make predictions"
      ],
      "execution_count": 15,
      "outputs": []
    },
    {
      "cell_type": "code",
      "metadata": {
        "id": "l4uYy4GxMQtk",
        "colab": {
          "base_uri": "https://localhost:8080/",
          "height": 380
        },
        "outputId": "527b451c-7546-41aa-f3f4-1365b590ebfa"
      },
      "source": [
        "lin_reg_model_metrics = view_metrics(y_test, lin_reg_model_predictions,'Linear Regression', samples = 50, total_samples=2000)\n",
        "## If predicted value is same as true value, the points will be overlapping. Closer the points, better is the prediction."
      ],
      "execution_count": 16,
      "outputs": [
        {
          "output_type": "display_data",
          "data": {
            "image/png": "[encoded data removed]",
            "text/plain": [
              "<Figure size 1296x360 with 1 Axes>"
            ]
          },
          "metadata": {
            "tags": [],
            "needs_background": "light"
          }
        },
        {
          "output_type": "stream",
          "text": [
            "Root Mean Squared Error: [0.0369525]\n",
            "Mean Absolute Error [0.03128284]\n",
            "Mean Absolute Percentage Error [18.85756298]\n"
          ],
          "name": "stdout"
        }
      ]
    },
    {
      "cell_type": "markdown",
      "metadata": {
        "id": "_RrDZB02MQtm"
      },
      "source": [
        "### Random Forest Regressor Model"
      ]
    },
    {
      "cell_type": "code",
      "metadata": {
        "id": "Ia3hjH2SMQtn"
      },
      "source": [
        "rand_forest_model = RandomForestRegressor(max_depth=5, random_state=0) # build model\n",
        "rand_forest_model = rand_forest_model.fit(x_train, y_train.values.ravel()) # train model\n",
        "RandomForestRegressor(bootstrap=True, criterion='mse', max_depth=5,\n",
        "           max_features='auto', max_leaf_nodes=None,\n",
        "           min_impurity_decrease=0.0, min_impurity_split=None,\n",
        "           min_samples_leaf=1, min_samples_split=2,\n",
        "           min_weight_fraction_leaf=0.0, n_estimators=10, n_jobs=1,\n",
        "           oob_score=False, random_state=0, verbose=0, warm_start=False)\n",
        "feature_importance = rand_forest_model.feature_importances_\n",
        "R2 = rand_forest_model.score(x_train, y_train) # coefficient of determination\n",
        "rand_forest_model_predictions = rand_forest_model.predict(x_test) # make predictions"
      ],
      "execution_count": 17,
      "outputs": []
    },
    {
      "cell_type": "code",
      "metadata": {
        "id": "jV-OHB41MQto",
        "colab": {
          "base_uri": "https://localhost:8080/",
          "height": 380
        },
        "outputId": "a516faee-b318-4064-fa78-a71e7cf4c750"
      },
      "source": [
        "rand_forest_model_metrics = view_metrics(y_test, rand_forest_model_predictions,'Random Forest Regressor', samples = 50, total_samples=2000)"
      ],
      "execution_count": 18,
      "outputs": [
        {
          "output_type": "display_data",
          "data": {
            "image/png": "[encoded data removed]",
            "text/plain": [
              "<Figure size 1296x360 with 1 Axes>"
            ]
          },
          "metadata": {
            "tags": [],
            "needs_background": "light"
          }
        },
        {
          "output_type": "stream",
          "text": [
            "Root Mean Squared Error: [0.01432376]\n",
            "Mean Absolute Error [0.01134884]\n",
            "Mean Absolute Percentage Error [5.48278073]\n"
          ],
          "name": "stdout"
        }
      ]
    },
    {
      "cell_type": "markdown",
      "metadata": {
        "id": "BEH5zcAuMQtq"
      },
      "source": [
        "### Neural Network Regression Model"
      ]
    },
    {
      "cell_type": "code",
      "metadata": {
        "scrolled": true,
        "id": "3D4XWaPdMQtq",
        "colab": {
          "base_uri": "https://localhost:8080/"
        },
        "outputId": "9e4fd426-5a05-4e02-f064-028dc6cc06a8"
      },
      "source": [
        "nn_model = MLPRegressor(hidden_layer_sizes=(10,4),\n",
        "                                    activation='relu', # activation function in the nodes of the neral net\n",
        "                                    solver='adam', # optimizer algorithm\n",
        "                                    learning_rate='constant',\n",
        "                                    learning_rate_init=0.001, # initial learning rate\n",
        "                                    max_iter=300, # max iterations to train for\n",
        "                                    tol = -1, # tolerance for when to stop training should be range 0.001 to 0.0000001, -1 for max_iter\n",
        "                                    shuffle=True,\n",
        "                                    verbose=True) # show details at each iteration\n",
        "nn_model = nn_model.fit(x_train, y_train.values.ravel())"
      ],
      "execution_count": 19,
      "outputs": [
        {
          "output_type": "stream",
          "text": [
            "Iteration 1, loss = 0.59298358\n",
            "Iteration 2, loss = 0.24756121\n",
            "Iteration 3, loss = 0.03582306\n",
            "Iteration 4, loss = 0.01783080\n",
            "Iteration 5, loss = 0.01404619\n",
            "Iteration 6, loss = 0.01150575\n",
            "Iteration 7, loss = 0.00887528\n",
            "Iteration 8, loss = 0.00624841\n",
            "Iteration 9, loss = 0.00432824\n",
            "Iteration 10, loss = 0.00312081\n",
            "Iteration 11, loss = 0.00240646\n",
            "Iteration 12, loss = 0.00194657\n",
            "Iteration 13, loss = 0.00164764\n",
            "Iteration 14, loss = 0.00144953\n",
            "Iteration 15, loss = 0.00131465\n",
            "Iteration 16, loss = 0.00120842\n",
            "Iteration 17, loss = 0.00114080\n",
            "Iteration 18, loss = 0.00107825\n",
            "Iteration 19, loss = 0.00102753\n",
            "Iteration 20, loss = 0.00099021\n",
            "Iteration 21, loss = 0.00096118\n",
            "Iteration 22, loss = 0.00093492\n",
            "Iteration 23, loss = 0.00091465\n",
            "Iteration 24, loss = 0.00089661\n",
            "Iteration 25, loss = 0.00088174\n",
            "Iteration 26, loss = 0.00087000\n",
            "Iteration 27, loss = 0.00085864\n",
            "Iteration 28, loss = 0.00085165\n",
            "Iteration 29, loss = 0.00083613\n",
            "Iteration 30, loss = 0.00083427\n",
            "Iteration 31, loss = 0.00081874\n",
            "Iteration 32, loss = 0.00081603\n",
            "Iteration 33, loss = 0.00080541\n",
            "Iteration 34, loss = 0.00079729\n",
            "Iteration 35, loss = 0.00078937\n",
            "Iteration 36, loss = 0.00078525\n",
            "Iteration 37, loss = 0.00078007\n",
            "Iteration 38, loss = 0.00077311\n",
            "Iteration 39, loss = 0.00077018\n",
            "Iteration 40, loss = 0.00076589\n",
            "Iteration 41, loss = 0.00076187\n",
            "Iteration 42, loss = 0.00075682\n",
            "Iteration 43, loss = 0.00075506\n",
            "Iteration 44, loss = 0.00075249\n",
            "Iteration 45, loss = 0.00074932\n",
            "Iteration 46, loss = 0.00074373\n",
            "Iteration 47, loss = 0.00074093\n",
            "Iteration 48, loss = 0.00073888\n",
            "Iteration 49, loss = 0.00073563\n",
            "Iteration 50, loss = 0.00073355\n",
            "Iteration 51, loss = 0.00073145\n",
            "Iteration 52, loss = 0.00072708\n",
            "Iteration 53, loss = 0.00072695\n",
            "Iteration 54, loss = 0.00072631\n",
            "Iteration 55, loss = 0.00072286\n",
            "Iteration 56, loss = 0.00072011\n",
            "Iteration 57, loss = 0.00072057\n",
            "Iteration 58, loss = 0.00071820\n",
            "Iteration 59, loss = 0.00071546\n",
            "Iteration 60, loss = 0.00071496\n",
            "Iteration 61, loss = 0.00071433\n",
            "Iteration 62, loss = 0.00071211\n",
            "Iteration 63, loss = 0.00072144\n",
            "Iteration 64, loss = 0.00070951\n",
            "Iteration 65, loss = 0.00071477\n",
            "Iteration 66, loss = 0.00070715\n",
            "Iteration 67, loss = 0.00070631\n",
            "Iteration 68, loss = 0.00070379\n",
            "Iteration 69, loss = 0.00070514\n",
            "Iteration 70, loss = 0.00070714\n",
            "Iteration 71, loss = 0.00070418\n",
            "Iteration 72, loss = 0.00070308\n",
            "Iteration 73, loss = 0.00070417\n",
            "Iteration 74, loss = 0.00070724\n",
            "Iteration 75, loss = 0.00070520\n",
            "Iteration 76, loss = 0.00070293\n",
            "Iteration 77, loss = 0.00070319\n",
            "Iteration 78, loss = 0.00069957\n",
            "Iteration 79, loss = 0.00070769\n",
            "Iteration 80, loss = 0.00069688\n",
            "Iteration 81, loss = 0.00069837\n",
            "Iteration 82, loss = 0.00069477\n",
            "Iteration 83, loss = 0.00069356\n",
            "Iteration 84, loss = 0.00069349\n",
            "Iteration 85, loss = 0.00069511\n",
            "Iteration 86, loss = 0.00069300\n",
            "Iteration 87, loss = 0.00069849\n",
            "Iteration 88, loss = 0.00069595\n",
            "Iteration 89, loss = 0.00069437\n",
            "Iteration 90, loss = 0.00069400\n",
            "Iteration 91, loss = 0.00069222\n",
            "Iteration 92, loss = 0.00069040\n",
            "Iteration 93, loss = 0.00069513\n",
            "Iteration 94, loss = 0.00068822\n",
            "Iteration 95, loss = 0.00069582\n",
            "Iteration 96, loss = 0.00069469\n",
            "Iteration 97, loss = 0.00068948\n",
            "Iteration 98, loss = 0.00068852\n",
            "Iteration 99, loss = 0.00068646\n",
            "Iteration 100, loss = 0.00068807\n",
            "Iteration 101, loss = 0.00069455\n",
            "Iteration 102, loss = 0.00069014\n",
            "Iteration 103, loss = 0.00068996\n",
            "Iteration 104, loss = 0.00069218\n",
            "Iteration 105, loss = 0.00068663\n",
            "Iteration 106, loss = 0.00068416\n",
            "Iteration 107, loss = 0.00068414\n",
            "Iteration 108, loss = 0.00068344\n",
            "Iteration 109, loss = 0.00068399\n",
            "Iteration 110, loss = 0.00067761\n",
            "Iteration 111, loss = 0.00068021\n",
            "Iteration 112, loss = 0.00068119\n",
            "Iteration 113, loss = 0.00067123\n",
            "Iteration 114, loss = 0.00066966\n",
            "Iteration 115, loss = 0.00066752\n",
            "Iteration 116, loss = 0.00066826\n",
            "Iteration 117, loss = 0.00066842\n",
            "Iteration 118, loss = 0.00065208\n",
            "Iteration 119, loss = 0.00065192\n",
            "Iteration 120, loss = 0.00064622\n",
            "Iteration 121, loss = 0.00062682\n",
            "Iteration 122, loss = 0.00061294\n",
            "Iteration 123, loss = 0.00059801\n",
            "Iteration 124, loss = 0.00058102\n",
            "Iteration 125, loss = 0.00056324\n",
            "Iteration 126, loss = 0.00054406\n",
            "Iteration 127, loss = 0.00052874\n",
            "Iteration 128, loss = 0.00050771\n",
            "Iteration 129, loss = 0.00049280\n",
            "Iteration 130, loss = 0.00047176\n",
            "Iteration 131, loss = 0.00046050\n",
            "Iteration 132, loss = 0.00044798\n",
            "Iteration 133, loss = 0.00044463\n",
            "Iteration 134, loss = 0.00043269\n",
            "Iteration 135, loss = 0.00042792\n",
            "Iteration 136, loss = 0.00042330\n",
            "Iteration 137, loss = 0.00042318\n",
            "Iteration 138, loss = 0.00041865\n",
            "Iteration 139, loss = 0.00041712\n",
            "Iteration 140, loss = 0.00041157\n",
            "Iteration 141, loss = 0.00040859\n",
            "Iteration 142, loss = 0.00041129\n",
            "Iteration 143, loss = 0.00040739\n",
            "Iteration 144, loss = 0.00041102\n",
            "Iteration 145, loss = 0.00040625\n",
            "Iteration 146, loss = 0.00040543\n",
            "Iteration 147, loss = 0.00040894\n",
            "Iteration 148, loss = 0.00040622\n",
            "Iteration 149, loss = 0.00040501\n",
            "Iteration 150, loss = 0.00040190\n",
            "Iteration 151, loss = 0.00040152\n",
            "Iteration 152, loss = 0.00040143\n",
            "Iteration 153, loss = 0.00040124\n",
            "Iteration 154, loss = 0.00041158\n",
            "Iteration 155, loss = 0.00040882\n",
            "Iteration 156, loss = 0.00040128\n",
            "Iteration 157, loss = 0.00040245\n",
            "Iteration 158, loss = 0.00040222\n",
            "Iteration 159, loss = 0.00040376\n",
            "Iteration 160, loss = 0.00040189\n",
            "Iteration 161, loss = 0.00040291\n",
            "Iteration 162, loss = 0.00040407\n",
            "Iteration 163, loss = 0.00040374\n",
            "Iteration 164, loss = 0.00040392\n",
            "Iteration 165, loss = 0.00040281\n",
            "Iteration 166, loss = 0.00040115\n",
            "Iteration 167, loss = 0.00039994\n",
            "Iteration 168, loss = 0.00039910\n",
            "Iteration 169, loss = 0.00040229\n",
            "Iteration 170, loss = 0.00039987\n",
            "Iteration 171, loss = 0.00040261\n",
            "Iteration 172, loss = 0.00039908\n",
            "Iteration 173, loss = 0.00041286\n",
            "Iteration 174, loss = 0.00039794\n",
            "Iteration 175, loss = 0.00040716\n",
            "Iteration 176, loss = 0.00040485\n",
            "Iteration 177, loss = 0.00039649\n",
            "Iteration 178, loss = 0.00039914\n",
            "Iteration 179, loss = 0.00039832\n",
            "Iteration 180, loss = 0.00039768\n",
            "Iteration 181, loss = 0.00039810\n",
            "Iteration 182, loss = 0.00040039\n",
            "Iteration 183, loss = 0.00040009\n",
            "Iteration 184, loss = 0.00039604\n",
            "Iteration 185, loss = 0.00039919\n",
            "Iteration 186, loss = 0.00040443\n",
            "Iteration 187, loss = 0.00039526\n",
            "Iteration 188, loss = 0.00039991\n",
            "Iteration 189, loss = 0.00039593\n",
            "Iteration 190, loss = 0.00040016\n",
            "Iteration 191, loss = 0.00040038\n",
            "Iteration 192, loss = 0.00039712\n",
            "Iteration 193, loss = 0.00039576\n",
            "Iteration 194, loss = 0.00040385\n",
            "Iteration 195, loss = 0.00041030\n",
            "Iteration 196, loss = 0.00040427\n",
            "Iteration 197, loss = 0.00040327\n",
            "Iteration 198, loss = 0.00040420\n",
            "Iteration 199, loss = 0.00040929\n",
            "Iteration 200, loss = 0.00040677\n",
            "Iteration 201, loss = 0.00040315\n",
            "Iteration 202, loss = 0.00039821\n",
            "Iteration 203, loss = 0.00039896\n",
            "Iteration 204, loss = 0.00039625\n",
            "Iteration 205, loss = 0.00039681\n",
            "Iteration 206, loss = 0.00039504\n",
            "Iteration 207, loss = 0.00039820\n",
            "Iteration 208, loss = 0.00039946\n",
            "Iteration 209, loss = 0.00040093\n",
            "Iteration 210, loss = 0.00039999\n",
            "Iteration 211, loss = 0.00039694\n",
            "Iteration 212, loss = 0.00040140\n",
            "Iteration 213, loss = 0.00040172\n",
            "Iteration 214, loss = 0.00040643\n",
            "Iteration 215, loss = 0.00040737\n",
            "Iteration 216, loss = 0.00039940\n",
            "Iteration 217, loss = 0.00039740\n",
            "Iteration 218, loss = 0.00039673\n",
            "Iteration 219, loss = 0.00039750\n",
            "Iteration 220, loss = 0.00040313\n",
            "Iteration 221, loss = 0.00039932\n",
            "Iteration 222, loss = 0.00039657\n",
            "Iteration 223, loss = 0.00039427\n",
            "Iteration 224, loss = 0.00039693\n",
            "Iteration 225, loss = 0.00039686\n",
            "Iteration 226, loss = 0.00040199\n",
            "Iteration 227, loss = 0.00040156\n",
            "Iteration 228, loss = 0.00039513\n",
            "Iteration 229, loss = 0.00039560\n",
            "Iteration 230, loss = 0.00039386\n",
            "Iteration 231, loss = 0.00039747\n",
            "Iteration 232, loss = 0.00039505\n",
            "Iteration 233, loss = 0.00039974\n",
            "Iteration 234, loss = 0.00040074\n",
            "Iteration 235, loss = 0.00039760\n",
            "Iteration 236, loss = 0.00041142\n",
            "Iteration 237, loss = 0.00039913\n",
            "Iteration 238, loss = 0.00040066\n",
            "Iteration 239, loss = 0.00039746\n",
            "Iteration 240, loss = 0.00039462\n",
            "Iteration 241, loss = 0.00039651\n",
            "Iteration 242, loss = 0.00039771\n",
            "Iteration 243, loss = 0.00040142\n",
            "Iteration 244, loss = 0.00040147\n",
            "Iteration 245, loss = 0.00042182\n",
            "Iteration 246, loss = 0.00041527\n",
            "Iteration 247, loss = 0.00039733\n",
            "Iteration 248, loss = 0.00039318\n",
            "Iteration 249, loss = 0.00039669\n",
            "Iteration 250, loss = 0.00039605\n",
            "Iteration 251, loss = 0.00039592\n",
            "Iteration 252, loss = 0.00039965\n",
            "Iteration 253, loss = 0.00039525\n",
            "Iteration 254, loss = 0.00039875\n",
            "Iteration 255, loss = 0.00039623\n",
            "Iteration 256, loss = 0.00039763\n",
            "Iteration 257, loss = 0.00039493\n",
            "Iteration 258, loss = 0.00039797\n",
            "Iteration 259, loss = 0.00039362\n",
            "Iteration 260, loss = 0.00039566\n",
            "Iteration 261, loss = 0.00039494\n",
            "Iteration 262, loss = 0.00039669\n",
            "Iteration 263, loss = 0.00039305\n",
            "Iteration 264, loss = 0.00039558\n",
            "Iteration 265, loss = 0.00039522\n",
            "Iteration 266, loss = 0.00039918\n",
            "Iteration 267, loss = 0.00039924\n",
            "Iteration 268, loss = 0.00039635\n",
            "Iteration 269, loss = 0.00040132\n",
            "Iteration 270, loss = 0.00039681\n",
            "Iteration 271, loss = 0.00039747\n",
            "Iteration 272, loss = 0.00039867\n",
            "Iteration 273, loss = 0.00039899\n",
            "Iteration 274, loss = 0.00039661\n",
            "Iteration 275, loss = 0.00039276\n",
            "Iteration 276, loss = 0.00039339\n",
            "Iteration 277, loss = 0.00039559\n",
            "Iteration 278, loss = 0.00040439\n",
            "Iteration 279, loss = 0.00040279\n",
            "Iteration 280, loss = 0.00039499\n",
            "Iteration 281, loss = 0.00039725\n",
            "Iteration 282, loss = 0.00039551\n",
            "Iteration 283, loss = 0.00039513\n",
            "Iteration 284, loss = 0.00039338\n",
            "Iteration 285, loss = 0.00039917\n",
            "Iteration 286, loss = 0.00039870\n",
            "Iteration 287, loss = 0.00040263\n",
            "Iteration 288, loss = 0.00039626\n",
            "Iteration 289, loss = 0.00040231\n",
            "Iteration 290, loss = 0.00039847\n",
            "Iteration 291, loss = 0.00039713\n",
            "Iteration 292, loss = 0.00039457\n",
            "Iteration 293, loss = 0.00039985\n",
            "Iteration 294, loss = 0.00040312\n",
            "Iteration 295, loss = 0.00039953\n",
            "Iteration 296, loss = 0.00039252\n",
            "Iteration 297, loss = 0.00039901\n",
            "Iteration 298, loss = 0.00039333\n",
            "Iteration 299, loss = 0.00039610\n",
            "Iteration 300, loss = 0.00039354\n"
          ],
          "name": "stdout"
        }
      ]
    },
    {
      "cell_type": "code",
      "metadata": {
        "id": "KI0HkCvTMQts"
      },
      "source": [
        "nn_model_predictions = nn_model.predict(x_test)"
      ],
      "execution_count": 20,
      "outputs": []
    },
    {
      "cell_type": "code",
      "metadata": {
        "id": "4c0edig5MQtu",
        "colab": {
          "base_uri": "https://localhost:8080/",
          "height": 380
        },
        "outputId": "78a94a1c-b461-4d65-d3d2-edda898c1320"
      },
      "source": [
        "nn_model_metrics = view_metrics(y_test, nn_model_predictions,'Neural Network Regression Model', samples = 50, total_samples=2000)"
      ],
      "execution_count": 21,
      "outputs": [
        {
          "output_type": "display_data",
          "data": {
            "image/png": "[encoded data removed]",
            "text/plain": [
              "<Figure size 1296x360 with 1 Axes>"
            ]
          },
          "metadata": {
            "tags": [],
            "needs_background": "light"
          }
        },
        {
          "output_type": "stream",
          "text": [
            "Root Mean Squared Error: [0.02895144]\n",
            "Mean Absolute Error [0.02281937]\n",
            "Mean Absolute Percentage Error [10.55860988]\n"
          ],
          "name": "stdout"
        }
      ]
    },
    {
      "cell_type": "markdown",
      "metadata": {
        "id": "HK5OhkfGMQtx"
      },
      "source": [
        "## Comparing model performances"
      ]
    },
    {
      "cell_type": "code",
      "metadata": {
        "id": "8UG5RM0VMQtx",
        "colab": {
          "base_uri": "https://localhost:8080/"
        },
        "outputId": "3767831d-6d55-4e3c-ae79-cec73f5c763e"
      },
      "source": [
        "print(\"%10s | %7s | %7s | %7s\" % ('MODEL', 'RMSE', 'MAE', 'MAPE'))\n",
        "print('___________________________________________')\n",
        "for name,metrics in zip(['LIN_REG','RAND_FRST','NN'],[lin_reg_model_metrics, rand_forest_model_metrics, nn_model_metrics]):\n",
        "    print (\"%10s | %.5f | %.5f | %.5f %%\" % (name, metrics[0][0], metrics[1][0], metrics[2][0]))\n",
        "print()\n",
        "print('Note: Lower values are better')"
      ],
      "execution_count": 22,
      "outputs": [
        {
          "output_type": "stream",
          "text": [
            "     MODEL |    RMSE |     MAE |    MAPE\n",
            "___________________________________________\n",
            "   LIN_REG | 0.03695 | 0.03128 | 18.85756 %\n",
            " RAND_FRST | 0.01432 | 0.01135 | 5.48278 %\n",
            "        NN | 0.02895 | 0.02282 | 10.55861 %\n",
            "\n",
            "Note: Lower values are better\n"
          ],
          "name": "stdout"
        }
      ]
    },
    {
      "cell_type": "markdown",
      "metadata": {
        "id": "i23KGRI6MQtz"
      },
      "source": [
        "## Predicting interest rates"
      ]
    },
    {
      "cell_type": "code",
      "metadata": {
        "id": "c-pnt0hwMQtz"
      },
      "source": [
        "def get_interest_rate(model, features):\n",
        "    return (model.predict(features))*(max_rate-min_rate) + min_rate"
      ],
      "execution_count": 23,
      "outputs": []
    },
    {
      "cell_type": "code",
      "metadata": {
        "id": "UrZsDUQfMQt1",
        "colab": {
          "base_uri": "https://localhost:8080/",
          "height": 134
        },
        "outputId": "55fd9993-8c34-4310-c38c-a919a4493c69"
      },
      "source": [
        "sample = x_test[2:3] # substitute with the input you want to predict the rate for\n",
        "interest_rate = get_interest_rate(rand_forest_model, sample)\n",
        "print('Predicted interest rate is:', interest_rate)\n",
        "print('for the following user profile:')\n",
        "sample"
      ],
      "execution_count": 24,
      "outputs": [
        {
          "output_type": "stream",
          "text": [
            "Predicted interest rate is: [16.05584029]\n",
            "for the following user profile:\n"
          ],
          "name": "stdout"
        },
        {
          "output_type": "execute_result",
          "data": {
            "text/html": [
              "<div>\n",
              "<style scoped>\n",
              "    .dataframe tbody tr th:only-of-type {\n",
              "        vertical-align: middle;\n",
              "    }\n",
              "\n",
              "    .dataframe tbody tr th {\n",
              "        vertical-align: top;\n",
              "    }\n",
              "\n",
              "    .dataframe thead th {\n",
              "        text-align: right;\n",
              "    }\n",
              "</style>\n",
              "<table border=\"1\" class=\"dataframe\">\n",
              "  <thead>\n",
              "    <tr style=\"text-align: right;\">\n",
              "      <th></th>\n",
              "      <th>loan_amnt</th>\n",
              "      <th>term</th>\n",
              "      <th>installment</th>\n",
              "      <th>grade</th>\n",
              "      <th>sub_grade</th>\n",
              "      <th>emp_length</th>\n",
              "      <th>home_ownership</th>\n",
              "      <th>annual_inc</th>\n",
              "      <th>verification_status</th>\n",
              "      <th>purpose</th>\n",
              "      <th>addr_state</th>\n",
              "      <th>dti</th>\n",
              "      <th>delinq_2yrs</th>\n",
              "      <th>inq_last_6mths</th>\n",
              "      <th>loan_status_Binary</th>\n",
              "    </tr>\n",
              "  </thead>\n",
              "  <tbody>\n",
              "    <tr>\n",
              "      <th>2224</th>\n",
              "      <td>0.205882</td>\n",
              "      <td>0.0</td>\n",
              "      <td>0.205528</td>\n",
              "      <td>0.5</td>\n",
              "      <td>0.441176</td>\n",
              "      <td>0.181818</td>\n",
              "      <td>1.0</td>\n",
              "      <td>0.057432</td>\n",
              "      <td>0.5</td>\n",
              "      <td>0.166667</td>\n",
              "      <td>0.090909</td>\n",
              "      <td>0.128342</td>\n",
              "      <td>0.0</td>\n",
              "      <td>0.0</td>\n",
              "      <td>0.0</td>\n",
              "    </tr>\n",
              "  </tbody>\n",
              "</table>\n",
              "</div>"
            ],
            "text/plain": [
              "      loan_amnt  term  ...  inq_last_6mths  loan_status_Binary\n",
              "2224   0.205882   0.0  ...             0.0                 0.0\n",
              "\n",
              "[1 rows x 15 columns]"
            ]
          },
          "metadata": {
            "tags": []
          },
          "execution_count": 24
        }
      ]
    },
    {
      "cell_type": "markdown",
      "metadata": {
        "id": "IvQu0cR1MQt3"
      },
      "source": [
        "### Saving the models"
      ]
    },
    {
      "cell_type": "code",
      "metadata": {
        "id": "HrFbmm2LMQt4"
      },
      "source": [
        "# this cell may take a few seconds to execute depending on model size\n",
        "\n",
        "# for saving models\n",
        "import pickle\n",
        "# import _pickle as cPickle # try this if previous import fails\n",
        "\n",
        "model_name = 'best_model.model'\n",
        "pickle.dump(rand_forest_model, open(model_name, 'wb'))"
      ],
      "execution_count": 25,
      "outputs": []
    },
    {
      "cell_type": "code",
      "metadata": {
        "id": "irenpk5Feb37"
      },
      "source": [
        ""
      ],
      "execution_count": 25,
      "outputs": []
    }
  ]
}