{
  "nbformat": 4,
  "nbformat_minor": 0,
  "metadata": {
    "kernelspec": {
      "display_name": "Python 3",
      "language": "python",
      "name": "python3"
    },
    "language_info": {
      "codemirror_mode": {
        "name": "ipython",
        "version": 3
      },
      "file_extension": ".py",
      "mimetype": "text/x-python",
      "name": "python",
      "nbconvert_exporter": "python",
      "pygments_lexer": "ipython3",
      "version": "3.6.7"
    },
    "colab": {
      "name": "5.8 Supervised Learning - Exercise.ipynb",
      "provenance": [],
      "collapsed_sections": [],
      "include_colab_link": true
    }
  },
  "cells": [
    {
      "cell_type": "markdown",
      "metadata": {
        "id": "view-in-github",
        "colab_type": "text"
      },
      "source": [
        "<a href=\"https://colab.research.google.com/github/yuanfeiwo/test-firstrepository/blob/master/Module5_5_8_Supervised_Learning_Exercise.ipynb\" target=\"_parent\"><img src=\"https://colab.research.google.com/assets/colab-badge.svg\" alt=\"Open In Colab\"/></a>"
      ]
    },
    {
      "cell_type": "code",
      "metadata": {
        "id": "XTFqJsGgAQns"
      },
      "source": [
        "import pandas as pd\n",
        "import seaborn as sns"
      ],
      "execution_count": 1,
      "outputs": []
    },
    {
      "cell_type": "markdown",
      "metadata": {
        "id": "ZKzBQ1KZD3uH"
      },
      "source": [
        "See [here](https://mlinfinance.s3-us-west-2.amazonaws.com/Module2-ExploratoryDataAnalysis/SF+LLD+User+Guide+Release+22.pdf) for data definitions published by FreddieMac"
      ]
    },
    {
      "cell_type": "code",
      "metadata": {
        "id": "Uml-tIRoAQn2"
      },
      "source": [
        "df = pd.read_csv('https://mlinfinance.s3-us-west-2.amazonaws.com/Module2-ExploratoryDataAnalysis/sample_orig_2017.txt', sep='|', low_memory=False, header=None)"
      ],
      "execution_count": 2,
      "outputs": []
    },
    {
      "cell_type": "code",
      "metadata": {
        "id": "mWop9DVKAQn-",
        "colab": {
          "base_uri": "https://localhost:8080/",
          "height": 204
        },
        "outputId": "7e11731d-5c3f-4df3-a6c5-1fbf8f168a03"
      },
      "source": [
        "df.head()"
      ],
      "execution_count": 3,
      "outputs": [
        {
          "output_type": "execute_result",
          "data": {
            "text/html": [
              "<div>\n",
              "<style scoped>\n",
              "    .dataframe tbody tr th:only-of-type {\n",
              "        vertical-align: middle;\n",
              "    }\n",
              "\n",
              "    .dataframe tbody tr th {\n",
              "        vertical-align: top;\n",
              "    }\n",
              "\n",
              "    .dataframe thead th {\n",
              "        text-align: right;\n",
              "    }\n",
              "</style>\n",
              "<table border=\"1\" class=\"dataframe\">\n",
              "  <thead>\n",
              "    <tr style=\"text-align: right;\">\n",
              "      <th></th>\n",
              "      <th>0</th>\n",
              "      <th>1</th>\n",
              "      <th>2</th>\n",
              "      <th>3</th>\n",
              "      <th>4</th>\n",
              "      <th>5</th>\n",
              "      <th>6</th>\n",
              "      <th>7</th>\n",
              "      <th>8</th>\n",
              "      <th>9</th>\n",
              "      <th>10</th>\n",
              "      <th>11</th>\n",
              "      <th>12</th>\n",
              "      <th>13</th>\n",
              "      <th>14</th>\n",
              "      <th>15</th>\n",
              "      <th>16</th>\n",
              "      <th>17</th>\n",
              "      <th>18</th>\n",
              "      <th>19</th>\n",
              "      <th>20</th>\n",
              "      <th>21</th>\n",
              "      <th>22</th>\n",
              "      <th>23</th>\n",
              "      <th>24</th>\n",
              "      <th>25</th>\n",
              "    </tr>\n",
              "  </thead>\n",
              "  <tbody>\n",
              "    <tr>\n",
              "      <th>0</th>\n",
              "      <td>794</td>\n",
              "      <td>201703</td>\n",
              "      <td>9</td>\n",
              "      <td>204702</td>\n",
              "      <td>24260.0</td>\n",
              "      <td>0</td>\n",
              "      <td>1</td>\n",
              "      <td>P</td>\n",
              "      <td>74</td>\n",
              "      <td>29</td>\n",
              "      <td>129000</td>\n",
              "      <td>74</td>\n",
              "      <td>3.625</td>\n",
              "      <td>R</td>\n",
              "      <td>N</td>\n",
              "      <td>FRM</td>\n",
              "      <td>NE</td>\n",
              "      <td>SF</td>\n",
              "      <td>68800</td>\n",
              "      <td>F117Q1000068</td>\n",
              "      <td>C</td>\n",
              "      <td>360</td>\n",
              "      <td>2</td>\n",
              "      <td>Other sellers</td>\n",
              "      <td>Other servicers</td>\n",
              "      <td>NaN</td>\n",
              "    </tr>\n",
              "    <tr>\n",
              "      <th>1</th>\n",
              "      <td>776</td>\n",
              "      <td>201703</td>\n",
              "      <td>N</td>\n",
              "      <td>203202</td>\n",
              "      <td>NaN</td>\n",
              "      <td>0</td>\n",
              "      <td>1</td>\n",
              "      <td>P</td>\n",
              "      <td>50</td>\n",
              "      <td>20</td>\n",
              "      <td>85000</td>\n",
              "      <td>50</td>\n",
              "      <td>3.000</td>\n",
              "      <td>R</td>\n",
              "      <td>N</td>\n",
              "      <td>FRM</td>\n",
              "      <td>OH</td>\n",
              "      <td>SF</td>\n",
              "      <td>44600</td>\n",
              "      <td>F117Q1000079</td>\n",
              "      <td>P</td>\n",
              "      <td>180</td>\n",
              "      <td>1</td>\n",
              "      <td>Other sellers</td>\n",
              "      <td>Other servicers</td>\n",
              "      <td>NaN</td>\n",
              "    </tr>\n",
              "    <tr>\n",
              "      <th>2</th>\n",
              "      <td>795</td>\n",
              "      <td>201703</td>\n",
              "      <td>9</td>\n",
              "      <td>203202</td>\n",
              "      <td>49180.0</td>\n",
              "      <td>0</td>\n",
              "      <td>1</td>\n",
              "      <td>P</td>\n",
              "      <td>55</td>\n",
              "      <td>26</td>\n",
              "      <td>143000</td>\n",
              "      <td>55</td>\n",
              "      <td>2.750</td>\n",
              "      <td>R</td>\n",
              "      <td>N</td>\n",
              "      <td>FRM</td>\n",
              "      <td>NC</td>\n",
              "      <td>SF</td>\n",
              "      <td>27200</td>\n",
              "      <td>F117Q1000090</td>\n",
              "      <td>C</td>\n",
              "      <td>180</td>\n",
              "      <td>1</td>\n",
              "      <td>Other sellers</td>\n",
              "      <td>Other servicers</td>\n",
              "      <td>NaN</td>\n",
              "    </tr>\n",
              "    <tr>\n",
              "      <th>3</th>\n",
              "      <td>785</td>\n",
              "      <td>201705</td>\n",
              "      <td>9</td>\n",
              "      <td>204704</td>\n",
              "      <td>NaN</td>\n",
              "      <td>30</td>\n",
              "      <td>1</td>\n",
              "      <td>P</td>\n",
              "      <td>95</td>\n",
              "      <td>20</td>\n",
              "      <td>258000</td>\n",
              "      <td>95</td>\n",
              "      <td>4.500</td>\n",
              "      <td>R</td>\n",
              "      <td>N</td>\n",
              "      <td>FRM</td>\n",
              "      <td>OK</td>\n",
              "      <td>SF</td>\n",
              "      <td>74800</td>\n",
              "      <td>F117Q1000113</td>\n",
              "      <td>N</td>\n",
              "      <td>360</td>\n",
              "      <td>2</td>\n",
              "      <td>Other sellers</td>\n",
              "      <td>Other servicers</td>\n",
              "      <td>NaN</td>\n",
              "    </tr>\n",
              "    <tr>\n",
              "      <th>4</th>\n",
              "      <td>758</td>\n",
              "      <td>201703</td>\n",
              "      <td>9</td>\n",
              "      <td>203202</td>\n",
              "      <td>24260.0</td>\n",
              "      <td>0</td>\n",
              "      <td>1</td>\n",
              "      <td>P</td>\n",
              "      <td>80</td>\n",
              "      <td>35</td>\n",
              "      <td>117000</td>\n",
              "      <td>80</td>\n",
              "      <td>3.000</td>\n",
              "      <td>R</td>\n",
              "      <td>N</td>\n",
              "      <td>FRM</td>\n",
              "      <td>NE</td>\n",
              "      <td>SF</td>\n",
              "      <td>68800</td>\n",
              "      <td>F117Q1000168</td>\n",
              "      <td>C</td>\n",
              "      <td>180</td>\n",
              "      <td>2</td>\n",
              "      <td>Other sellers</td>\n",
              "      <td>Other servicers</td>\n",
              "      <td>NaN</td>\n",
              "    </tr>\n",
              "  </tbody>\n",
              "</table>\n",
              "</div>"
            ],
            "text/plain": [
              "    0       1  2       3   ...  22             23               24   25\n",
              "0  794  201703  9  204702  ...   2  Other sellers  Other servicers  NaN\n",
              "1  776  201703  N  203202  ...   1  Other sellers  Other servicers  NaN\n",
              "2  795  201703  9  203202  ...   1  Other sellers  Other servicers  NaN\n",
              "3  785  201705  9  204704  ...   2  Other sellers  Other servicers  NaN\n",
              "4  758  201703  9  203202  ...   2  Other sellers  Other servicers  NaN\n",
              "\n",
              "[5 rows x 26 columns]"
            ]
          },
          "metadata": {
            "tags": []
          },
          "execution_count": 3
        }
      ]
    },
    {
      "cell_type": "code",
      "metadata": {
        "id": "uM8CkYFyAQoF"
      },
      "source": [
        "sns.set(style=\"whitegrid\")"
      ],
      "execution_count": 4,
      "outputs": []
    },
    {
      "cell_type": "code",
      "metadata": {
        "id": "-ymEGms5AQoI",
        "colab": {
          "base_uri": "https://localhost:8080/",
          "height": 285
        },
        "outputId": "c5500783-2817-42e9-8830-0903541b26d5"
      },
      "source": [
        "ax = sns.boxplot(x=df[0])"
      ],
      "execution_count": 5,
      "outputs": [
        {
          "output_type": "display_data",
          "data": {
            "image/png": "[encoded data removed]",
            "text/plain": [
              "<Figure size 432x288 with 1 Axes>"
            ]
          },
          "metadata": {
            "tags": []
          }
        }
      ]
    },
    {
      "cell_type": "code",
      "metadata": {
        "id": "IWot-YGVAQoP"
      },
      "source": [
        "df=df[df[0]< 2000]"
      ],
      "execution_count": 6,
      "outputs": []
    },
    {
      "cell_type": "code",
      "metadata": {
        "id": "ECs1IOJQAQoS",
        "colab": {
          "base_uri": "https://localhost:8080/",
          "height": 302
        },
        "outputId": "a3fc682b-c283-49f8-a6c5-d9f667e58f9b"
      },
      "source": [
        "ax = sns.boxplot(x=df[0])\n",
        "ax.set(xlabel='Credit scores')"
      ],
      "execution_count": 7,
      "outputs": [
        {
          "output_type": "execute_result",
          "data": {
            "text/plain": [
              "[Text(0.5, 0, 'Credit scores')]"
            ]
          },
          "metadata": {
            "tags": []
          },
          "execution_count": 7
        },
        {
          "output_type": "display_data",
          "data": {
            "image/png": "[encoded data removed]",
            "text/plain": [
              "<Figure size 432x288 with 1 Axes>"
            ]
          },
          "metadata": {
            "tags": []
          }
        }
      ]
    },
    {
      "cell_type": "code",
      "metadata": {
        "id": "03jqGtatAQoU",
        "colab": {
          "base_uri": "https://localhost:8080/",
          "height": 302
        },
        "outputId": "61f42085-255c-4ce5-ce80-9841ee5867e3"
      },
      "source": [
        "ax = sns.boxplot(x=df[17], y=df[0], data=df)\n",
        "ax.set(xlabel='House type', ylabel='Credit scores')"
      ],
      "execution_count": 8,
      "outputs": [
        {
          "output_type": "execute_result",
          "data": {
            "text/plain": [
              "[Text(0, 0.5, 'Credit scores'), Text(0.5, 0, 'House type')]"
            ]
          },
          "metadata": {
            "tags": []
          },
          "execution_count": 8
        },
        {
          "output_type": "display_data",
          "data": {
            "image/png": "[encoded data removed]",
            "text/plain": [
              "<Figure size 432x288 with 1 Axes>"
            ]
          },
          "metadata": {
            "tags": []
          }
        }
      ]
    },
    {
      "cell_type": "code",
      "metadata": {
        "id": "-STc5NPsAQoW",
        "colab": {
          "base_uri": "https://localhost:8080/",
          "height": 285
        },
        "outputId": "d5036d6d-3461-41f4-8bca-8246dd6fab03"
      },
      "source": [
        "ax = sns.scatterplot(x=df[0], y=df[5],\n",
        "...                      hue=df[17], data=df)"
      ],
      "execution_count": 9,
      "outputs": [
        {
          "output_type": "display_data",
          "data": {
            "image/png": "[encoded data removed]",
            "text/plain": [
              "<Figure size 432x288 with 1 Axes>"
            ]
          },
          "metadata": {
            "tags": []
          }
        }
      ]
    },
    {
      "cell_type": "code",
      "metadata": {
        "id": "ZjKSiE53AQoa"
      },
      "source": [
        "df=df[df[5]< 999]"
      ],
      "execution_count": 10,
      "outputs": []
    },
    {
      "cell_type": "code",
      "metadata": {
        "id": "vlb7StFmAQoc",
        "colab": {
          "base_uri": "https://localhost:8080/",
          "height": 302
        },
        "outputId": "8649561f-4529-4e57-c464-ac12a3b47fbe"
      },
      "source": [
        "ax = sns.scatterplot(x=df[0], y=df[5],\n",
        "...                      hue=df[17], data=df)\n",
        "ax.set(xlabel='Credit scores', ylabel='% of Loan covered by MI')"
      ],
      "execution_count": 11,
      "outputs": [
        {
          "output_type": "execute_result",
          "data": {
            "text/plain": [
              "[Text(0, 0.5, '% of Loan covered by MI'), Text(0.5, 0, 'Credit scores')]"
            ]
          },
          "metadata": {
            "tags": []
          },
          "execution_count": 11
        },
        {
          "output_type": "display_data",
          "data": {
            "image/png": "[encoded data removed]",
            "text/plain": [
              "<Figure size 432x288 with 1 Axes>"
            ]
          },
          "metadata": {
            "tags": []
          }
        }
      ]
    },
    {
      "cell_type": "code",
      "metadata": {
        "id": "zV25n7YjAQoe"
      },
      "source": [
        ""
      ],
      "execution_count": 11,
      "outputs": []
    },
    {
      "cell_type": "code",
      "metadata": {
        "id": "wuCXLaxuHvm_",
        "outputId": "da6d69ff-08d1-45c5-a6ec-2063ef9a37ea",
        "colab": {
          "base_uri": "https://localhost:8080/",
          "height": 483
        }
      },
      "source": [
        "df.corr()"
      ],
      "execution_count": 14,
      "outputs": [
        {
          "output_type": "execute_result",
          "data": {
            "text/html": [
              "<div>\n",
              "<style scoped>\n",
              "    .dataframe tbody tr th:only-of-type {\n",
              "        vertical-align: middle;\n",
              "    }\n",
              "\n",
              "    .dataframe tbody tr th {\n",
              "        vertical-align: top;\n",
              "    }\n",
              "\n",
              "    .dataframe thead th {\n",
              "        text-align: right;\n",
              "    }\n",
              "</style>\n",
              "<table border=\"1\" class=\"dataframe\">\n",
              "  <thead>\n",
              "    <tr style=\"text-align: right;\">\n",
              "      <th></th>\n",
              "      <th>0</th>\n",
              "      <th>1</th>\n",
              "      <th>3</th>\n",
              "      <th>4</th>\n",
              "      <th>5</th>\n",
              "      <th>6</th>\n",
              "      <th>8</th>\n",
              "      <th>9</th>\n",
              "      <th>10</th>\n",
              "      <th>11</th>\n",
              "      <th>12</th>\n",
              "      <th>18</th>\n",
              "      <th>21</th>\n",
              "      <th>22</th>\n",
              "    </tr>\n",
              "  </thead>\n",
              "  <tbody>\n",
              "    <tr>\n",
              "      <th>0</th>\n",
              "      <td>1.000000</td>\n",
              "      <td>0.000580</td>\n",
              "      <td>-0.013182</td>\n",
              "      <td>-0.000345</td>\n",
              "      <td>-0.012874</td>\n",
              "      <td>0.005925</td>\n",
              "      <td>-0.040249</td>\n",
              "      <td>-0.103632</td>\n",
              "      <td>0.034763</td>\n",
              "      <td>-0.044533</td>\n",
              "      <td>-0.264902</td>\n",
              "      <td>-0.009958</td>\n",
              "      <td>-0.013193</td>\n",
              "      <td>-0.043353</td>\n",
              "    </tr>\n",
              "    <tr>\n",
              "      <th>1</th>\n",
              "      <td>0.000580</td>\n",
              "      <td>1.000000</td>\n",
              "      <td>0.035586</td>\n",
              "      <td>-0.000117</td>\n",
              "      <td>-0.011899</td>\n",
              "      <td>0.001559</td>\n",
              "      <td>-0.005552</td>\n",
              "      <td>0.002048</td>\n",
              "      <td>-0.009172</td>\n",
              "      <td>-0.013168</td>\n",
              "      <td>-0.048449</td>\n",
              "      <td>-0.000893</td>\n",
              "      <td>0.005235</td>\n",
              "      <td>-0.004225</td>\n",
              "    </tr>\n",
              "    <tr>\n",
              "      <th>3</th>\n",
              "      <td>-0.013182</td>\n",
              "      <td>0.035586</td>\n",
              "      <td>1.000000</td>\n",
              "      <td>0.028012</td>\n",
              "      <td>0.225716</td>\n",
              "      <td>0.015623</td>\n",
              "      <td>0.228520</td>\n",
              "      <td>0.078603</td>\n",
              "      <td>0.189841</td>\n",
              "      <td>0.241524</td>\n",
              "      <td>0.605232</td>\n",
              "      <td>0.058566</td>\n",
              "      <td>0.999097</td>\n",
              "      <td>-0.029492</td>\n",
              "    </tr>\n",
              "    <tr>\n",
              "      <th>4</th>\n",
              "      <td>-0.000345</td>\n",
              "      <td>-0.000117</td>\n",
              "      <td>0.028012</td>\n",
              "      <td>1.000000</td>\n",
              "      <td>-0.024947</td>\n",
              "      <td>-0.001296</td>\n",
              "      <td>-0.020385</td>\n",
              "      <td>0.018007</td>\n",
              "      <td>0.081800</td>\n",
              "      <td>-0.024443</td>\n",
              "      <td>0.029501</td>\n",
              "      <td>0.098669</td>\n",
              "      <td>0.027879</td>\n",
              "      <td>0.013208</td>\n",
              "    </tr>\n",
              "    <tr>\n",
              "      <th>5</th>\n",
              "      <td>-0.012874</td>\n",
              "      <td>-0.011899</td>\n",
              "      <td>0.225716</td>\n",
              "      <td>-0.024947</td>\n",
              "      <td>1.000000</td>\n",
              "      <td>-0.078434</td>\n",
              "      <td>0.517552</td>\n",
              "      <td>0.018862</td>\n",
              "      <td>0.094152</td>\n",
              "      <td>0.563605</td>\n",
              "      <td>0.073771</td>\n",
              "      <td>-0.060833</td>\n",
              "      <td>0.226254</td>\n",
              "      <td>-0.002646</td>\n",
              "    </tr>\n",
              "    <tr>\n",
              "      <th>6</th>\n",
              "      <td>0.005925</td>\n",
              "      <td>0.001559</td>\n",
              "      <td>0.015623</td>\n",
              "      <td>-0.001296</td>\n",
              "      <td>-0.078434</td>\n",
              "      <td>1.000000</td>\n",
              "      <td>-0.064082</td>\n",
              "      <td>0.070067</td>\n",
              "      <td>0.078153</td>\n",
              "      <td>-0.065837</td>\n",
              "      <td>0.126430</td>\n",
              "      <td>-0.009903</td>\n",
              "      <td>0.015675</td>\n",
              "      <td>-0.019552</td>\n",
              "    </tr>\n",
              "    <tr>\n",
              "      <th>8</th>\n",
              "      <td>-0.040249</td>\n",
              "      <td>-0.005552</td>\n",
              "      <td>0.228520</td>\n",
              "      <td>-0.020385</td>\n",
              "      <td>0.517552</td>\n",
              "      <td>-0.064082</td>\n",
              "      <td>1.000000</td>\n",
              "      <td>0.028507</td>\n",
              "      <td>0.141013</td>\n",
              "      <td>0.921262</td>\n",
              "      <td>0.163035</td>\n",
              "      <td>-0.065559</td>\n",
              "      <td>0.228613</td>\n",
              "      <td>-0.010058</td>\n",
              "    </tr>\n",
              "    <tr>\n",
              "      <th>9</th>\n",
              "      <td>-0.103632</td>\n",
              "      <td>0.002048</td>\n",
              "      <td>0.078603</td>\n",
              "      <td>0.018007</td>\n",
              "      <td>0.018862</td>\n",
              "      <td>0.070067</td>\n",
              "      <td>0.028507</td>\n",
              "      <td>1.000000</td>\n",
              "      <td>0.093632</td>\n",
              "      <td>0.026967</td>\n",
              "      <td>0.105627</td>\n",
              "      <td>0.045220</td>\n",
              "      <td>0.078576</td>\n",
              "      <td>-0.058266</td>\n",
              "    </tr>\n",
              "    <tr>\n",
              "      <th>10</th>\n",
              "      <td>0.034763</td>\n",
              "      <td>-0.009172</td>\n",
              "      <td>0.189841</td>\n",
              "      <td>0.081800</td>\n",
              "      <td>0.094152</td>\n",
              "      <td>0.078153</td>\n",
              "      <td>0.141013</td>\n",
              "      <td>0.093632</td>\n",
              "      <td>1.000000</td>\n",
              "      <td>0.132943</td>\n",
              "      <td>-0.009450</td>\n",
              "      <td>0.153954</td>\n",
              "      <td>0.190132</td>\n",
              "      <td>0.136713</td>\n",
              "    </tr>\n",
              "    <tr>\n",
              "      <th>11</th>\n",
              "      <td>-0.044533</td>\n",
              "      <td>-0.013168</td>\n",
              "      <td>0.241524</td>\n",
              "      <td>-0.024443</td>\n",
              "      <td>0.563605</td>\n",
              "      <td>-0.065837</td>\n",
              "      <td>0.921262</td>\n",
              "      <td>0.026967</td>\n",
              "      <td>0.132943</td>\n",
              "      <td>1.000000</td>\n",
              "      <td>0.172714</td>\n",
              "      <td>-0.072313</td>\n",
              "      <td>0.242092</td>\n",
              "      <td>-0.017997</td>\n",
              "    </tr>\n",
              "    <tr>\n",
              "      <th>12</th>\n",
              "      <td>-0.264902</td>\n",
              "      <td>-0.048449</td>\n",
              "      <td>0.605232</td>\n",
              "      <td>0.029501</td>\n",
              "      <td>0.073771</td>\n",
              "      <td>0.126430</td>\n",
              "      <td>0.163035</td>\n",
              "      <td>0.105627</td>\n",
              "      <td>-0.009450</td>\n",
              "      <td>0.172714</td>\n",
              "      <td>1.000000</td>\n",
              "      <td>0.085387</td>\n",
              "      <td>0.607053</td>\n",
              "      <td>-0.057095</td>\n",
              "    </tr>\n",
              "    <tr>\n",
              "      <th>18</th>\n",
              "      <td>-0.009958</td>\n",
              "      <td>-0.000893</td>\n",
              "      <td>0.058566</td>\n",
              "      <td>0.098669</td>\n",
              "      <td>-0.060833</td>\n",
              "      <td>-0.009903</td>\n",
              "      <td>-0.065559</td>\n",
              "      <td>0.045220</td>\n",
              "      <td>0.153954</td>\n",
              "      <td>-0.072313</td>\n",
              "      <td>0.085387</td>\n",
              "      <td>1.000000</td>\n",
              "      <td>0.058769</td>\n",
              "      <td>0.034467</td>\n",
              "    </tr>\n",
              "    <tr>\n",
              "      <th>21</th>\n",
              "      <td>-0.013193</td>\n",
              "      <td>0.005235</td>\n",
              "      <td>0.999097</td>\n",
              "      <td>0.027879</td>\n",
              "      <td>0.226254</td>\n",
              "      <td>0.015675</td>\n",
              "      <td>0.228613</td>\n",
              "      <td>0.078576</td>\n",
              "      <td>0.190132</td>\n",
              "      <td>0.242092</td>\n",
              "      <td>0.607053</td>\n",
              "      <td>0.058769</td>\n",
              "      <td>1.000000</td>\n",
              "      <td>-0.029535</td>\n",
              "    </tr>\n",
              "    <tr>\n",
              "      <th>22</th>\n",
              "      <td>-0.043353</td>\n",
              "      <td>-0.004225</td>\n",
              "      <td>-0.029492</td>\n",
              "      <td>0.013208</td>\n",
              "      <td>-0.002646</td>\n",
              "      <td>-0.019552</td>\n",
              "      <td>-0.010058</td>\n",
              "      <td>-0.058266</td>\n",
              "      <td>0.136713</td>\n",
              "      <td>-0.017997</td>\n",
              "      <td>-0.057095</td>\n",
              "      <td>0.034467</td>\n",
              "      <td>-0.029535</td>\n",
              "      <td>1.000000</td>\n",
              "    </tr>\n",
              "  </tbody>\n",
              "</table>\n",
              "</div>"
            ],
            "text/plain": [
              "          0         1         3   ...        18        21        22\n",
              "0   1.000000  0.000580 -0.013182  ... -0.009958 -0.013193 -0.043353\n",
              "1   0.000580  1.000000  0.035586  ... -0.000893  0.005235 -0.004225\n",
              "3  -0.013182  0.035586  1.000000  ...  0.058566  0.999097 -0.029492\n",
              "4  -0.000345 -0.000117  0.028012  ...  0.098669  0.027879  0.013208\n",
              "5  -0.012874 -0.011899  0.225716  ... -0.060833  0.226254 -0.002646\n",
              "6   0.005925  0.001559  0.015623  ... -0.009903  0.015675 -0.019552\n",
              "8  -0.040249 -0.005552  0.228520  ... -0.065559  0.228613 -0.010058\n",
              "9  -0.103632  0.002048  0.078603  ...  0.045220  0.078576 -0.058266\n",
              "10  0.034763 -0.009172  0.189841  ...  0.153954  0.190132  0.136713\n",
              "11 -0.044533 -0.013168  0.241524  ... -0.072313  0.242092 -0.017997\n",
              "12 -0.264902 -0.048449  0.605232  ...  0.085387  0.607053 -0.057095\n",
              "18 -0.009958 -0.000893  0.058566  ...  1.000000  0.058769  0.034467\n",
              "21 -0.013193  0.005235  0.999097  ...  0.058769  1.000000 -0.029535\n",
              "22 -0.043353 -0.004225 -0.029492  ...  0.034467 -0.029535  1.000000\n",
              "\n",
              "[14 rows x 14 columns]"
            ]
          },
          "metadata": {
            "tags": []
          },
          "execution_count": 14
        }
      ]
    },
    {
      "cell_type": "markdown",
      "metadata": {
        "id": "4HAV2CTQ5Y4w"
      },
      "source": [
        "# Exercises"
      ]
    },
    {
      "cell_type": "markdown",
      "metadata": {
        "id": "1m8TDs685buh"
      },
      "source": [
        "# 1.0 You would like to build a supervised learning algorithm to predict interest rates (Column 12). What features would you use?"
      ]
    },
    {
      "cell_type": "code",
      "metadata": {
        "id": "a1FNqHa95ap-"
      },
      "source": [
        ""
      ],
      "execution_count": 11,
      "outputs": []
    },
    {
      "cell_type": "markdown",
      "metadata": {
        "id": "S8VyyXwk5leU"
      },
      "source": [
        "# 2.0 Try using Regression, Random Forest and Neural Networks. \n",
        "* Which performance metric would you use?\n",
        "* Do hyper-parameter tuning. Does the model improve?\n",
        "* Which algorithm works best?"
      ]
    },
    {
      "cell_type": "code",
      "metadata": {
        "id": "QgmF_jQV5uRT"
      },
      "source": [
        "y = df.iloc[:,df.columns.isin([12])]\n",
        "x = df.loc[:, df.columns.isin([3,21])]\n",
        "\n",
        "total_samples=len(df)\n",
        "split = 0.8\n",
        "\n",
        "x_train = x[0:int(total_samples*split)]\n",
        "x_test = x[int(total_samples*split):total_samples]\n",
        "y_train = y[0:int(total_samples*split)]\n",
        "y_test = y[int(total_samples*split):total_samples]"
      ],
      "execution_count": 48,
      "outputs": []
    },
    {
      "cell_type": "code",
      "metadata": {
        "id": "HHmPYoe8SBSj",
        "outputId": "74510ba1-91db-45d4-c5a5-49aaceb573b7",
        "colab": {
          "base_uri": "https://localhost:8080/",
          "height": 419
        }
      },
      "source": [
        "x"
      ],
      "execution_count": 24,
      "outputs": [
        {
          "output_type": "execute_result",
          "data": {
            "text/html": [
              "<div>\n",
              "<style scoped>\n",
              "    .dataframe tbody tr th:only-of-type {\n",
              "        vertical-align: middle;\n",
              "    }\n",
              "\n",
              "    .dataframe tbody tr th {\n",
              "        vertical-align: top;\n",
              "    }\n",
              "\n",
              "    .dataframe thead th {\n",
              "        text-align: right;\n",
              "    }\n",
              "</style>\n",
              "<table border=\"1\" class=\"dataframe\">\n",
              "  <thead>\n",
              "    <tr style=\"text-align: right;\">\n",
              "      <th></th>\n",
              "      <th>3</th>\n",
              "      <th>21</th>\n",
              "    </tr>\n",
              "  </thead>\n",
              "  <tbody>\n",
              "    <tr>\n",
              "      <th>0</th>\n",
              "      <td>204702</td>\n",
              "      <td>360</td>\n",
              "    </tr>\n",
              "    <tr>\n",
              "      <th>1</th>\n",
              "      <td>203202</td>\n",
              "      <td>180</td>\n",
              "    </tr>\n",
              "    <tr>\n",
              "      <th>2</th>\n",
              "      <td>203202</td>\n",
              "      <td>180</td>\n",
              "    </tr>\n",
              "    <tr>\n",
              "      <th>3</th>\n",
              "      <td>204704</td>\n",
              "      <td>360</td>\n",
              "    </tr>\n",
              "    <tr>\n",
              "      <th>4</th>\n",
              "      <td>203202</td>\n",
              "      <td>180</td>\n",
              "    </tr>\n",
              "    <tr>\n",
              "      <th>...</th>\n",
              "      <td>...</td>\n",
              "      <td>...</td>\n",
              "    </tr>\n",
              "    <tr>\n",
              "      <th>49995</th>\n",
              "      <td>204806</td>\n",
              "      <td>360</td>\n",
              "    </tr>\n",
              "    <tr>\n",
              "      <th>49996</th>\n",
              "      <td>204807</td>\n",
              "      <td>360</td>\n",
              "    </tr>\n",
              "    <tr>\n",
              "      <th>49997</th>\n",
              "      <td>204801</td>\n",
              "      <td>360</td>\n",
              "    </tr>\n",
              "    <tr>\n",
              "      <th>49998</th>\n",
              "      <td>204809</td>\n",
              "      <td>360</td>\n",
              "    </tr>\n",
              "    <tr>\n",
              "      <th>49999</th>\n",
              "      <td>204806</td>\n",
              "      <td>360</td>\n",
              "    </tr>\n",
              "  </tbody>\n",
              "</table>\n",
              "<p>49993 rows × 2 columns</p>\n",
              "</div>"
            ],
            "text/plain": [
              "           3    21\n",
              "0      204702  360\n",
              "1      203202  180\n",
              "2      203202  180\n",
              "3      204704  360\n",
              "4      203202  180\n",
              "...       ...  ...\n",
              "49995  204806  360\n",
              "49996  204807  360\n",
              "49997  204801  360\n",
              "49998  204809  360\n",
              "49999  204806  360\n",
              "\n",
              "[49993 rows x 2 columns]"
            ]
          },
          "metadata": {
            "tags": []
          },
          "execution_count": 24
        }
      ]
    },
    {
      "cell_type": "code",
      "metadata": {
        "id": "QQLYE4ExR2aV"
      },
      "source": [
        "import matplotlib.pyplot as plt\n",
        "import numpy as np\n",
        "import pandas as pd\n",
        "\n",
        "\n",
        "from sklearn import preprocessing\n",
        "from sklearn.cluster import KMeans\n",
        "from sklearn.manifold import TSNE\n",
        "from sklearn.linear_model import LinearRegression\n",
        "from sklearn.ensemble import RandomForestRegressor\n",
        "from sklearn.neural_network import MLPRegressor\n",
        "from sklearn.metrics import mean_squared_error, mean_absolute_error\n",
        "from scipy.spatial.distance import cdist"
      ],
      "execution_count": 36,
      "outputs": []
    },
    {
      "cell_type": "code",
      "metadata": {
        "id": "eHE0rRvHReYO",
        "outputId": "5a7923e2-3286-40b5-9973-75b2f8dbadfe",
        "colab": {
          "base_uri": "https://localhost:8080/"
        }
      },
      "source": [
        "\n",
        "lin_reg_model = LinearRegression() # build model\n",
        "lin_reg_model= lin_reg_model.fit(x_train, y_train) # train model\n",
        "R2 = lin_reg_model.score(x_train, y_train) # coefficient of determination\n",
        "print(lin_reg_model.coef_)"
      ],
      "execution_count": 32,
      "outputs": [
        {
          "output_type": "stream",
          "text": [
            "[[-0.00765919  0.06772319]]\n"
          ],
          "name": "stdout"
        }
      ]
    },
    {
      "cell_type": "code",
      "metadata": {
        "id": "ORJMdwcNSboq"
      },
      "source": [
        "def mean_absolute_percentage_error(y_true, y_pred): \n",
        "    '''\n",
        "    Calculates mean absolute error of the true and predicted values.\n",
        "    '''\n",
        "    y_true, y_pred = np.array(y_true), np.array(y_pred)\n",
        "    count = 0\n",
        "    sum = 0\n",
        "    for a, p in zip(y_true, y_pred):\n",
        "        if(a!=0):\n",
        "            sum+=(abs(a-p)/a)\n",
        "            count+=1\n",
        "    return (sum/count) * 100"
      ],
      "execution_count": 33,
      "outputs": []
    },
    {
      "cell_type": "code",
      "metadata": {
        "id": "7TEVi0DWSbsB"
      },
      "source": [
        "def view_metrics(y_test, predictions, algorithm, samples, total_samples):\n",
        "    '''\n",
        "    Plots the true and predicted values and prints RMS, MAE and MAPE metrics.\n",
        "    '''\n",
        "    fig = plt.figure(figsize=(18,5))\n",
        "    plt.scatter(x=[i for i in range(samples)], y=[x for x in predictions[0:samples]], label='Predicted values')\n",
        "    plt.scatter(x=[i for i in range(samples)], y=[x[0] for x in y_test.values[0:samples]], label='True values')\n",
        "    plt.title('True and Predicted values for test dataset - %s' % algorithm)\n",
        "    plt.legend()\n",
        "    plt.show()\n",
        "    \n",
        "#     fig = plt.figure(figsize=(18,5))\n",
        "#     plt.scatter(x=[i for i in range(total_samples)], y=[x for x in predictions], label='Predicted values')\n",
        "#     plt.scatter(x=[i for i in range(total_samples)], y=[x[0] for x in y_test.values], label='True values')\n",
        "#     plt.title('True and Predicted values for test dataset - %s' % algorithm)\n",
        "#     plt.legend()\n",
        "#     plt.show()\n",
        "\n",
        "    RMS =  np.sqrt(mean_squared_error(y_test, predictions, multioutput='raw_values'))\n",
        "    MAE = mean_absolute_error(y_test, predictions, multioutput='raw_values')\n",
        "    MAPE = mean_absolute_percentage_error(y_test, predictions)\n",
        "    print(\"Root Mean Squared Error:\", RMS)\n",
        "    print(\"Mean Absolute Error\", MAE) \n",
        "    print(\"Mean Absolute Percentage Error\", MAPE)\n",
        "    return RMS, MAE, MAPE"
      ],
      "execution_count": 34,
      "outputs": []
    },
    {
      "cell_type": "code",
      "metadata": {
        "id": "tjc4d_l5SGOW",
        "outputId": "09cef020-7741-446c-a586-9b37488f327c",
        "colab": {
          "base_uri": "https://localhost:8080/",
          "height": 389
        }
      },
      "source": [
        "lin_reg_model_predictions = lin_reg_model.predict(x_test) # make predictions\n",
        "lin_reg_model_metrics = view_metrics(y_test, lin_reg_model_predictions,'Linear Regression', samples = 50, total_samples=2000)\n"
      ],
      "execution_count": 37,
      "outputs": [
        {
          "output_type": "display_data",
          "data": {
            "image/png": "[encoded data removed]",
            "text/plain": [
              "<Figure size 1296x360 with 1 Axes>"
            ]
          },
          "metadata": {
            "tags": []
          }
        },
        {
          "output_type": "stream",
          "text": [
            "Root Mean Squared Error: [0.55333084]\n",
            "Mean Absolute Error [0.43869434]\n",
            "Mean Absolute Percentage Error [10.48353322]\n"
          ],
          "name": "stdout"
        }
      ]
    },
    {
      "cell_type": "code",
      "metadata": {
        "id": "PzJ4JSaLS3t2"
      },
      "source": [
        ""
      ],
      "execution_count": null,
      "outputs": []
    },
    {
      "cell_type": "code",
      "metadata": {
        "id": "xUz-S9O7S3w3"
      },
      "source": [
        "rand_forest_model = RandomForestRegressor(max_depth=5, random_state=0) # build model\n",
        "rand_forest_model = rand_forest_model.fit(x_train, y_train.values.ravel()) # train model\n",
        "RandomForestRegressor(bootstrap=True, criterion='mse', max_depth=5,\n",
        "           max_features='auto', max_leaf_nodes=None,\n",
        "           min_impurity_decrease=0.0, min_impurity_split=None,\n",
        "           min_samples_leaf=1, min_samples_split=2,\n",
        "           min_weight_fraction_leaf=0.0, n_estimators=10, n_jobs=1,\n",
        "           oob_score=False, random_state=0, verbose=0, warm_start=False)\n",
        "feature_importance = rand_forest_model.feature_importances_\n",
        "R2 = rand_forest_model.score(x_train, y_train) # coefficient of determination\n",
        "rand_forest_model_predictions = rand_forest_model.predict(x_test) # make predictions"
      ],
      "execution_count": 38,
      "outputs": []
    },
    {
      "cell_type": "code",
      "metadata": {
        "id": "5zzsYdu8S30y",
        "outputId": "aabf146f-6e29-43af-ae0b-d51d636ff725",
        "colab": {
          "base_uri": "https://localhost:8080/",
          "height": 389
        }
      },
      "source": [
        "rand_forest_model_metrics = view_metrics(y_test, rand_forest_model_predictions,'Random Forest Regressor', samples = 50, total_samples=2000)\n"
      ],
      "execution_count": 39,
      "outputs": [
        {
          "output_type": "display_data",
          "data": {
            "image/png": "[encoded data removed]",
            "text/plain": [
              "<Figure size 1296x360 with 1 Axes>"
            ]
          },
          "metadata": {
            "tags": []
          }
        },
        {
          "output_type": "stream",
          "text": [
            "Root Mean Squared Error: [0.36521317]\n",
            "Mean Absolute Error [0.27344061]\n",
            "Mean Absolute Percentage Error [6.44741878]\n"
          ],
          "name": "stdout"
        }
      ]
    },
    {
      "cell_type": "code",
      "metadata": {
        "id": "COZsX6CLTGul"
      },
      "source": [
        ""
      ],
      "execution_count": null,
      "outputs": []
    },
    {
      "cell_type": "code",
      "metadata": {
        "id": "pMbqdS89TGxL",
        "outputId": "78583351-3270-4ff0-af7f-34dda6792959",
        "colab": {
          "base_uri": "https://localhost:8080/"
        }
      },
      "source": [
        "nn_model = MLPRegressor(hidden_layer_sizes=(10,4),\n",
        "                                    activation='relu', # activation function in the nodes of the neral net\n",
        "                                    solver='adam', # optimizer algorithm\n",
        "                                    learning_rate='constant',\n",
        "                                    learning_rate_init=0.001, # initial learning rate\n",
        "                                    max_iter=300, # max iterations to train for\n",
        "                                    tol = -1, # tolerance for when to stop training should be range 0.001 to 0.0000001, -1 for max_iter\n",
        "                                    shuffle=True,\n",
        "                                    verbose=True) # show details at each iteration\n",
        "nn_model = nn_model.fit(x_train, y_train.values.ravel())"
      ],
      "execution_count": 40,
      "outputs": [
        {
          "output_type": "stream",
          "text": [
            "Iteration 1, loss = 29622194.96445905\n",
            "Iteration 2, loss = 39.57322623\n",
            "Iteration 3, loss = 39.48877244\n",
            "Iteration 4, loss = 39.36458579\n",
            "Iteration 5, loss = 39.24221954\n",
            "Iteration 6, loss = 39.10058378\n",
            "Iteration 7, loss = 38.91763211\n",
            "Iteration 8, loss = 38.71326934\n",
            "Iteration 9, loss = 38.49234649\n",
            "Iteration 10, loss = 38.21111895\n",
            "Iteration 11, loss = 37.94078166\n",
            "Iteration 12, loss = 37.95292505\n",
            "Iteration 13, loss = 37.25895485\n",
            "Iteration 14, loss = 36.91524434\n",
            "Iteration 15, loss = 36.42046182\n",
            "Iteration 16, loss = 35.99548574\n",
            "Iteration 17, loss = 35.44935025\n",
            "Iteration 18, loss = 34.87410684\n",
            "Iteration 19, loss = 34.31011943\n",
            "Iteration 20, loss = 33.64413176\n",
            "Iteration 21, loss = 32.82186726\n",
            "Iteration 22, loss = 32.05943575\n",
            "Iteration 23, loss = 31.41423010\n",
            "Iteration 24, loss = 30.36415549\n",
            "Iteration 25, loss = 29.33460548\n",
            "Iteration 26, loss = 28.51637127\n",
            "Iteration 27, loss = 27.29884113\n",
            "Iteration 28, loss = 26.20368220\n",
            "Iteration 29, loss = 25.06541813\n",
            "Iteration 30, loss = 23.46775406\n",
            "Iteration 31, loss = 22.29263498\n",
            "Iteration 32, loss = 20.61698048\n",
            "Iteration 33, loss = 19.26557409\n",
            "Iteration 34, loss = 17.90263269\n",
            "Iteration 35, loss = 16.73772836\n",
            "Iteration 36, loss = 14.80776648\n",
            "Iteration 37, loss = 13.10648598\n",
            "Iteration 38, loss = 11.77934081\n",
            "Iteration 39, loss = 10.40536166\n",
            "Iteration 40, loss = 9.28102280\n",
            "Iteration 41, loss = 7.66839009\n",
            "Iteration 42, loss = 6.62681826\n",
            "Iteration 43, loss = 5.76935671\n",
            "Iteration 44, loss = 4.46478944\n",
            "Iteration 45, loss = 3.30695650\n",
            "Iteration 46, loss = 3.16314918\n",
            "Iteration 47, loss = 2.31229194\n",
            "Iteration 48, loss = 2.20963864\n",
            "Iteration 49, loss = 153.99778890\n",
            "Iteration 50, loss = 242.34072330\n",
            "Iteration 51, loss = 345.72791103\n",
            "Iteration 52, loss = 251.94487428\n",
            "Iteration 53, loss = 318.52295124\n",
            "Iteration 54, loss = 472.62113466\n",
            "Iteration 55, loss = 236.93975552\n",
            "Iteration 56, loss = 162.62198098\n",
            "Iteration 57, loss = 341.36455937\n",
            "Iteration 58, loss = 416.69421348\n",
            "Iteration 59, loss = 276.19601501\n",
            "Training loss did not improve more than tol=-1.000000 for 10 consecutive epochs. Stopping.\n"
          ],
          "name": "stdout"
        }
      ]
    },
    {
      "cell_type": "code",
      "metadata": {
        "id": "UYtr624JTG1Q"
      },
      "source": [
        "nn_model_predictions = nn_model.predict(x_test)\n"
      ],
      "execution_count": 41,
      "outputs": []
    },
    {
      "cell_type": "code",
      "metadata": {
        "id": "RHYzebwUTQut",
        "outputId": "efc66a61-2630-47d3-a2ba-55f5bf67c4e8",
        "colab": {
          "base_uri": "https://localhost:8080/",
          "height": 389
        }
      },
      "source": [
        "nn_model_metrics = view_metrics(y_test, nn_model_predictions,'Neural Network Regression Model', samples = 50, total_samples=2000)\n"
      ],
      "execution_count": 42,
      "outputs": [
        {
          "output_type": "display_data",
          "data": {
            "image/png": "[encoded data removed]",
            "text/plain": [
              "<Figure size 1296x360 with 1 Axes>"
            ]
          },
          "metadata": {
            "tags": []
          }
        },
        {
          "output_type": "stream",
          "text": [
            "Root Mean Squared Error: [0.76287343]\n",
            "Mean Absolute Error [0.65778239]\n",
            "Mean Absolute Percentage Error [15.71643863]\n"
          ],
          "name": "stdout"
        }
      ]
    },
    {
      "cell_type": "code",
      "metadata": {
        "id": "V7O65wQvTQx-"
      },
      "source": [
        ""
      ],
      "execution_count": null,
      "outputs": []
    },
    {
      "cell_type": "code",
      "metadata": {
        "id": "MC4i-m7iTQ1B"
      },
      "source": [
        ""
      ],
      "execution_count": null,
      "outputs": []
    },
    {
      "cell_type": "markdown",
      "metadata": {
        "id": "wmaNsax151LA"
      },
      "source": [
        "# 3.0 Try TPOT, AutoSKLearn and H20's Automl to see if you can improve performance. Does the model improve?"
      ]
    },
    {
      "cell_type": "code",
      "metadata": {
        "id": "Xk8yNKTF548f",
        "colab": {
          "base_uri": "https://localhost:8080/",
          "height": 902
        },
        "outputId": "ccf79726-f5f5-4246-d151-623768a6be23"
      },
      "source": [
        "!pip install -f http://h2o-release.s3.amazonaws.com/h2o/latest_stable_Py.html h2o\n",
        "import h2o\n",
        "from h2o.automl import H2OAutoML\n",
        "h2o.init(max_mem_size='3G')"
      ],
      "execution_count": 43,
      "outputs": [
        {
          "output_type": "stream",
          "text": [
            "Looking in links: http://h2o-release.s3.amazonaws.com/h2o/latest_stable_Py.html\n",
            "\u001b[33mWARNING: The repository located at h2o-release.s3.amazonaws.com is not a trusted or secure host and is being ignored. If this repository is available via HTTPS we recommend you use HTTPS instead, otherwise you may silence this warning and allow it anyway with '--trusted-host h2o-release.s3.amazonaws.com'.\u001b[0m\n",
            "Collecting h2o\n",
            "\u001b[?25l  Downloading https://files.pythonhosted.org/packages/26/c5/d63a8bfdbeb4ebfb709c010af3e061d89a363204c437cb5527431f6de3d2/h2o-3.32.0.2.tar.gz (164.6MB)\n",
            "\u001b[K     |████████████████████████████████| 164.6MB 77kB/s \n",
            "\u001b[?25hRequirement already satisfied: requests in /usr/local/lib/python3.6/dist-packages (from h2o) (2.23.0)\n",
            "Requirement already satisfied: tabulate in /usr/local/lib/python3.6/dist-packages (from h2o) (0.8.7)\n",
            "Requirement already satisfied: future in /usr/local/lib/python3.6/dist-packages (from h2o) (0.16.0)\n",
            "\u001b[33mWARNING: The repository located at h2o-release.s3.amazonaws.com is not a trusted or secure host and is being ignored. If this repository is available via HTTPS we recommend you use HTTPS instead, otherwise you may silence this warning and allow it anyway with '--trusted-host h2o-release.s3.amazonaws.com'.\u001b[0m\n",
            "Collecting colorama>=0.3.8\n",
            "  Downloading https://files.pythonhosted.org/packages/44/98/5b86278fbbf250d239ae0ecb724f8572af1c91f4a11edf4d36a206189440/colorama-0.4.4-py2.py3-none-any.whl\n",
            "Requirement already satisfied: certifi>=2017.4.17 in /usr/local/lib/python3.6/dist-packages (from requests->h2o) (2020.12.5)\n",
            "Requirement already satisfied: idna<3,>=2.5 in /usr/local/lib/python3.6/dist-packages (from requests->h2o) (2.10)\n",
            "Requirement already satisfied: urllib3!=1.25.0,!=1.25.1,<1.26,>=1.21.1 in /usr/local/lib/python3.6/dist-packages (from requests->h2o) (1.24.3)\n",
            "Requirement already satisfied: chardet<4,>=3.0.2 in /usr/local/lib/python3.6/dist-packages (from requests->h2o) (3.0.4)\n",
            "Building wheels for collected packages: h2o\n",
            "  Building wheel for h2o (setup.py) ... \u001b[?25l\u001b[?25hdone\n",
            "  Created wheel for h2o: filename=h2o-3.32.0.2-py2.py3-none-any.whl size=164620456 sha256=1de38f9a112cd5279cc5baacc6eb4084f56d096274ad35b73af1eef5a634ff87\n",
            "  Stored in directory: /root/.cache/pip/wheels/42/bd/ea/218fd15724eddf6fa7fc8fab802b6fa592e623d87199679721\n",
            "Successfully built h2o\n",
            "Installing collected packages: colorama, h2o\n",
            "Successfully installed colorama-0.4.4 h2o-3.32.0.2\n",
            "Checking whether there is an H2O instance running at http://localhost:54321 ..... not found.\n",
            "Attempting to start a local H2O server...\n",
            "  Java Version: openjdk version \"11.0.9.1\" 2020-11-04; OpenJDK Runtime Environment (build 11.0.9.1+1-Ubuntu-0ubuntu1.18.04); OpenJDK 64-Bit Server VM (build 11.0.9.1+1-Ubuntu-0ubuntu1.18.04, mixed mode, sharing)\n",
            "  Starting server from /usr/local/lib/python3.6/dist-packages/h2o/backend/bin/h2o.jar\n",
            "  Ice root: /tmp/tmpdp4kq8ha\n",
            "  JVM stdout: /tmp/tmpdp4kq8ha/h2o_unknownUser_started_from_python.out\n",
            "  JVM stderr: /tmp/tmpdp4kq8ha/h2o_unknownUser_started_from_python.err\n",
            "  Server is running at http://127.0.0.1:54321\n",
            "Connecting to H2O server at http://127.0.0.1:54321 ... successful.\n"
          ],
          "name": "stdout"
        },
        {
          "output_type": "display_data",
          "data": {
            "text/html": [
              "<div style=\"overflow:auto\"><table style=\"width:50%\"><tr><td>H2O_cluster_uptime:</td>\n",
              "<td>03 secs</td></tr>\n",
              "<tr><td>H2O_cluster_timezone:</td>\n",
              "<td>Etc/UTC</td></tr>\n",
              "<tr><td>H2O_data_parsing_timezone:</td>\n",
              "<td>UTC</td></tr>\n",
              "<tr><td>H2O_cluster_version:</td>\n",
              "<td>3.32.0.2</td></tr>\n",
              "<tr><td>H2O_cluster_version_age:</td>\n",
              "<td>29 days </td></tr>\n",
              "<tr><td>H2O_cluster_name:</td>\n",
              "<td>H2O_from_python_unknownUser_8jbsik</td></tr>\n",
              "<tr><td>H2O_cluster_total_nodes:</td>\n",
              "<td>1</td></tr>\n",
              "<tr><td>H2O_cluster_free_memory:</td>\n",
              "<td>3 Gb</td></tr>\n",
              "<tr><td>H2O_cluster_total_cores:</td>\n",
              "<td>2</td></tr>\n",
              "<tr><td>H2O_cluster_allowed_cores:</td>\n",
              "<td>2</td></tr>\n",
              "<tr><td>H2O_cluster_status:</td>\n",
              "<td>accepting new members, healthy</td></tr>\n",
              "<tr><td>H2O_connection_url:</td>\n",
              "<td>http://127.0.0.1:54321</td></tr>\n",
              "<tr><td>H2O_connection_proxy:</td>\n",
              "<td>{\"http\": null, \"https\": null}</td></tr>\n",
              "<tr><td>H2O_internal_security:</td>\n",
              "<td>False</td></tr>\n",
              "<tr><td>H2O_API_Extensions:</td>\n",
              "<td>Amazon S3, XGBoost, Algos, AutoML, Core V3, TargetEncoder, Core V4</td></tr>\n",
              "<tr><td>Python_version:</td>\n",
              "<td>3.6.9 final</td></tr></table></div>"
            ],
            "text/plain": [
              "--------------------------  ------------------------------------------------------------------\n",
              "H2O_cluster_uptime:         03 secs\n",
              "H2O_cluster_timezone:       Etc/UTC\n",
              "H2O_data_parsing_timezone:  UTC\n",
              "H2O_cluster_version:        3.32.0.2\n",
              "H2O_cluster_version_age:    29 days\n",
              "H2O_cluster_name:           H2O_from_python_unknownUser_8jbsik\n",
              "H2O_cluster_total_nodes:    1\n",
              "H2O_cluster_free_memory:    3 Gb\n",
              "H2O_cluster_total_cores:    2\n",
              "H2O_cluster_allowed_cores:  2\n",
              "H2O_cluster_status:         accepting new members, healthy\n",
              "H2O_connection_url:         http://127.0.0.1:54321\n",
              "H2O_connection_proxy:       {\"http\": null, \"https\": null}\n",
              "H2O_internal_security:      False\n",
              "H2O_API_Extensions:         Amazon S3, XGBoost, Algos, AutoML, Core V3, TargetEncoder, Core V4\n",
              "Python_version:             3.6.9 final\n",
              "--------------------------  ------------------------------------------------------------------"
            ]
          },
          "metadata": {
            "tags": []
          }
        }
      ]
    },
    {
      "cell_type": "code",
      "metadata": {
        "id": "DGlh9fMIVVTC"
      },
      "source": [
        "import requests\n",
        "from io import StringIO"
      ],
      "execution_count": 44,
      "outputs": []
    },
    {
      "cell_type": "code",
      "metadata": {
        "id": "ZJ5x8_aJVgeI",
        "outputId": "6088b876-909e-4946-edb8-41c48996e1a2",
        "colab": {
          "base_uri": "https://localhost:8080/"
        }
      },
      "source": [
        "hf = h2o.H2OFrame(df)\n"
      ],
      "execution_count": 45,
      "outputs": [
        {
          "output_type": "stream",
          "text": [
            "Parse progress: |█████████████████████████████████████████████████████████| 100%\n"
          ],
          "name": "stdout"
        }
      ]
    },
    {
      "cell_type": "code",
      "metadata": {
        "id": "DpDo9o1WZeuP",
        "outputId": "bf17b818-176c-4004-d287-b57ff73550f3",
        "colab": {
          "base_uri": "https://localhost:8080/",
          "height": 250
        }
      },
      "source": [
        "hf"
      ],
      "execution_count": 50,
      "outputs": [
        {
          "output_type": "display_data",
          "data": {
            "text/html": [
              "<table>\n",
              "<thead>\n",
              "<tr><th style=\"text-align: right;\">  0</th><th style=\"text-align: right;\">     1</th><th style=\"text-align: right;\">  2</th><th style=\"text-align: right;\">     3</th><th style=\"text-align: right;\">    4</th><th style=\"text-align: right;\">  5</th><th style=\"text-align: right;\">  6</th><th>7  </th><th style=\"text-align: right;\">  8</th><th style=\"text-align: right;\">  9</th><th style=\"text-align: right;\">    10</th><th style=\"text-align: right;\">  11</th><th style=\"text-align: right;\">   12</th><th>13  </th><th>14  </th><th>15  </th><th>16  </th><th>17  </th><th style=\"text-align: right;\">   18</th><th>19          </th><th>20  </th><th style=\"text-align: right;\">  21</th><th style=\"text-align: right;\">  22</th><th>23           </th><th>24             </th><th style=\"text-align: right;\">  25</th></tr>\n",
              "</thead>\n",
              "<tbody>\n",
              "<tr><td style=\"text-align: right;\">794</td><td style=\"text-align: right;\">201703</td><td style=\"text-align: right;\">  9</td><td style=\"text-align: right;\">204702</td><td style=\"text-align: right;\">24260</td><td style=\"text-align: right;\">  0</td><td style=\"text-align: right;\">  1</td><td>P  </td><td style=\"text-align: right;\"> 74</td><td style=\"text-align: right;\"> 29</td><td style=\"text-align: right;\">129000</td><td style=\"text-align: right;\">  74</td><td style=\"text-align: right;\">3.625</td><td>R   </td><td>N   </td><td>FRM </td><td>NE  </td><td>SF  </td><td style=\"text-align: right;\">68800</td><td>F117Q1000068</td><td>C   </td><td style=\"text-align: right;\"> 360</td><td style=\"text-align: right;\">   2</td><td>Other sellers</td><td>Other servicers</td><td style=\"text-align: right;\"> nan</td></tr>\n",
              "<tr><td style=\"text-align: right;\">776</td><td style=\"text-align: right;\">201703</td><td style=\"text-align: right;\">nan</td><td style=\"text-align: right;\">203202</td><td style=\"text-align: right;\">  nan</td><td style=\"text-align: right;\">  0</td><td style=\"text-align: right;\">  1</td><td>P  </td><td style=\"text-align: right;\"> 50</td><td style=\"text-align: right;\"> 20</td><td style=\"text-align: right;\"> 85000</td><td style=\"text-align: right;\">  50</td><td style=\"text-align: right;\">3    </td><td>R   </td><td>N   </td><td>FRM </td><td>OH  </td><td>SF  </td><td style=\"text-align: right;\">44600</td><td>F117Q1000079</td><td>P   </td><td style=\"text-align: right;\"> 180</td><td style=\"text-align: right;\">   1</td><td>Other sellers</td><td>Other servicers</td><td style=\"text-align: right;\"> nan</td></tr>\n",
              "<tr><td style=\"text-align: right;\">795</td><td style=\"text-align: right;\">201703</td><td style=\"text-align: right;\">  9</td><td style=\"text-align: right;\">203202</td><td style=\"text-align: right;\">49180</td><td style=\"text-align: right;\">  0</td><td style=\"text-align: right;\">  1</td><td>P  </td><td style=\"text-align: right;\"> 55</td><td style=\"text-align: right;\"> 26</td><td style=\"text-align: right;\">143000</td><td style=\"text-align: right;\">  55</td><td style=\"text-align: right;\">2.75 </td><td>R   </td><td>N   </td><td>FRM </td><td>NC  </td><td>SF  </td><td style=\"text-align: right;\">27200</td><td>F117Q1000090</td><td>C   </td><td style=\"text-align: right;\"> 180</td><td style=\"text-align: right;\">   1</td><td>Other sellers</td><td>Other servicers</td><td style=\"text-align: right;\"> nan</td></tr>\n",
              "<tr><td style=\"text-align: right;\">785</td><td style=\"text-align: right;\">201705</td><td style=\"text-align: right;\">  9</td><td style=\"text-align: right;\">204704</td><td style=\"text-align: right;\">  nan</td><td style=\"text-align: right;\"> 30</td><td style=\"text-align: right;\">  1</td><td>P  </td><td style=\"text-align: right;\"> 95</td><td style=\"text-align: right;\"> 20</td><td style=\"text-align: right;\">258000</td><td style=\"text-align: right;\">  95</td><td style=\"text-align: right;\">4.5  </td><td>R   </td><td>N   </td><td>FRM </td><td>OK  </td><td>SF  </td><td style=\"text-align: right;\">74800</td><td>F117Q1000113</td><td>N   </td><td style=\"text-align: right;\"> 360</td><td style=\"text-align: right;\">   2</td><td>Other sellers</td><td>Other servicers</td><td style=\"text-align: right;\"> nan</td></tr>\n",
              "<tr><td style=\"text-align: right;\">758</td><td style=\"text-align: right;\">201703</td><td style=\"text-align: right;\">  9</td><td style=\"text-align: right;\">203202</td><td style=\"text-align: right;\">24260</td><td style=\"text-align: right;\">  0</td><td style=\"text-align: right;\">  1</td><td>P  </td><td style=\"text-align: right;\"> 80</td><td style=\"text-align: right;\"> 35</td><td style=\"text-align: right;\">117000</td><td style=\"text-align: right;\">  80</td><td style=\"text-align: right;\">3    </td><td>R   </td><td>N   </td><td>FRM </td><td>NE  </td><td>SF  </td><td style=\"text-align: right;\">68800</td><td>F117Q1000168</td><td>C   </td><td style=\"text-align: right;\"> 180</td><td style=\"text-align: right;\">   2</td><td>Other sellers</td><td>Other servicers</td><td style=\"text-align: right;\"> nan</td></tr>\n",
              "<tr><td style=\"text-align: right;\">789</td><td style=\"text-align: right;\">201703</td><td style=\"text-align: right;\">  9</td><td style=\"text-align: right;\">203202</td><td style=\"text-align: right;\">21780</td><td style=\"text-align: right;\">  0</td><td style=\"text-align: right;\">  1</td><td>P  </td><td style=\"text-align: right;\"> 59</td><td style=\"text-align: right;\"> 33</td><td style=\"text-align: right;\">417000</td><td style=\"text-align: right;\">  59</td><td style=\"text-align: right;\">3    </td><td>R   </td><td>N   </td><td>FRM </td><td>IN  </td><td>SF  </td><td style=\"text-align: right;\">47600</td><td>F117Q1000245</td><td>C   </td><td style=\"text-align: right;\"> 180</td><td style=\"text-align: right;\">   1</td><td>Other sellers</td><td>Other servicers</td><td style=\"text-align: right;\"> nan</td></tr>\n",
              "<tr><td style=\"text-align: right;\">807</td><td style=\"text-align: right;\">201703</td><td style=\"text-align: right;\">  9</td><td style=\"text-align: right;\">203202</td><td style=\"text-align: right;\">19740</td><td style=\"text-align: right;\">  0</td><td style=\"text-align: right;\">  1</td><td>P  </td><td style=\"text-align: right;\"> 17</td><td style=\"text-align: right;\"> 19</td><td style=\"text-align: right;\"> 63000</td><td style=\"text-align: right;\">  17</td><td style=\"text-align: right;\">3.125</td><td>C   </td><td>N   </td><td>FRM </td><td>CO  </td><td>SF  </td><td style=\"text-align: right;\">80000</td><td>F117Q1000260</td><td>N   </td><td style=\"text-align: right;\"> 180</td><td style=\"text-align: right;\">   2</td><td>Other sellers</td><td>PNCBANK,NATL   </td><td style=\"text-align: right;\"> nan</td></tr>\n",
              "<tr><td style=\"text-align: right;\">772</td><td style=\"text-align: right;\">201704</td><td style=\"text-align: right;\">  9</td><td style=\"text-align: right;\">203203</td><td style=\"text-align: right;\">17860</td><td style=\"text-align: right;\">  0</td><td style=\"text-align: right;\">  1</td><td>P  </td><td style=\"text-align: right;\"> 74</td><td style=\"text-align: right;\"> 42</td><td style=\"text-align: right;\">245000</td><td style=\"text-align: right;\">  74</td><td style=\"text-align: right;\">3.25 </td><td>C   </td><td>N   </td><td>FRM </td><td>MO  </td><td>SF  </td><td style=\"text-align: right;\">65200</td><td>F117Q1000265</td><td>N   </td><td style=\"text-align: right;\"> 180</td><td style=\"text-align: right;\">   1</td><td>USBANKNA     </td><td>USBANKNA       </td><td style=\"text-align: right;\"> nan</td></tr>\n",
              "<tr><td style=\"text-align: right;\">663</td><td style=\"text-align: right;\">201703</td><td style=\"text-align: right;\">  9</td><td style=\"text-align: right;\">203202</td><td style=\"text-align: right;\">38340</td><td style=\"text-align: right;\">  0</td><td style=\"text-align: right;\">  1</td><td>P  </td><td style=\"text-align: right;\"> 52</td><td style=\"text-align: right;\"> 14</td><td style=\"text-align: right;\"> 82000</td><td style=\"text-align: right;\">  52</td><td style=\"text-align: right;\">3    </td><td>R   </td><td>N   </td><td>FRM </td><td>MA  </td><td>SF  </td><td style=\"text-align: right;\"> 1200</td><td>F117Q1000280</td><td>C   </td><td style=\"text-align: right;\"> 180</td><td style=\"text-align: right;\">   1</td><td>Other sellers</td><td>Other servicers</td><td style=\"text-align: right;\"> nan</td></tr>\n",
              "<tr><td style=\"text-align: right;\">710</td><td style=\"text-align: right;\">201703</td><td style=\"text-align: right;\">nan</td><td style=\"text-align: right;\">204702</td><td style=\"text-align: right;\">16580</td><td style=\"text-align: right;\">  0</td><td style=\"text-align: right;\">  1</td><td>P  </td><td style=\"text-align: right;\"> 79</td><td style=\"text-align: right;\"> 27</td><td style=\"text-align: right;\"> 90000</td><td style=\"text-align: right;\">  79</td><td style=\"text-align: right;\">3.5  </td><td>R   </td><td>N   </td><td>FRM </td><td>IL  </td><td>SF  </td><td style=\"text-align: right;\">61800</td><td>F117Q1000283</td><td>P   </td><td style=\"text-align: right;\"> 360</td><td style=\"text-align: right;\">   1</td><td>Other sellers</td><td>Other servicers</td><td style=\"text-align: right;\"> nan</td></tr>\n",
              "</tbody>\n",
              "</table>"
            ]
          },
          "metadata": {
            "tags": []
          }
        },
        {
          "output_type": "execute_result",
          "data": {
            "text/plain": [
              ""
            ]
          },
          "metadata": {
            "tags": []
          },
          "execution_count": 50
        }
      ]
    },
    {
      "cell_type": "code",
      "metadata": {
        "id": "TLeZOxnvWdXS"
      },
      "source": [
        "splits = hf.split_frame(ratios = [0.8], seed = 1)\n",
        "train = splits[0]\n",
        "test = splits[1]"
      ],
      "execution_count": 46,
      "outputs": []
    },
    {
      "cell_type": "code",
      "metadata": {
        "id": "P5UYCMbsZtKw"
      },
      "source": [
        "y='12'"
      ],
      "execution_count": 51,
      "outputs": []
    },
    {
      "cell_type": "code",
      "metadata": {
        "id": "3mcgrWAYWo6W",
        "outputId": "6e8110e4-4629-459f-9e18-dc759a9532d4",
        "colab": {
          "base_uri": "https://localhost:8080/"
        }
      },
      "source": [
        "aml = H2OAutoML(max_runtime_secs =600, seed = 1, project_name = \"H2O_finance\")\n",
        "aml.train(y = y, training_frame = train, leaderboard_frame = test)"
      ],
      "execution_count": 52,
      "outputs": [
        {
          "output_type": "stream",
          "text": [
            "AutoML progress: |██████████████████\n",
            "16:37:28.284: XRT_1_AutoML_20201216_163419 [DRF XRT (Extremely Randomized Trees)] failed: java.lang.AssertionError\n",
            "\n",
            "██████████████████████████████████████| 100%\n"
          ],
          "name": "stdout"
        }
      ]
    },
    {
      "cell_type": "code",
      "metadata": {
        "id": "RtoPK-PuWtgU",
        "outputId": "1c6056d1-5668-442b-802f-ea35c616cb0d",
        "colab": {
          "base_uri": "https://localhost:8080/",
          "height": 250
        }
      },
      "source": [
        "aml.leaderboard.head()\n"
      ],
      "execution_count": 53,
      "outputs": [
        {
          "output_type": "display_data",
          "data": {
            "text/html": [
              "<table>\n",
              "<thead>\n",
              "<tr><th>model_id                                           </th><th style=\"text-align: right;\">  mean_residual_deviance</th><th style=\"text-align: right;\">    rmse</th><th style=\"text-align: right;\">      mse</th><th style=\"text-align: right;\">     mae</th><th style=\"text-align: right;\">    rmsle</th></tr>\n",
              "</thead>\n",
              "<tbody>\n",
              "<tr><td>StackedEnsemble_AllModels_AutoML_20201216_163419   </td><td style=\"text-align: right;\">               0.0505855</td><td style=\"text-align: right;\">0.224912</td><td style=\"text-align: right;\">0.0505855</td><td style=\"text-align: right;\">0.169614</td><td style=\"text-align: right;\">0.0437262</td></tr>\n",
              "<tr><td>StackedEnsemble_BestOfFamily_AutoML_20201216_163419</td><td style=\"text-align: right;\">               0.0507998</td><td style=\"text-align: right;\">0.225388</td><td style=\"text-align: right;\">0.0507998</td><td style=\"text-align: right;\">0.17001 </td><td style=\"text-align: right;\">0.0438204</td></tr>\n",
              "<tr><td>GBM_grid__1_AutoML_20201216_163419_model_2         </td><td style=\"text-align: right;\">               0.0510318</td><td style=\"text-align: right;\">0.225902</td><td style=\"text-align: right;\">0.0510318</td><td style=\"text-align: right;\">0.170409</td><td style=\"text-align: right;\">0.0439251</td></tr>\n",
              "<tr><td>GBM_grid__1_AutoML_20201216_163419_model_1         </td><td style=\"text-align: right;\">               0.0518328</td><td style=\"text-align: right;\">0.227668</td><td style=\"text-align: right;\">0.0518328</td><td style=\"text-align: right;\">0.171767</td><td style=\"text-align: right;\">0.044277 </td></tr>\n",
              "<tr><td>XGBoost_3_AutoML_20201216_163419                   </td><td style=\"text-align: right;\">               0.0531393</td><td style=\"text-align: right;\">0.23052 </td><td style=\"text-align: right;\">0.0531393</td><td style=\"text-align: right;\">0.174815</td><td style=\"text-align: right;\">0.0448086</td></tr>\n",
              "<tr><td>XGBoost_1_AutoML_20201216_163419                   </td><td style=\"text-align: right;\">               0.0542276</td><td style=\"text-align: right;\">0.232868</td><td style=\"text-align: right;\">0.0542276</td><td style=\"text-align: right;\">0.176035</td><td style=\"text-align: right;\">0.0453025</td></tr>\n",
              "<tr><td>XGBoost_grid__1_AutoML_20201216_163419_model_2     </td><td style=\"text-align: right;\">               0.055267 </td><td style=\"text-align: right;\">0.235089</td><td style=\"text-align: right;\">0.055267 </td><td style=\"text-align: right;\">0.178308</td><td style=\"text-align: right;\">0.0457242</td></tr>\n",
              "<tr><td>XGBoost_grid__1_AutoML_20201216_163419_model_1     </td><td style=\"text-align: right;\">               0.0558721</td><td style=\"text-align: right;\">0.236373</td><td style=\"text-align: right;\">0.0558721</td><td style=\"text-align: right;\">0.178469</td><td style=\"text-align: right;\">0.046029 </td></tr>\n",
              "<tr><td>XGBoost_2_AutoML_20201216_163419                   </td><td style=\"text-align: right;\">               0.0572297</td><td style=\"text-align: right;\">0.239227</td><td style=\"text-align: right;\">0.0572297</td><td style=\"text-align: right;\">0.181389</td><td style=\"text-align: right;\">0.0464744</td></tr>\n",
              "<tr><td>GBM_3_AutoML_20201216_163419                       </td><td style=\"text-align: right;\">               0.0579151</td><td style=\"text-align: right;\">0.240656</td><td style=\"text-align: right;\">0.0579151</td><td style=\"text-align: right;\">0.182879</td><td style=\"text-align: right;\">0.0468571</td></tr>\n",
              "</tbody>\n",
              "</table>"
            ]
          },
          "metadata": {
            "tags": []
          }
        },
        {
          "output_type": "execute_result",
          "data": {
            "text/plain": [
              ""
            ]
          },
          "metadata": {
            "tags": []
          },
          "execution_count": 53
        }
      ]
    },
    {
      "cell_type": "code",
      "metadata": {
        "id": "_PmfMK2SeZpO",
        "outputId": "13004119-02aa-4e47-f656-47831570135c",
        "colab": {
          "base_uri": "https://localhost:8080/"
        }
      },
      "source": [
        "perf = aml.leader.model_performance(test)\n",
        "perf\n"
      ],
      "execution_count": 54,
      "outputs": [
        {
          "output_type": "stream",
          "text": [
            "\n",
            "ModelMetricsRegressionGLM: stackedensemble\n",
            "** Reported on test data. **\n",
            "\n",
            "MSE: 0.050585535372284364\n",
            "RMSE: 0.22491228372920044\n",
            "MAE: 0.16961429080569887\n",
            "RMSLE: 0.04372620552260981\n",
            "R^2: 0.7440021311421577\n",
            "Mean Residual Deviance: 0.050585535372284364\n",
            "Null degrees of freedom: 9954\n",
            "Residual degrees of freedom: 9947\n",
            "Null deviance: 1967.2008449461414\n",
            "Residual deviance: 503.5790046310908\n",
            "AIC: -1437.545829264887\n"
          ],
          "name": "stdout"
        },
        {
          "output_type": "execute_result",
          "data": {
            "text/plain": [
              ""
            ]
          },
          "metadata": {
            "tags": []
          },
          "execution_count": 54
        }
      ]
    },
    {
      "cell_type": "code",
      "metadata": {
        "id": "sSvBTkKQegXi"
      },
      "source": [
        "y_test = test[y]\n",
        "y_train = train[y]"
      ],
      "execution_count": 55,
      "outputs": []
    },
    {
      "cell_type": "code",
      "metadata": {
        "id": "YonMai1mexC8",
        "outputId": "3906c5af-8587-49ff-f44c-4785efb6c8d0",
        "colab": {
          "base_uri": "https://localhost:8080/"
        }
      },
      "source": [
        "y_test_vals = y_test.as_data_frame().values.ravel()\n",
        "y_test_pred_vals = aml.leader.predict(test).as_data_frame().values.ravel()"
      ],
      "execution_count": 56,
      "outputs": [
        {
          "output_type": "stream",
          "text": [
            "stackedensemble prediction progress: |████████████████████████████████████| 100%\n"
          ],
          "name": "stdout"
        }
      ]
    },
    {
      "cell_type": "code",
      "metadata": {
        "id": "XOCcGgAIezMc",
        "outputId": "36e5d0be-a3a7-4979-ca82-c625deedf1aa",
        "colab": {
          "base_uri": "https://localhost:8080/"
        }
      },
      "source": [
        "y_train_vals = y_train.as_data_frame().values.ravel()\n",
        "y_train_pred_vals = aml.leader.predict(train).as_data_frame().values.ravel()"
      ],
      "execution_count": 57,
      "outputs": [
        {
          "output_type": "stream",
          "text": [
            "stackedensemble prediction progress: |████████████████████████████████████| 100%\n"
          ],
          "name": "stdout"
        }
      ]
    },
    {
      "cell_type": "code",
      "metadata": {
        "id": "M1dz_ckje1zx"
      },
      "source": [
        "mape_test = mean_absolute_percentage_error(y_test_vals,y_test_pred_vals )\n",
        "mape_train = mean_absolute_percentage_error(y_train_vals,y_train_pred_vals )"
      ],
      "execution_count": 58,
      "outputs": []
    },
    {
      "cell_type": "code",
      "metadata": {
        "id": "4g8KSX1Ne5LN",
        "outputId": "73a1a780-3470-41a7-b93d-ed72e838a84b",
        "colab": {
          "base_uri": "https://localhost:8080/"
        }
      },
      "source": [
        "print(\"Training-set MAPE: \"+str(mape_train))\n",
        "print(\"Test-set MAPE: \"+str(mape_test))"
      ],
      "execution_count": 59,
      "outputs": [
        {
          "output_type": "stream",
          "text": [
            "Training-set MAPE: 3.396836041370043\n",
            "Test-set MAPE: 4.10685521010261\n"
          ],
          "name": "stdout"
        }
      ]
    },
    {
      "cell_type": "code",
      "metadata": {
        "id": "sjYRPRdHe7TH",
        "outputId": "2ba0a353-846e-4226-db2f-0741bd9795ea",
        "colab": {
          "base_uri": "https://localhost:8080/"
        }
      },
      "source": [
        "y_test_vals[0:5]"
      ],
      "execution_count": 60,
      "outputs": [
        {
          "output_type": "execute_result",
          "data": {
            "text/plain": [
              "array([2.75 , 3.5  , 2.875, 4.125, 4.375])"
            ]
          },
          "metadata": {
            "tags": []
          },
          "execution_count": 60
        }
      ]
    },
    {
      "cell_type": "code",
      "metadata": {
        "id": "0w7bTACfe-rH",
        "outputId": "ed4a0b4e-28b3-41c1-d16f-330bbf28eead",
        "colab": {
          "base_uri": "https://localhost:8080/"
        }
      },
      "source": [
        "y_test_pred_vals[0:5]"
      ],
      "execution_count": 61,
      "outputs": [
        {
          "output_type": "execute_result",
          "data": {
            "text/plain": [
              "array([3.48481534, 4.35302972, 3.78878411, 4.12929848, 4.39780547])"
            ]
          },
          "metadata": {
            "tags": []
          },
          "execution_count": 61
        }
      ]
    },
    {
      "cell_type": "code",
      "metadata": {
        "id": "4KvDu_TufAZm"
      },
      "source": [
        ""
      ],
      "execution_count": null,
      "outputs": []
    }
  ]
}