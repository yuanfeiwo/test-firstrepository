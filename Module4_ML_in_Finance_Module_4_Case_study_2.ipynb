{
  "nbformat": 4,
  "nbformat_minor": 0,
  "metadata": {
    "kernelspec": {
      "display_name": "R",
      "language": "R",
      "name": "ir"
    },
    "language_info": {
      "codemirror_mode": "r",
      "file_extension": ".r",
      "mimetype": "text/x-r-source",
      "name": "R",
      "pygments_lexer": "r",
      "version": "3.4.3"
    },
    "colab": {
      "name": "ML in Finance - Module 4 - Case study 2.ipynb",
      "provenance": [],
      "collapsed_sections": [],
      "include_colab_link": true
    }
  },
  "cells": [
    {
      "cell_type": "markdown",
      "metadata": {
        "id": "view-in-github",
        "colab_type": "text"
      },
      "source": [
        "<a href=\"https://colab.research.google.com/github/yuanfeiwo/test-firstrepository/blob/master/Module4_ML_in_Finance_Module_4_Case_study_2.ipynb\" target=\"_parent\"><img src=\"https://colab.research.google.com/assets/colab-badge.svg\" alt=\"Open In Colab\"/></a>"
      ]
    },
    {
      "cell_type": "markdown",
      "metadata": {
        "id": "QtQ71MvQyUh6"
      },
      "source": [
        "# Clustering"
      ]
    },
    {
      "cell_type": "markdown",
      "metadata": {
        "id": "NJDOX8-hyUh7"
      },
      "source": [
        "## Install required packages"
      ]
    },
    {
      "cell_type": "code",
      "metadata": {
        "id": "2Go2lJpryUh8",
        "colab": {
          "base_uri": "https://localhost:8080/"
        },
        "outputId": "a9f78e70-87e6-4f43-b00f-b521d99f1657"
      },
      "source": [
        "install.packages('dplyr')\n",
        "install.packages('cluster')\n",
        "install.packages('Rtsne')\n",
        "install.packages('ggplot2')\n",
        "install.packages('RCurl')"
      ],
      "execution_count": 1,
      "outputs": [
        {
          "output_type": "stream",
          "text": [
            "Installing package into ‘/usr/local/lib/R/site-library’\n",
            "(as ‘lib’ is unspecified)\n",
            "\n",
            "Installing package into ‘/usr/local/lib/R/site-library’\n",
            "(as ‘lib’ is unspecified)\n",
            "\n",
            "Installing package into ‘/usr/local/lib/R/site-library’\n",
            "(as ‘lib’ is unspecified)\n",
            "\n",
            "Installing package into ‘/usr/local/lib/R/site-library’\n",
            "(as ‘lib’ is unspecified)\n",
            "\n",
            "Installing package into ‘/usr/local/lib/R/site-library’\n",
            "(as ‘lib’ is unspecified)\n",
            "\n",
            "also installing the dependency ‘bitops’\n",
            "\n",
            "\n"
          ],
          "name": "stderr"
        }
      ]
    },
    {
      "cell_type": "markdown",
      "metadata": {
        "id": "oEoIUJfcyUh_"
      },
      "source": [
        "## R Packages  imported to assist in the analysis"
      ]
    },
    {
      "cell_type": "markdown",
      "metadata": {
        "id": "v6HDm0P3yUiA"
      },
      "source": [
        "Below are the set of libraries imported into this python notebook that is useful in doing exploratory and predictive data analysis."
      ]
    },
    {
      "cell_type": "code",
      "metadata": {
        "id": "T0JwdRLTyUiB",
        "colab": {
          "base_uri": "https://localhost:8080/"
        },
        "outputId": "a192237c-3f97-4200-bd51-12280e8d32c6"
      },
      "source": [
        "#  Module: Clustering Case Study \n",
        "#  Version 1.1\n",
        "#  Topic : Clustering\n",
        "#  Example source: https://www.kaggle.com/wendykan/lending-club-loan-data\n",
        "#####################################################################\n",
        "#  For support or questions, contact Sri Krishnamurthy at\n",
        "#  sri@quantuniversity.com\n",
        "#  Copyright 2016 QuantUniversity LLC.\n",
        "#####################################################################\n",
        "\n",
        "### R packages\n",
        "## Data wrangling\n",
        "# install.packages(\"dplry\")\n",
        "library(dplyr)\n",
        "\n",
        "## Clustering\n",
        "# install.packages(\"cluster\")\n",
        "library(cluster) # for gower similarity and pam\n",
        "\n",
        "## Visualization \n",
        "# install.packages(\"Rtsne\")\n",
        "# install.packages(\"ggplot2\")\n",
        "library(Rtsne) # for t-SNE plot with dimension reduction \n",
        "library(ggplot2) # for visualization\n",
        "# download data\n",
        "library(RCurl)"
      ],
      "execution_count": 2,
      "outputs": [
        {
          "output_type": "stream",
          "text": [
            "\n",
            "Attaching package: ‘dplyr’\n",
            "\n",
            "\n",
            "The following objects are masked from ‘package:stats’:\n",
            "\n",
            "    filter, lag\n",
            "\n",
            "\n",
            "The following objects are masked from ‘package:base’:\n",
            "\n",
            "    intersect, setdiff, setequal, union\n",
            "\n",
            "\n"
          ],
          "name": "stderr"
        }
      ]
    },
    {
      "cell_type": "markdown",
      "metadata": {
        "id": "U0_epDDOyUiE"
      },
      "source": [
        "## Step 1 Reading data"
      ]
    },
    {
      "cell_type": "code",
      "metadata": {
        "id": "GIVG40MryUiF",
        "colab": {
          "base_uri": "https://localhost:8080/"
        },
        "outputId": "6b26ecd2-6fa6-440f-e15b-ae8bd26a997b"
      },
      "source": [
        "### Step 1 Reading data\n",
        "url <- getURL(\"https://qusandbox-dataset.s3-us-west-2.amazonaws.com/LendingClubLoan.csv\")\n",
        "LendingClubLoan <- read.csv(textConnection(url))\n",
        "LendingClubLoan_Clustering <- dplyr::select(LendingClubLoan, -loan_status_Binary)\n",
        "\n",
        "# Randomly select 5000 rows\n",
        "set.seed(33)\n",
        "LendingClubLoan_Clustering <- LendingClubLoan_Clustering[sample(1:nrow(LendingClubLoan_Clustering),\n",
        "                                                                5000, replace=FALSE), ]\n",
        "str(LendingClubLoan_Clustering)"
      ],
      "execution_count": 3,
      "outputs": [
        {
          "output_type": "stream",
          "text": [
            "'data.frame':\t5000 obs. of  16 variables:\n",
            " $ loan_amnt          : int  12000 22000 25000 5700 35000 16000 6500 5000 10000 2000 ...\n",
            " $ term               : chr  \" 36 months\" \" 60 months\" \" 36 months\" \" 60 months\" ...\n",
            " $ int_rate           : num  5.99 12.69 11.71 18.64 19.03 ...\n",
            " $ installment        : num  365 497 827 147 587 ...\n",
            " $ grade              : chr  \"A\" \"B\" \"B\" \"E\" ...\n",
            " $ sub_grade          : chr  \"A2\" \"B5\" \"B3\" \"E1\" ...\n",
            " $ emp_length         : chr  \"3 years\" \"1 year\" \"10+ years\" \"10+ years\" ...\n",
            " $ home_ownership     : chr  \"MORTGAGE\" \"MORTGAGE\" \"RENT\" \"MORTGAGE\" ...\n",
            " $ annual_inc         : num  36000 115000 70000 107004 99225 ...\n",
            " $ verification_status: chr  \"Source Verified\" \"Verified\" \"Verified\" \"Source Verified\" ...\n",
            " $ issue_d            : chr  \"11-Aug\" \"11-Oct\" \"11-Dec\" \"11-Oct\" ...\n",
            " $ purpose            : chr  \"debt_consolidation\" \"debt_consolidation\" \"debt_consolidation\" \"other\" ...\n",
            " $ addr_state         : chr  \"MD\" \"TX\" \"NY\" \"NJ\" ...\n",
            " $ dti                : num  12.73 0.16 17.14 5.47 12.07 ...\n",
            " $ delinq_2yrs        : int  0 0 0 2 0 0 0 0 0 1 ...\n",
            " $ inq_last_6mths     : int  1 0 1 0 2 2 0 1 0 0 ...\n"
          ],
          "name": "stdout"
        }
      ]
    },
    {
      "cell_type": "markdown",
      "metadata": {
        "id": "aKLkPBedyUiI"
      },
      "source": [
        "## Step 2 Calculating distance\n",
        "Use Gower's distance to measure the distance between two entity. The attribute of entity may contain combinations of logical, numerical, categorical or text data. The distance is calculated as a number between 0 (identical) and 1 (maximally dissimilar)."
      ]
    },
    {
      "cell_type": "code",
      "metadata": {
        "id": "Fza4cZ3CyUiJ",
        "colab": {
          "base_uri": "https://localhost:8080/",
          "height": 232
        },
        "outputId": "d5ed637d-79ec-49ed-c8cf-939d5df5fe70"
      },
      "source": [
        "### Step 2 Calculating distance\n",
        "gower_dist <- daisy(LendingClubLoan_Clustering, metric = \"gower\")\n",
        "\n",
        "## Step 2-1 Checking attributes to ensure the correct methods are being used\n",
        "# (I = interval, N = nominal)\n",
        "summary(gower_dist)"
      ],
      "execution_count": 5,
      "outputs": [
        {
          "output_type": "error",
          "ename": "ERROR",
          "evalue": "ignored",
          "traceback": [
            "Error in daisy(LendingClubLoan_Clustering, metric = \"gower\"): invalid type character for column numbers 2, 5, 6, 7, 8, 10, 11, 12, 13invalid type character for column numbers 2, 5, 6, 7, 8, 10, 11, 12, 13invalid type character for column numbers 2, 5, 6, 7, 8, 10, 11, 12, 13invalid type character for column numbers 2, 5, 6, 7, 8, 10, 11, 12, 13invalid type character for column numbers 2, 5, 6, 7, 8, 10, 11, 12, 13invalid type character for column numbers 2, 5, 6, 7, 8, 10, 11, 12, 13invalid type character for column numbers 2, 5, 6, 7, 8, 10, 11, 12, 13invalid type character for column numbers 2, 5, 6, 7, 8, 10, 11, 12, 13invalid type character for column numbers 2, 5, 6, 7, 8, 10, 11, 12, 13\nTraceback:\n",
            "1. daisy(LendingClubLoan_Clustering, metric = \"gower\")",
            "2. stop(gettextf(\"invalid type %s for column numbers %s\", type2[ina], \n .     pColl(which(ina))))"
          ]
        }
      ]
    },
    {
      "cell_type": "code",
      "metadata": {
        "id": "9c0k-PO6yUiM"
      },
      "source": [
        "#which(gower_mat == min(gower_mat[gower_mat != min(gower_mat)]))"
      ],
      "execution_count": 6,
      "outputs": []
    },
    {
      "cell_type": "markdown",
      "metadata": {
        "id": "AkWnY0QGyUiO"
      },
      "source": [
        "### Step 2-2 Outputting most similar pair"
      ]
    },
    {
      "cell_type": "code",
      "metadata": {
        "id": "OW6BUGDcyUiP",
        "colab": {
          "base_uri": "https://localhost:8080/",
          "height": 130
        },
        "outputId": "0c305cf1-2361-442c-c5a2-170d35af227b"
      },
      "source": [
        "## Step 2-2 Outputting most similar pair\n",
        "gower_mat <- as.matrix(gower_dist)\n",
        "\n",
        "LendingClubLoan_Clustering[\n",
        "  which(gower_mat == min(gower_mat[gower_mat != min(gower_mat)]),\n",
        "        arr.ind = TRUE)[1, ], ]"
      ],
      "execution_count": 7,
      "outputs": [
        {
          "output_type": "error",
          "ename": "ERROR",
          "evalue": "ignored",
          "traceback": [
            "Error in as.matrix(gower_dist): object 'gower_dist' not found\nTraceback:\n",
            "1. as.matrix(gower_dist)"
          ]
        }
      ]
    },
    {
      "cell_type": "markdown",
      "metadata": {
        "id": "cNqUK-DFyUiS"
      },
      "source": [
        "### Step 2-3 Outputting most dissimilar pair"
      ]
    },
    {
      "cell_type": "code",
      "metadata": {
        "id": "3sSPdK8zyUiT"
      },
      "source": [
        "## Step 2-3 Outputting most dissimilar pair\n",
        "LendingClubLoan_Clustering[\n",
        "  which(gower_mat == max(gower_mat[gower_mat != max(gower_mat)]),\n",
        "        arr.ind = TRUE)[1, ], ]"
      ],
      "execution_count": null,
      "outputs": []
    },
    {
      "cell_type": "markdown",
      "metadata": {
        "id": "3QBxe6QJ5D2Y"
      },
      "source": [
        "From the output, you can see that the most similar pair have similar loan information, such as loan amount, grade and interest rate, while the most dissimilar pair are very different from each other. By using Gower distance, you can find some relationships in data."
      ]
    },
    {
      "cell_type": "markdown",
      "metadata": {
        "id": "sLo96JtmyUiV"
      },
      "source": [
        "## Step 3 Selecting number of clusters \n",
        "One method to select the number of clusters is to compute the mean Silhouette Coefficient of all samples and select the number with best performance."
      ]
    },
    {
      "cell_type": "code",
      "metadata": {
        "id": "_mx6JQSeyUiW"
      },
      "source": [
        "### Step 3 Selecting number of clusters \n",
        "sil_width <- c(NA)\n",
        "\n",
        "for(i in 2:10){\n",
        "  pam_fit <- pam(gower_dist,\n",
        "                 diss = TRUE,\n",
        "                 k = i)\n",
        "  \n",
        "  sil_width[i] <- pam_fit$silinfo$avg.width\n",
        "}\n",
        "\n",
        "# Plot sihouette width (higher is better, based on the result, Cluster 3 yields the highest value)\n",
        "plot(1:10, sil_width,\n",
        "     xlab = \"Number of clusters\",\n",
        "     ylab = \"Silhouette Width\")\n",
        "lines(1:10, sil_width)"
      ],
      "execution_count": null,
      "outputs": []
    },
    {
      "cell_type": "markdown",
      "metadata": {
        "id": "c1rbH4Cf5gC7"
      },
      "source": [
        "From the Silhouette Score plotting, the score drops dramatically from 3 to 4 clusters, where you can see the highest score. It seems like 3 is the optimal number of clusters."
      ]
    },
    {
      "cell_type": "markdown",
      "metadata": {
        "id": "PDyQ3orKyUiZ"
      },
      "source": [
        "## Step 4 Partitioning around medoids (PAM)\n",
        "The PAM algorithm is very similar to K-means, mostly because both are partitional algorithms, in other words, they break the dataset into groups (= clustering), while also trying to minimize the error."
      ]
    },
    {
      "cell_type": "markdown",
      "metadata": {
        "id": "3i7FT63DyUia"
      },
      "source": [
        "### Step 4-1 Summary of clustering results"
      ]
    },
    {
      "cell_type": "code",
      "metadata": {
        "scrolled": false,
        "id": "LzSoWyLfyUib"
      },
      "source": [
        "### Step 4 Partitioning around medoids (PAM) \n",
        "## Step 4-1 Summary of clustering results\n",
        "pam_fit <- pam(gower_dist, diss = TRUE, k = 3)\n",
        "\n",
        "pam_results <- LendingClubLoan_Clustering %>%\n",
        "  mutate(cluster = pam_fit$clustering) %>%\n",
        "  group_by(cluster) %>%\n",
        "  do(the_summary = summary(.))\n",
        "\n",
        "pam_results$the_summary"
      ],
      "execution_count": null,
      "outputs": []
    },
    {
      "cell_type": "markdown",
      "metadata": {
        "id": "vaicwxrJyUig"
      },
      "source": [
        "### Step 4-2 Center medoid of each cluster"
      ]
    },
    {
      "cell_type": "code",
      "metadata": {
        "scrolled": true,
        "id": "o24RGOTmyUih"
      },
      "source": [
        "## Step 4-2 Exemplars of each cluster\n",
        "LendingClubLoan_Clustering[pam_fit$medoids, ]"
      ],
      "execution_count": null,
      "outputs": []
    },
    {
      "cell_type": "markdown",
      "metadata": {
        "id": "Mj-6jqUv6rQO"
      },
      "source": [
        "You can see that <b>the loan_amnt, int_rate, and grade</b> have significant difference among the clusters."
      ]
    },
    {
      "cell_type": "markdown",
      "metadata": {
        "id": "lvGgiiX9yUik"
      },
      "source": [
        "### Step 4-3 Visualization with reduced-dimension "
      ]
    },
    {
      "cell_type": "code",
      "metadata": {
        "id": "WJCCspJCyUik"
      },
      "source": [
        "## Step 4-3 Visualization with reduced-dimension \n",
        "tsne_obj <- Rtsne(gower_dist, is_distance = TRUE)\n",
        "\n",
        "tsne_data <- tsne_obj$Y %>%\n",
        "  data.frame() %>%\n",
        "  setNames(c(\"X\", \"Y\")) %>%\n",
        "  mutate(cluster = factor(pam_fit$clustering))\n",
        "\n",
        "ggplot(aes(x = X, y = Y), data = tsne_data) +\n",
        "  geom_point(aes(color = cluster)) +\n",
        "  ggtitle(\"Clusters on reduced-dimension\")"
      ],
      "execution_count": null,
      "outputs": []
    },
    {
      "cell_type": "markdown",
      "metadata": {
        "id": "iZfGEwsuyUin"
      },
      "source": [
        "### Step 4-4 Plotting clusters over two variables\n",
        "Try to plot the clusters over several variables, and you will understand how the model separates the clusters.\n",
        "\n",
        "For example, the variables you can use are \"loan_anmt\", \"grade\" and \"int_rate\". When the \"loan_anmt\" is picked for the x-axis, while \"grade\" and \"int_rate\" are picked for the y-axis, what can we tell from these graphs?"
      ]
    },
    {
      "cell_type": "code",
      "metadata": {
        "id": "legSjTNpyUio"
      },
      "source": [
        "## Step 4-4 Plotting clusters over two variables\n",
        "Clustering <- LendingClubLoan_Clustering %>%\n",
        "  mutate(Cluster = pam_fit$clustering)\n",
        "\n",
        "ggplot(aes(x = loan_amnt, y = grade), data = Clustering) +\n",
        "  geom_point(aes(color = factor(Cluster))) +\n",
        "  ggtitle(\"Clusters on two variables\")\n",
        "\n",
        "ggplot(aes(x = loan_amnt, y = int_rate), data = Clustering) + \n",
        "  geom_point(aes(color = factor(Cluster))) +\n",
        "  ggtitle(\"Clusters on two variables\")"
      ],
      "execution_count": null,
      "outputs": []
    },
    {
      "cell_type": "markdown",
      "metadata": {
        "id": "1ADBe0NXyUiq"
      },
      "source": [
        "## Step 5 Agglomerative hierarchical clustering"
      ]
    },
    {
      "cell_type": "markdown",
      "metadata": {
        "id": "CvFw9ZeByUir"
      },
      "source": [
        "### Step 5-1 Computes agglomerative hierarchical clustering\n",
        "Compute the hierarchical clustering using \"manhattan\" metrics."
      ]
    },
    {
      "cell_type": "code",
      "metadata": {
        "id": "7x9qA34fyUis"
      },
      "source": [
        "### Step 5 Agglomerative hierarchical clustering\n",
        "## Step 5-1 Computes agglomerative hierarchical clustering\n",
        "agn1 <- agnes(gower_dist, metric = \"manhattan\", stand = FALSE)"
      ],
      "execution_count": null,
      "outputs": []
    },
    {
      "cell_type": "code",
      "metadata": {
        "id": "-JM3KAWMyUiu"
      },
      "source": [
        "plot(agn1, main= \"Hierarchical clustering\")"
      ],
      "execution_count": null,
      "outputs": []
    },
    {
      "cell_type": "markdown",
      "metadata": {
        "id": "u4Dq2INW9dsk"
      },
      "source": [
        "From the dendrograms, find 6 clusters, where you see large subsets relatively."
      ]
    },
    {
      "cell_type": "markdown",
      "metadata": {
        "id": "FIiRjYl-yUix"
      },
      "source": [
        "### Step 5-2 Visualization on reduced-dimension "
      ]
    },
    {
      "cell_type": "code",
      "metadata": {
        "id": "cL9tvYkFyUix"
      },
      "source": [
        "## Step 5-2 Visualization on reduced-dimension \n",
        "HierarchicalCluster <- LendingClubLoan_Clustering %>%\n",
        "  mutate(Cluster=cutree(agn1,6))\n",
        "\n",
        "tsne_obj <- Rtsne(gower_dist, is_distance = TRUE)\n"
      ],
      "execution_count": null,
      "outputs": []
    },
    {
      "cell_type": "code",
      "metadata": {
        "id": "oFk-gru6yUi3"
      },
      "source": [
        "tsne_data <- tsne_obj$Y %>%\n",
        "  data.frame() %>%\n",
        "  setNames(c(\"X\", \"Y\")) %>%\n",
        "  mutate(cluster = factor(cutree(agn1,6)))\n",
        "\n",
        "ggplot(aes(x = X, y = Y), data = tsne_data) +\n",
        "  geom_point(aes(color = cluster)) +\n",
        "  ggtitle(\"Clusters on reduced-dimension Plot\")"
      ],
      "execution_count": null,
      "outputs": []
    },
    {
      "cell_type": "markdown",
      "metadata": {
        "id": "oZaG1DQw_1Rf"
      },
      "source": [
        "This model creates 6 clusters, 4 of which are large clusters in the plot. It seems like the other 2 clusters are just outliers compared with the large clusters. The data is clustered better than PAM clustering as clearer boundaries are shown between clusters when hierarchical clustering method is used."
      ]
    },
    {
      "cell_type": "markdown",
      "metadata": {
        "id": "ALkCUMycyUi6"
      },
      "source": [
        "### Step 5-3 Visualization on two variables"
      ]
    },
    {
      "cell_type": "code",
      "metadata": {
        "id": "2n_6ZqQJyUi7"
      },
      "source": [
        "## Step 5-3 Visualization on two variables\n",
        "ggplot(aes(x = loan_amnt, y = grade), data = HierarchicalCluster) +\n",
        "  geom_point(aes(color = factor(Cluster))) +\n",
        "  ggtitle(\"Clusters on two variables\")\n",
        "\n",
        "ggplot(aes(x = loan_amnt, y = int_rate), data = HierarchicalCluster) + \n",
        "  geom_point(aes(color = factor(Cluster))) +\n",
        "  ggtitle(\"Clusters on two variables\")"
      ],
      "execution_count": null,
      "outputs": []
    },
    {
      "cell_type": "markdown",
      "metadata": {
        "id": "jQjuMr7Q-OFb"
      },
      "source": [
        "The biggest cluster (pink) ranges in the lowest interest rate (about 5%-12.5%) and grades A and B. Most customers in the cluster have a smaller loan amount than those in other clusters. However, the smallest cluster (goldish-color) has the highest interest rate (about 18%-25%), classified as the grade E, F, G, and the customers in the cluster tend to have a larger amount of loan."
      ]
    }
  ]
}