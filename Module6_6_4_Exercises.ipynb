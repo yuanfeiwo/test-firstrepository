{
  "nbformat": 4,
  "nbformat_minor": 0,
  "metadata": {
    "colab": {
      "name": "6.4 Exercises.ipynb",
      "provenance": [],
      "collapsed_sections": [],
      "include_colab_link": true
    },
    "kernelspec": {
      "name": "python3",
      "display_name": "Python 3"
    }
  },
  "cells": [
    {
      "cell_type": "markdown",
      "metadata": {
        "id": "view-in-github",
        "colab_type": "text"
      },
      "source": [
        "<a href=\"https://colab.research.google.com/github/yuanfeiwo/test-firstrepository/blob/master/Module6_6_4_Exercises.ipynb\" target=\"_parent\"><img src=\"https://colab.research.google.com/assets/colab-badge.svg\" alt=\"Open In Colab\"/></a>"
      ]
    },
    {
      "cell_type": "markdown",
      "metadata": {
        "id": "qkeNj9y6yOxp"
      },
      "source": [
        "# **Project 1:**\n",
        "\n",
        "Bankruptcy prediction has been a subject of interests for almost a century and it still ranks high among hottest topics in economics. The aim of predicting financial distress is to develop a predictive model that combines various econometric measures and allows to foresee a financial condition of a firm.\n",
        "\n",
        "The purpose of the bankruptcy prediction is to assess the financial condition of a company and its future perspectives within the context of longterm operation on the market (Zieba, et al., 2016).\n",
        "\n",
        "Try the Bankruptcy prediction example with a new dataset:\n",
        "https://www.kaggle.com/c/companies-bankruptcy-forecast/data\n",
        "\n",
        "Read: Reference: Zieba, Maciej and Tomczak, Sebastian K and Tomczak, Jakub M (2016), Ensemble Boosted Trees with Synthetic Features Generation in Application to Bankruptcy Prediction, Expert Systems with Applications."
      ]
    },
    {
      "cell_type": "code",
      "metadata": {
        "id": "Gu5lIyFLy_b5",
        "colab": {
          "base_uri": "https://localhost:8080/",
          "height": 130
        },
        "outputId": "7828fd6d-85a4-47fa-adf9-08b0d4a6eea8"
      },
      "source": [
        "#Data fields\n",
        "attr1 - net profit / total assets\n",
        "attr2 - total liabilities / total assets\n",
        "attr3 - working capital / total assets\n",
        "attr4 - current assets / short-term liabilities\n",
        "attr5 - [(cash + short-term securities + receivables - short-term liabilities) / (operating expenses - depreciation)] * 365\n",
        "attr6 - retained earnings / total assets\n",
        "attr7 - EBIT / total assets\n",
        "attr8 - book value of equity / total liabilities\n",
        "attr9 - sales / total assets\n",
        "attr10 - equity / total assets\n",
        "attr11 - (gross profit + extraordinary items + financial expenses) / total assets\n",
        "attr12 - gross profit / short-term liabilities\n",
        "attr13 - (gross profit + depreciation) / sales\n",
        "attr14 - (gross profit + interest) / total assets\n",
        "attr15 - (total liabilities * 365) / (gross profit + depreciation)\n",
        "attr16 - (gross profit + depreciation) / total liabilities\n",
        "attr17 - total assets / total liabilities\n",
        "attr18 - gross profit / total assets\n",
        "attr19 - gross profit / sales\n",
        "attr20 - (inventory * 365) / sales\n",
        "attr21 - sales (n) / sales (n-1)\n",
        "attr22 - profit on operating activities / total assets\n",
        "attr23 - net profit / sales\n",
        "attr24 - gross profit (in 3 years) / total assets\n",
        "attr25 - (equity - share capital) / total assets\n",
        "attr26 - (net profit + depreciation) / total liabilities\n",
        "attr27 - profit on operating activities / financial expenses\n",
        "attr28 - working capital / fixed assets\n",
        "attr29 - logarithm of total assets\n",
        "attr30 - (total liabilities - cash) / sales\n",
        "attr31 - (gross profit + interest) / sales\n",
        "attr32 - (current liabilities * 365) / cost of products sold\n",
        "attr33 - operating expenses / short-term liabilities\n",
        "attr34 - operating expenses / total liabilities\n",
        "attr35 - profit on sales / total assets\n",
        "attr36 - total sales / total assets\n",
        "attr37 - (current assets - inventories) / long-term liabilities\n",
        "attr38 - constant capital / total assets\n",
        "attr39 - profit on sales / sales\n",
        "attr40 - (current assets - inventory - receivables) / short-term liabilities\n",
        "attr41 - total liabilities / ((profit on operating activities + depreciation) * (12/365))\n",
        "attr42 - profit on operating activities / sales\n",
        "attr43 - rotation receivables + inventory turnover in days\n",
        "attr44 - (receivables * 365) / sales\n",
        "attr45 - net profit / inventory\n",
        "attr46 - (current assets - inventory) / short-term liabilities\n",
        "attr47 - (inventory * 365) / cost of products sold\n",
        "attr48 - EBITDA (profit on operating activities - depreciation) / total assets\n",
        "attr49 - EBITDA (profit on operating activities - depreciation) / sales\n",
        "attr50 - current assets / total liabilities\n",
        "attr51 - short-term liabilities / total assets\n",
        "attr52 - (short-term liabilities * 365) / cost of products sold)\n",
        "attr53 - equity / fixed assets\n",
        "attr54 - constant capital / fixed assets\n",
        "attr55 - working capital\n",
        "attr56 - (sales - cost of products sold) / sales\n",
        "attr57 - (current assets - inventory - short-term liabilities) / (sales - gross profit - depreciation)\n",
        "attr58 - total costs /total sales\n",
        "attr59 - long-term liabilities / equity\n",
        "attr60 - sales / inventory\n",
        "attr61 - sales / receivables\n",
        "attr62 - (short-term liabilities *365) / sales\n",
        "attr63 - sales / short-term liabilities\n",
        "attr64 - sales / fixed assets\n",
        "class - the response variable Y: 0 = did not bankrupt; 1 = bankrupt"
      ],
      "execution_count": 1,
      "outputs": [
        {
          "output_type": "error",
          "ename": "SyntaxError",
          "evalue": "ignored",
          "traceback": [
            "\u001b[0;36m  File \u001b[0;32m\"<ipython-input-1-0e47ba12f500>\"\u001b[0;36m, line \u001b[0;32m2\u001b[0m\n\u001b[0;31m    attr1 - net profit / total assets\u001b[0m\n\u001b[0m                     ^\u001b[0m\n\u001b[0;31mSyntaxError\u001b[0m\u001b[0;31m:\u001b[0m invalid syntax\n"
          ]
        }
      ]
    },
    {
      "cell_type": "markdown",
      "metadata": {
        "id": "pruDl9eAzENI"
      },
      "source": [
        "# **Project 2:**\n",
        "\n",
        "Try the Credit card default prediction challenge with this dataset:\n",
        "https://www.kaggle.com/uciml/default-of-credit-card-clients-dataset\n",
        "\n",
        "This dataset contains information on default payments, demographic factors, credit data, history of payment, and bill statements of credit card clients in Taiwan from April 2005 to September 2005.\n",
        "\n",
        "Content\n",
        "There are 25 variables"
      ]
    },
    {
      "cell_type": "code",
      "metadata": {
        "id": "imdGhzp6y7ka",
        "colab": {
          "base_uri": "https://localhost:8080/",
          "height": 130
        },
        "outputId": "9a569352-3d30-420c-e1ed-141fd86d231f"
      },
      "source": [
        "ID: ID of each client\n",
        "LIMIT_BAL: Amount of given credit in NT dollars (includes individual and family/supplementary credit\n",
        "SEX: Gender (1=male, 2=female)\n",
        "EDUCATION: (1=graduate school, 2=university, 3=high school, 4=others, 5=unknown, 6=unknown)\n",
        "MARRIAGE: Marital status (1=married, 2=single, 3=others)\n",
        "AGE: Age in years\n",
        "PAY_0: Repayment status in September, 2005 (-1=pay duly, 1=payment delay for one month, 2=payment delay for two months, … 8=payment delay for eight months, 9=payment delay for nine months and above)\n",
        "PAY_2: Repayment status in August, 2005 (scale same as above)\n",
        "PAY_3: Repayment status in July, 2005 (scale same as above)\n",
        "PAY_4: Repayment status in June, 2005 (scale same as above)\n",
        "PAY_5: Repayment status in May, 2005 (scale same as above)\n",
        "PAY_6: Repayment status in April, 2005 (scale same as above)\n",
        "BILL_AMT1: Amount of bill statement in September, 2005 (NT dollar)\n",
        "BILL_AMT2: Amount of bill statement in August, 2005 (NT dollar)\n",
        "BILL_AMT3: Amount of bill statement in July, 2005 (NT dollar)\n",
        "BILL_AMT4: Amount of bill statement in June, 2005 (NT dollar)\n",
        "BILL_AMT5: Amount of bill statement in May, 2005 (NT dollar)\n",
        "BILL_AMT6: Amount of bill statement in April, 2005 (NT dollar)\n",
        "PAY_AMT1: Amount of previous payment in September, 2005 (NT dollar)\n",
        "PAY_AMT2: Amount of previous payment in August, 2005 (NT dollar)\n",
        "PAY_AMT3: Amount of previous payment in July, 2005 (NT dollar)\n",
        "PAY_AMT4: Amount of previous payment in June, 2005 (NT dollar)\n",
        "PAY_AMT5: Amount of previous payment in May, 2005 (NT dollar)\n",
        "PAY_AMT6: Amount of previous payment in April, 2005 (NT dollar)\n",
        "default.payment.next.month: Default payment (1=yes, 0=no)\n",
        "Inspiration\n",
        "Some ideas for exploration:"
      ],
      "execution_count": 2,
      "outputs": [
        {
          "output_type": "error",
          "ename": "SyntaxError",
          "evalue": "ignored",
          "traceback": [
            "\u001b[0;36m  File \u001b[0;32m\"<ipython-input-2-21387352d56c>\"\u001b[0;36m, line \u001b[0;32m1\u001b[0m\n\u001b[0;31m    ID: ID of each client\u001b[0m\n\u001b[0m            ^\u001b[0m\n\u001b[0;31mSyntaxError\u001b[0m\u001b[0;31m:\u001b[0m invalid syntax\n"
          ]
        }
      ]
    },
    {
      "cell_type": "code",
      "metadata": {
        "id": "MSHjywIR14zf"
      },
      "source": [
        ""
      ],
      "execution_count": 2,
      "outputs": []
    }
  ]
}