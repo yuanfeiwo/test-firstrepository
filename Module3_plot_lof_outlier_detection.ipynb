{
  "nbformat": 4,
  "nbformat_minor": 0,
  "metadata": {
    "kernelspec": {
      "display_name": "Python 3",
      "language": "python",
      "name": "python3"
    },
    "language_info": {
      "codemirror_mode": {
        "name": "ipython",
        "version": 3
      },
      "file_extension": ".py",
      "mimetype": "text/x-python",
      "name": "python",
      "nbconvert_exporter": "python",
      "pygments_lexer": "ipython3",
      "version": "3.8.2"
    },
    "colab": {
      "name": "plot_lof_outlier_detection.ipynb",
      "provenance": [],
      "collapsed_sections": [],
      "include_colab_link": true
    }
  },
  "cells": [
    {
      "cell_type": "markdown",
      "metadata": {
        "id": "view-in-github",
        "colab_type": "text"
      },
      "source": [
        "<a href=\"https://colab.research.google.com/github/yuanfeiwo/test-firstrepository/blob/master/Module3_plot_lof_outlier_detection.ipynb\" target=\"_parent\"><img src=\"https://colab.research.google.com/assets/colab-badge.svg\" alt=\"Open In Colab\"/></a>"
      ]
    },
    {
      "cell_type": "markdown",
      "metadata": {
        "id": "-WJs_G4o65Fj"
      },
      "source": [
        "Source: https://scikit-learn.org/stable/auto_examples/neighbors/plot_lof_outlier_detection.html#sphx-glr-auto-examples-neighbors-plot-lof-outlier-detection-py"
      ]
    },
    {
      "cell_type": "code",
      "metadata": {
        "id": "WZLy_fTG01Cj"
      },
      "source": [
        "%matplotlib inline"
      ],
      "execution_count": null,
      "outputs": []
    },
    {
      "cell_type": "markdown",
      "metadata": {
        "id": "DCcN4OxB01Cn"
      },
      "source": [
        "\n",
        "=================================================\n",
        "Outlier detection with Local Outlier Factor (LOF)\n",
        "=================================================\n",
        "\n",
        "The Local Outlier Factor (LOF) algorithm is an unsupervised anomaly detection\n",
        "method which computes the local density deviation of a given data point with\n",
        "respect to its neighbors. \n",
        "It considers as outliers the samples that have a\n",
        "substantially lower density than their neighbors. \n",
        "\n",
        "This example shows how to\n",
        "use LOF for outlier detection which is the default use case of this estimator\n",
        "in scikit-learn. Note that when LOF is used for outlier detection it has no\n",
        "predict, decision_function and score_samples methods. See\n",
        "`User Guide <outlier_detection>`: for details on the difference between\n",
        "outlier detection and novelty detection and how to use LOF for novelty\n",
        "detection.\n",
        "\n",
        "The number of neighbors considered (parameter n_neighbors) is typically\n",
        "set 1) greater than the minimum number of samples a cluster has to contain,\n",
        "so that other samples can be local outliers relative to this cluster, and 2)\n",
        "smaller than the maximum number of close by samples that can potentially be\n",
        "local outliers.\n",
        "In practice, such informations are generally not available, and taking\n",
        "n_neighbors=20 appears to work well in general.\n"
      ]
    },
    {
      "cell_type": "code",
      "metadata": {
        "id": "5_BLOqAh01Cn",
        "colab": {
          "base_uri": "https://localhost:8080/",
          "height": 34
        },
        "outputId": "1c18db02-19ce-44ab-8ec2-5142e4ac4cf5"
      },
      "source": [
        "import numpy as np\n",
        "import matplotlib.pyplot as plt\n",
        "from sklearn.neighbors import LocalOutlierFactor\n",
        "\n",
        "print(__doc__)\n",
        "\n",
        "np.random.seed(42)\n",
        "\n",
        "# Generate train data\n",
        "X_inliers = 0.3 * np.random.randn(100, 2)\n",
        "X_inliers = np.r_[X_inliers + 2, X_inliers - 2]\n",
        "\n",
        "# Generate some outliers\n",
        "X_outliers = np.random.uniform(low=-4, high=4, size=(20, 2))\n",
        "X = np.r_[X_inliers, X_outliers]\n",
        "\n",
        "n_outliers = len(X_outliers)\n",
        "ground_truth = np.ones(len(X), dtype=int)\n",
        "ground_truth[-n_outliers:] = -1\n"
      ],
      "execution_count": null,
      "outputs": [
        {
          "output_type": "stream",
          "text": [
            "Automatically created module for IPython interactive environment\n"
          ],
          "name": "stdout"
        }
      ]
    },
    {
      "cell_type": "code",
      "metadata": {
        "id": "wyyFYdN47GRA"
      },
      "source": [
        "# fit the model for outlier detection (default)\n",
        "clf = LocalOutlierFactor(n_neighbors=20, contamination=0.1)\n",
        "# use fit_predict to compute the predicted labels of the training samples\n",
        "# (when LOF is used for outlier detection, the estimator has no predict,\n",
        "# decision_function and score_samples methods).\n",
        "y_pred = clf.fit_predict(X)\n",
        "n_errors = (y_pred != ground_truth).sum()\n",
        "X_scores = clf.negative_outlier_factor_"
      ],
      "execution_count": null,
      "outputs": []
    },
    {
      "cell_type": "code",
      "metadata": {
        "id": "1MBctlhI7Ilz",
        "colab": {
          "base_uri": "https://localhost:8080/",
          "height": 295
        },
        "outputId": "8094fe06-1c92-462e-f36b-973ac136b713"
      },
      "source": [
        "# Visualize data\n",
        "plt.title(\"Local Outlier Factor (LOF)\")\n",
        "plt.scatter(X[:, 0], X[:, 1], color='k', s=3., label='Data points')\n",
        "# plot circles with radius proportional to the outlier scores\n",
        "radius = (X_scores.max() - X_scores) / (X_scores.max() - X_scores.min())\n",
        "plt.scatter(X[:, 0], X[:, 1], s=1000 * radius, edgecolors='r',\n",
        "            facecolors='none', label='Outlier scores')\n",
        "plt.axis('tight')\n",
        "plt.xlim((-5, 5))\n",
        "plt.ylim((-5, 5))\n",
        "plt.xlabel(\"prediction errors: %d\" % (n_errors))\n",
        "legend = plt.legend(loc='upper left')\n",
        "legend.legendHandles[0]._sizes = [10]\n",
        "legend.legendHandles[1]._sizes = [20]\n",
        "plt.show()"
      ],
      "execution_count": null,
      "outputs": [
        {
          "output_type": "display_data",
          "data": {
            "image/png": "[encoded data removed]",
            "text/plain": [
              "<Figure size 432x288 with 1 Axes>"
            ]
          },
          "metadata": {
            "tags": [],
            "needs_background": "light"
          }
        }
      ]
    },
    {
      "cell_type": "code",
      "metadata": {
        "id": "UAdaD8377MAT"
      },
      "source": [
        ""
      ],
      "execution_count": null,
      "outputs": []
    }
  ]
}