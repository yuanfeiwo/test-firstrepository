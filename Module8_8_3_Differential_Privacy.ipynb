{
  "nbformat": 4,
  "nbformat_minor": 0,
  "metadata": {
    "kernelspec": {
      "display_name": "Python 3",
      "language": "python",
      "name": "python3"
    },
    "language_info": {
      "codemirror_mode": {
        "name": "ipython",
        "version": 3
      },
      "file_extension": ".py",
      "mimetype": "text/x-python",
      "name": "python",
      "nbconvert_exporter": "python",
      "pygments_lexer": "ipython3",
      "version": "3.6.8"
    },
    "colab": {
      "name": " 8.3 Differential Privacy.ipynb",
      "provenance": [],
      "include_colab_link": true
    }
  },
  "cells": [
    {
      "cell_type": "markdown",
      "metadata": {
        "id": "view-in-github",
        "colab_type": "text"
      },
      "source": [
        "<a href=\"https://colab.research.google.com/github/yuanfeiwo/test-firstrepository/blob/master/Module8_8_3_Differential_Privacy.ipynb\" target=\"_parent\"><img src=\"https://colab.research.google.com/assets/colab-badge.svg\" alt=\"Open In Colab\"/></a>"
      ]
    },
    {
      "cell_type": "markdown",
      "metadata": {
        "id": "Is0EeJkJEBcW"
      },
      "source": [
        "# Getting started: ML with differential privacy in 30 seconds"
      ]
    },
    {
      "cell_type": "code",
      "metadata": {
        "id": "5YLlbFlAEOHP",
        "colab": {
          "base_uri": "https://localhost:8080/"
        },
        "outputId": "3a8da8b9-53a1-45b4-8fe9-740975020a3c"
      },
      "source": [
        "!pip install diffprivlib"
      ],
      "execution_count": 1,
      "outputs": [
        {
          "output_type": "stream",
          "text": [
            "Collecting diffprivlib\n",
            "\u001b[?25l  Downloading https://files.pythonhosted.org/packages/89/13/8fe48455626a93d9e8549f9c961323b953e09fb8f0ae2f83056ed57a0a69/diffprivlib-0.4.0.tar.gz (76kB)\n",
            "\r\u001b[K     |████▎                           | 10kB 13.1MB/s eta 0:00:01\r\u001b[K     |████████▌                       | 20kB 18.3MB/s eta 0:00:01\r\u001b[K     |████████████▉                   | 30kB 23.0MB/s eta 0:00:01\r\u001b[K     |█████████████████               | 40kB 24.3MB/s eta 0:00:01\r\u001b[K     |█████████████████████▍          | 51kB 18.2MB/s eta 0:00:01\r\u001b[K     |█████████████████████████▋      | 61kB 18.4MB/s eta 0:00:01\r\u001b[K     |█████████████████████████████▉  | 71kB 15.6MB/s eta 0:00:01\r\u001b[K     |████████████████████████████████| 81kB 6.6MB/s \n",
            "\u001b[?25hRequirement already satisfied: numpy>=1.17.0 in /usr/local/lib/python3.6/dist-packages (from diffprivlib) (1.19.4)\n",
            "Requirement already satisfied: setuptools>=39.0.1 in /usr/local/lib/python3.6/dist-packages (from diffprivlib) (51.0.0)\n",
            "Requirement already satisfied: scikit-learn>=0.22.0 in /usr/local/lib/python3.6/dist-packages (from diffprivlib) (0.22.2.post1)\n",
            "Requirement already satisfied: scipy>=1.2.1 in /usr/local/lib/python3.6/dist-packages (from diffprivlib) (1.4.1)\n",
            "Requirement already satisfied: joblib>=0.11 in /usr/local/lib/python3.6/dist-packages (from diffprivlib) (1.0.0)\n",
            "Building wheels for collected packages: diffprivlib\n",
            "  Building wheel for diffprivlib (setup.py) ... \u001b[?25l\u001b[?25hdone\n",
            "  Created wheel for diffprivlib: filename=diffprivlib-0.4.0-cp36-none-any.whl size=153475 sha256=a2d72bd3920ab382782f2cb703355c24c11dacc8b67b9eb567998b716e4b9850\n",
            "  Stored in directory: /root/.cache/pip/wheels/8e/b1/57/756d6a954b98452bd026da3067a7a2740b8d46974f41681c6b\n",
            "Successfully built diffprivlib\n",
            "Installing collected packages: diffprivlib\n",
            "Successfully installed diffprivlib-0.4.0\n"
          ],
          "name": "stdout"
        }
      ]
    },
    {
      "cell_type": "markdown",
      "metadata": {
        "id": "aGtDn3siEBcY"
      },
      "source": [
        "We're using the [Iris dataset](https://archive.ics.uci.edu/ml/datasets/iris), so let's load it and perform an 80/20 train/test split."
      ]
    },
    {
      "cell_type": "code",
      "metadata": {
        "id": "deLWwkgkEBcY"
      },
      "source": [
        "from sklearn import datasets\n",
        "from sklearn.model_selection import train_test_split\n",
        "\n",
        "dataset = datasets.load_iris()\n",
        "X_train, X_test, y_train, y_test = train_test_split(dataset.data, dataset.target, test_size=0.2)"
      ],
      "execution_count": 2,
      "outputs": []
    },
    {
      "cell_type": "markdown",
      "metadata": {
        "id": "iTwYTM0gEBcd"
      },
      "source": [
        "Now, let's train a differentially private naive Bayes classifier. Our classifier __runs just like an `sklearn` classifier__, so you can get up and running quickly.\n",
        "\n",
        "`diffprivlib.models.GaussianNB` can be run __without any parameters__, although this will throw a warning (we need to specify the `bounds` parameter to avoid this). The privacy level is controlled by the parameter `epsilon`, which is passed to the classifier at initialisation (e.g. `GaussianNB(epsilon=0.1)`). The default is `epsilon = 1.0`."
      ]
    },
    {
      "cell_type": "code",
      "metadata": {
        "id": "D0Q7wWlvEBce",
        "colab": {
          "base_uri": "https://localhost:8080/"
        },
        "outputId": "9c3cc837-57a7-4827-b5d7-fefd95055bdd"
      },
      "source": [
        "from diffprivlib.models import GaussianNB\n",
        "\n",
        "clf = GaussianNB()\n",
        "clf.fit(X_train, y_train)"
      ],
      "execution_count": 3,
      "outputs": [
        {
          "output_type": "stream",
          "text": [
            "/usr/local/lib/python3.6/dist-packages/diffprivlib/models/naive_bayes.py:102: PrivacyLeakWarning: Bounds have not been specified and will be calculated on the data provided. This will result in additional privacy leakage. To ensure differential privacy and no additional privacy leakage, specify bounds for each dimension.\n",
            "  \"privacy leakage, specify bounds for each dimension.\", PrivacyLeakWarning)\n"
          ],
          "name": "stderr"
        },
        {
          "output_type": "execute_result",
          "data": {
            "text/plain": [
              "GaussianNB(accountant=BudgetAccountant(spent_budget=[(1.0, 0)]),\n",
              "           bounds=(array([4.3, 2. , 1. , 0.1]), array([7.9, 4.4, 6.7, 2.5])),\n",
              "           epsilon=1.0, priors=None, var_smoothing=1e-09)"
            ]
          },
          "metadata": {
            "tags": []
          },
          "execution_count": 3
        }
      ]
    },
    {
      "cell_type": "markdown",
      "metadata": {
        "id": "O-MpH3EOEBci"
      },
      "source": [
        "We can now classify unseen examples, knowing that the trained model is differentially private and preserves the privacy of the 'individuals' in the training set (flowers are entitled to their privacy too!)."
      ]
    },
    {
      "cell_type": "code",
      "metadata": {
        "id": "Re8jANNqEBcj",
        "colab": {
          "base_uri": "https://localhost:8080/"
        },
        "outputId": "62ccb193-72e1-4a44-d169-31fdb988fb0e"
      },
      "source": [
        "clf.predict(X_test)"
      ],
      "execution_count": 4,
      "outputs": [
        {
          "output_type": "execute_result",
          "data": {
            "text/plain": [
              "array([1, 1, 2, 2, 1, 2, 0, 2, 2, 0, 2, 0, 1, 2, 0, 0, 1, 1, 1, 2, 2, 2,\n",
              "       1, 1, 2, 2, 0, 1, 2, 0])"
            ]
          },
          "metadata": {
            "tags": []
          },
          "execution_count": 4
        }
      ]
    },
    {
      "cell_type": "markdown",
      "metadata": {
        "id": "Wd9rkw_nEBcl"
      },
      "source": [
        "Every time the model is trained with `.fit()`, a different model is produced due to the randomness of differential privacy. The accuracy will therefore change, even if it's re-trained with the same training data. Try it for yourself to find out!"
      ]
    },
    {
      "cell_type": "code",
      "metadata": {
        "id": "uXxWp49jEBcm",
        "colab": {
          "base_uri": "https://localhost:8080/"
        },
        "outputId": "1b04e758-57e5-4255-cec9-0f86b2177b87"
      },
      "source": [
        "print(\"Test accuracy: %f\" % clf.score(X_test, y_test))"
      ],
      "execution_count": 5,
      "outputs": [
        {
          "output_type": "stream",
          "text": [
            "Test accuracy: 0.966667\n"
          ],
          "name": "stdout"
        }
      ]
    },
    {
      "cell_type": "markdown",
      "metadata": {
        "id": "HKWOGZVgEBcp"
      },
      "source": [
        "We can easily evaluate the accuracy of the model for various `epsilon` values and plot it with `matplotlib`."
      ]
    },
    {
      "cell_type": "code",
      "metadata": {
        "id": "eSPSV80qEBcq",
        "colab": {
          "base_uri": "https://localhost:8080/",
          "height": 299
        },
        "outputId": "892573aa-e9bf-4ae5-8055-9b2cd49df7a9"
      },
      "source": [
        "import numpy as np\n",
        "import matplotlib.pyplot as plt\n",
        "\n",
        "epsilons = np.logspace(-2, 2, 50)\n",
        "bounds = ([4.3, 2.0, 1.1, 0.1], [7.9, 4.4, 6.9, 2.5])\n",
        "accuracy = list()\n",
        "\n",
        "for epsilon in epsilons:\n",
        "    clf = GaussianNB(bounds=bounds, epsilon=epsilon)\n",
        "    clf.fit(X_train, y_train)\n",
        "    \n",
        "    accuracy.append(clf.score(X_test, y_test))\n",
        "\n",
        "plt.semilogx(epsilons, accuracy)\n",
        "plt.title(\"Differentially private Naive Bayes accuracy\")\n",
        "plt.xlabel(\"epsilon\")\n",
        "plt.ylabel(\"Accuracy\")\n",
        "plt.show()"
      ],
      "execution_count": 6,
      "outputs": [
        {
          "output_type": "display_data",
          "data": {
            "image/png": "[encoded data removed]",
            "text/plain": [
              "<Figure size 432x288 with 1 Axes>"
            ]
          },
          "metadata": {
            "tags": [],
            "needs_background": "light"
          }
        }
      ]
    },
    {
      "cell_type": "markdown",
      "metadata": {
        "id": "Nm_P2oNAEBcs"
      },
      "source": [
        "Congratulations, you've completed your first differentially private machine learning task with the Differential Privacy Library!  Check out more examples in the [notebooks](./) directory, or [dive straight in](../diffprivlib/)."
      ]
    }
  ]
}